{
  "cells": [
    {
      "cell_type": "markdown",
      "metadata": {
        "id": "T6-YLqx4OCrj"
      },
      "source": [
        "# Setup"
      ]
    },
    {
      "cell_type": "code",
      "execution_count": 141,
      "metadata": {},
      "outputs": [],
      "source": [
        "import warnings\n",
        "warnings.simplefilter(\"ignore\")"
      ]
    },
    {
      "cell_type": "code",
      "execution_count": 142,
      "metadata": {
        "id": "hlP03EfNHGeb"
      },
      "outputs": [],
      "source": [
        "try:\n",
        "  import geopandas as gpd\n",
        "except ModuleNotFoundError as e:\n",
        "  !pip install geopandas==0.14.0\n",
        "  import geopandas as gpd\n",
        "  if gpd.__version__ != \"0.14.0\":\n",
        "    !pip install -U geopandas==0.10.0"
      ]
    },
    {
      "cell_type": "markdown",
      "metadata": {
        "id": "9T1Sft2nHpK8"
      },
      "source": [
        "---\n",
        "\n",
        "# Exercise\n",
        "1. load the shapefile of ISTAT with the information of the provinces\n",
        "- filter it for the province on Bolzano\n",
        "- plot it\n",
        "2. load the shapefile of ISTAT with the informations of the muncipalities\n",
        "- identify the cities of the province selected with the biggest and smallest area\n",
        "- extract all the centroids of the areas expressed in WGS84\n",
        "- extract a representative point for the area of each municipality converted in WGS84\n",
        "- save the points in a GeoJSON file\n",
        "- calculate the distance on the geodentic between the municipality with the big area and smallest area by using the centroid\n",
        "3. download the shapefile of the [Mountain Basins Station](hhttps://media.githubusercontent.com/media/napo/geospatial_datascience_unitn_2023/main/data/idrspacq.zip) of Trentino - projection ETRS89 UTM32N\n",
        "- plot the geometries where CODE is \"0191\" for the table \"d_tipouso.dbf\"\n",
        "- convert in WGS84 and create a KML and plot it on a website\n",
        "\n",
        "---"
      ]
    },
    {
      "cell_type": "markdown",
      "metadata": {
        "id": "r2J9dbENPJND"
      },
      "source": [
        "# Solutions\n",
        "\n",
        "## learning objectives\n",
        "* repeat the concepts on the previous lesson\n",
        "* introduce geopackage\n",
        "* centroid vs representative point"
      ]
    },
    {
      "cell_type": "markdown",
      "metadata": {
        "id": "3fk_8ro1RUbo"
      },
      "source": [
        "--- \n",
        "\n",
        "### Import of the packages"
      ]
    },
    {
      "cell_type": "code",
      "execution_count": 143,
      "metadata": {
        "id": "bFmuagH7H4lZ"
      },
      "outputs": [],
      "source": [
        "import geopandas as gpd\n",
        "import pandas as pd\n",
        "import os\n",
        "import urllib\n",
        "from matplotlib import pyplot as plt  #to avoid the warning message by plotting the geometries"
      ]
    },
    {
      "cell_type": "markdown",
      "metadata": {
        "id": "kP_05UmNVWWj"
      },
      "source": [
        "## 1. load the shapefile of ISTAT with the information of the provinces\n",
        "\n",
        "### This request is replaced with the use of geopackage\n",
        "\n",
        "In the course material a geopackage file is available with all the shapefiles of the administrative limits of ISTAT (2023) with generalized geometries\n",
        "\n",
        "[download](https://github.com/napo/geospatial_datascience_unitn_2023/raw/main/data/istat/istat_administrative_units_2023.gpkg) the file *istat_administrative_units_2023.gpkg* from the repository from \n",
        "directory \"data\""
      ]
    },
    {
      "cell_type": "code",
      "execution_count": 144,
      "metadata": {
        "id": "RWje98iX3dTo"
      },
      "outputs": [],
      "source": [
        "url = 'https://github.com/napo/geospatial_datascience_unitn_2023/raw/main/data/istat/istat_administrative_units_2023.gpkg'"
      ]
    },
    {
      "cell_type": "code",
      "execution_count": 145,
      "metadata": {
        "id": "cdHsCvOThs8P"
      },
      "outputs": [
        {
          "data": {
            "text/plain": [
              "('istat_administrative_units_2023.gpkg',\n",
              " <http.client.HTTPMessage at 0x7fb730216910>)"
            ]
          },
          "execution_count": 145,
          "metadata": {},
          "output_type": "execute_result"
        }
      ],
      "source": [
        "urllib.request.urlretrieve(url ,\"istat_administrative_units_2023.gpkg\")"
      ]
    },
    {
      "cell_type": "markdown",
      "metadata": {
        "id": "gNWFco5RSlpo"
      },
      "source": [
        "### Geopackage\n",
        "![](https://www.ogc.org/pub/www/files/blog/Geopackage_layers.png)\n",
        "\n",
        "[GeoPackage](http://opengeospatial.github.io/e-learning/geopackage/text/basic-index.html) is used for storing and accessing:\n",
        "* Vector feature data\n",
        "* Imagery tile matrix sets\n",
        "* Raster map tile matrix sets\n",
        "* non-spatial tabular data\n",
        "* Metadata that describes other stored data\n",
        "\n",
        "To have a look at the structure of the files, download the files and open them using the basic SQLite3 command-line utility.\n",
        "\n",
        "```\n",
        "sqlite3 istat_administrative_units_2023.gpkg\n",
        "```\n",
        "```\n",
        "SQLite version 3.37.2 2022-01-06 13:25:41\n",
        "Enter \".help\" for usage hints.\n",
        "sqlite>.table\n",
        "```\n",
        "```\n",
        "gpkg_contents                     rtree_macroregions_geom_parent  \n",
        "gpkg_extensions                   rtree_macroregions_geom_rowid   \n",
        "gpkg_geometry_columns             rtree_municipalities_geom       \n",
        "gpkg_metadata                     rtree_municipalities_geom_node  \n",
        "gpkg_metadata_reference           rtree_municipalities_geom_parent\n",
        "gpkg_ogr_contents                 rtree_municipalities_geom_rowid \n",
        "gpkg_spatial_ref_sys              rtree_provincies_geom           \n",
        "gpkg_tile_matrix                  rtree_provincies_geom_node      \n",
        "gpkg_tile_matrix_set              rtree_provincies_geom_parent    \n",
        "macroregions                      rtree_provincies_geom_rowid     \n",
        "municipalities                    rtree_regions_geom              \n",
        "provincies                        rtree_regions_geom_node         \n",
        "regions                           rtree_regions_geom_parent       \n",
        "rtree_macroregions_geom           rtree_regions_geom_rowid        \n",
        "rtree_macroregions_geom_node     \n",
        "```\n",
        "```\n",
        "sqlite> .header on\n",
        "```\n",
        "\n",
        "\n",
        "```\n",
        "sqlite> select * from macroregions;\n",
        "```\n",
        "```\n",
        "fid|geom|COD_RIP|DEN_RIP|Shape_Leng|Shape_Area\n",
        "1|GP|1|Nord-Ovest|2330182.61891|57929577720.9\n",
        "2|GP|2|Nord-Est|2327764.9178|62385087837.3\n",
        "3|GP|3|Centro|2010203.10916|58018645204.4\n",
        "4|GP|4|Sud|2517096.68356|73777950167.2\n",
        "5|GP|5|Isole|2775538.337|49917777679.9\n",
        "```\n",
        "```\n",
        "sqlite> .q\n",
        "```"
      ]
    },
    {
      "cell_type": "markdown",
      "metadata": {
        "id": "gTbuN8zPT7KU"
      },
      "source": [
        "Geopandas can manage geopackage by using [fiona](https://github.com/Toblerity/Fiona)"
      ]
    },
    {
      "cell_type": "code",
      "execution_count": 146,
      "metadata": {
        "id": "Cf37VTckXGso"
      },
      "outputs": [],
      "source": [
        "import fiona"
      ]
    },
    {
      "cell_type": "code",
      "execution_count": 147,
      "metadata": {
        "colab": {
          "base_uri": "https://localhost:8080/"
        },
        "id": "igu8jGNSURc8",
        "outputId": "6e891e81-a3fd-4ab0-e929-06724f217fd6"
      },
      "outputs": [
        {
          "data": {
            "text/plain": [
              "{'DXF': 'rw',\n",
              " 'CSV': 'raw',\n",
              " 'OpenFileGDB': 'raw',\n",
              " 'ESRIJSON': 'r',\n",
              " 'ESRI Shapefile': 'raw',\n",
              " 'FlatGeobuf': 'raw',\n",
              " 'GeoJSON': 'raw',\n",
              " 'GeoJSONSeq': 'raw',\n",
              " 'GPKG': 'raw',\n",
              " 'GML': 'rw',\n",
              " 'OGR_GMT': 'rw',\n",
              " 'GPX': 'rw',\n",
              " 'Idrisi': 'r',\n",
              " 'MapInfo File': 'raw',\n",
              " 'DGN': 'raw',\n",
              " 'PCIDSK': 'raw',\n",
              " 'OGR_PDS': 'r',\n",
              " 'S57': 'r',\n",
              " 'SQLite': 'raw',\n",
              " 'TopoJSON': 'r',\n",
              " 'KML': 'rw'}"
            ]
          },
          "execution_count": 147,
          "metadata": {},
          "output_type": "execute_result"
        }
      ],
      "source": [
        "fiona.supported_drivers"
      ]
    },
    {
      "cell_type": "markdown",
      "metadata": {
        "id": "zmEbOUq1UXVS"
      },
      "source": [
        "```\n",
        "'GPKG': 'raw',\n",
        "```\n",
        "**raw** => **r**ead **a**ppend **w**rite\n",
        "\n",
        "geopandas can:\n",
        "* **r**ead *geopackage* files\n",
        "* **a**append data to a *geopackage* file\n",
        "* **w**rite data to a *geopackage* file"
      ]
    },
    {
      "cell_type": "markdown",
      "metadata": {
        "id": "NYsMWOMmVM03"
      },
      "source": [
        "geopackage can store more layers, so we have to investigate the contents"
      ]
    },
    {
      "cell_type": "code",
      "execution_count": 148,
      "metadata": {
        "colab": {
          "base_uri": "https://localhost:8080/"
        },
        "id": "wpSZ5tBIXB47",
        "outputId": "024ef4b5-b786-432d-b62f-85d8fc000321"
      },
      "outputs": [
        {
          "data": {
            "text/plain": [
              "['municipalities', 'provinces', 'regions', 'macroregions']"
            ]
          },
          "execution_count": 148,
          "metadata": {},
          "output_type": "execute_result"
        }
      ],
      "source": [
        "fiona.listlayers('istat_administrative_units_2023.gpkg')"
      ]
    },
    {
      "cell_type": "code",
      "execution_count": 149,
      "metadata": {
        "id": "a3qnyANlWbyD"
      },
      "outputs": [],
      "source": [
        "provinces = gpd.read_file(\"istat_administrative_units_2023.gpkg\",layer=\"provinces\")"
      ]
    },
    {
      "cell_type": "markdown",
      "metadata": {
        "id": "oAK_mXvi_4oP"
      },
      "source": [
        "*TIP*: you can also download the file directly from geopandas with this function"
      ]
    },
    {
      "cell_type": "code",
      "execution_count": 150,
      "metadata": {
        "colab": {
          "base_uri": "https://localhost:8080/"
        },
        "id": "lobH1r9w_tk0",
        "outputId": "9bf425fd-adb5-420e-ed9b-0f4783ddcae4"
      },
      "outputs": [],
      "source": [
        "provinces = gpd.read_file(url,layer=\"provinces\")"
      ]
    },
    {
      "cell_type": "code",
      "execution_count": 151,
      "metadata": {
        "colab": {
          "base_uri": "https://localhost:8080/",
          "height": 364
        },
        "id": "gcHUE-7VWqaY",
        "outputId": "2ef9c532-839c-4a79-e18a-0c2b202983c2"
      },
      "outputs": [
        {
          "data": {
            "text/html": [
              "<div>\n",
              "<style scoped>\n",
              "    .dataframe tbody tr th:only-of-type {\n",
              "        vertical-align: middle;\n",
              "    }\n",
              "\n",
              "    .dataframe tbody tr th {\n",
              "        vertical-align: top;\n",
              "    }\n",
              "\n",
              "    .dataframe thead th {\n",
              "        text-align: right;\n",
              "    }\n",
              "</style>\n",
              "<table border=\"1\" class=\"dataframe\">\n",
              "  <thead>\n",
              "    <tr style=\"text-align: right;\">\n",
              "      <th></th>\n",
              "      <th>COD_RIP</th>\n",
              "      <th>COD_REG</th>\n",
              "      <th>COD_PROV</th>\n",
              "      <th>COD_CM</th>\n",
              "      <th>COD_UTS</th>\n",
              "      <th>DEN_PROV</th>\n",
              "      <th>DEN_CM</th>\n",
              "      <th>DEN_UTS</th>\n",
              "      <th>SIGLA</th>\n",
              "      <th>TIPO_UTS</th>\n",
              "      <th>geometry</th>\n",
              "    </tr>\n",
              "  </thead>\n",
              "  <tbody>\n",
              "    <tr>\n",
              "      <th>0</th>\n",
              "      <td>1</td>\n",
              "      <td>1</td>\n",
              "      <td>1</td>\n",
              "      <td>201</td>\n",
              "      <td>201</td>\n",
              "      <td>-</td>\n",
              "      <td>Torino</td>\n",
              "      <td>Torino</td>\n",
              "      <td>TO</td>\n",
              "      <td>Citta metropolitana</td>\n",
              "      <td>MULTIPOLYGON (((411015.006 5049970.983, 411266...</td>\n",
              "    </tr>\n",
              "    <tr>\n",
              "      <th>1</th>\n",
              "      <td>1</td>\n",
              "      <td>1</td>\n",
              "      <td>2</td>\n",
              "      <td>0</td>\n",
              "      <td>2</td>\n",
              "      <td>Vercelli</td>\n",
              "      <td>-</td>\n",
              "      <td>Vercelli</td>\n",
              "      <td>VC</td>\n",
              "      <td>Provincia</td>\n",
              "      <td>MULTIPOLYGON (((438328.612 5087208.215, 439028...</td>\n",
              "    </tr>\n",
              "    <tr>\n",
              "      <th>2</th>\n",
              "      <td>1</td>\n",
              "      <td>1</td>\n",
              "      <td>3</td>\n",
              "      <td>0</td>\n",
              "      <td>3</td>\n",
              "      <td>Novara</td>\n",
              "      <td>-</td>\n",
              "      <td>Novara</td>\n",
              "      <td>NO</td>\n",
              "      <td>Provincia</td>\n",
              "      <td>MULTIPOLYGON (((460929.542 5076320.298, 461165...</td>\n",
              "    </tr>\n",
              "  </tbody>\n",
              "</table>\n",
              "</div>"
            ],
            "text/plain": [
              "   COD_RIP  COD_REG  COD_PROV  COD_CM  COD_UTS  DEN_PROV  DEN_CM   DEN_UTS  \\\n",
              "0        1        1         1     201      201         -  Torino    Torino   \n",
              "1        1        1         2       0        2  Vercelli       -  Vercelli   \n",
              "2        1        1         3       0        3    Novara       -    Novara   \n",
              "\n",
              "  SIGLA             TIPO_UTS  \\\n",
              "0    TO  Citta metropolitana   \n",
              "1    VC            Provincia   \n",
              "2    NO            Provincia   \n",
              "\n",
              "                                            geometry  \n",
              "0  MULTIPOLYGON (((411015.006 5049970.983, 411266...  \n",
              "1  MULTIPOLYGON (((438328.612 5087208.215, 439028...  \n",
              "2  MULTIPOLYGON (((460929.542 5076320.298, 461165...  "
            ]
          },
          "execution_count": 151,
          "metadata": {},
          "output_type": "execute_result"
        }
      ],
      "source": [
        "provinces.head(3)"
      ]
    },
    {
      "cell_type": "code",
      "execution_count": 152,
      "metadata": {
        "colab": {
          "base_uri": "https://localhost:8080/"
        },
        "id": "i1MtGFC0VvQu",
        "outputId": "75f4fcb3-efd7-4a2c-ccd7-c491cd5f7c42"
      },
      "outputs": [
        {
          "data": {
            "text/plain": [
              "Index(['COD_RIP', 'COD_REG', 'COD_PROV', 'COD_CM', 'COD_UTS', 'DEN_PROV',\n",
              "       'DEN_CM', 'DEN_UTS', 'SIGLA', 'TIPO_UTS', 'geometry'],\n",
              "      dtype='object')"
            ]
          },
          "execution_count": 152,
          "metadata": {},
          "output_type": "execute_result"
        }
      ],
      "source": [
        "provinces.columns"
      ]
    },
    {
      "cell_type": "markdown",
      "metadata": {
        "id": "9dv1SuJKVsgl"
      },
      "source": [
        "**COD_RIP**<br/>\n",
        "*codice ripartizione*<br/>\n",
        "numeric code of the macroregion of belonging\n",
        "\n",
        "**COD_REG**<br/>\n",
        "*codice regione*<br/>\n",
        "numeric code of the region of belonging\n",
        "\n",
        "**COD_PROV**<br/>\n",
        "*codice provincia*<br/>\n",
        "numeric code of the region of belonging\n",
        "\n",
        "**COD_CM**<br/>\n",
        "*codice comune*<br/>\n",
        "Istat code of the metropolitan city (three characters in\n",
        "reference to all official statistics are\n",
        "numeric format) obtained by adding the value 200 to\n",
        "adopted the statistical codes of the cities\n",
        "corresponding code of the province.\n",
        "\n",
        "**COD_UTS**<br/>\n",
        "*codice unità territoriali sovracomunali*<br/>\n",
        "Numeric code that uniquely identifies the Units\n",
        "territorial supra-municipal on the national territory.\n",
        "\n",
        "**DEN_PROV**<br/>\n",
        "*denominazione provincia*<br/>\n",
        "name of the province\n",
        "\n",
        "**DEN_CM**<br/>\n",
        "*denominazione città metropolitana*<br/>\n",
        "name of the metropolitan city\n",
        "\n",
        "**DEN_UTS**<br/>\n",
        "*denominazione unità territoriale sovracomunale*<br/>\n",
        "Denomination of the supra-municipal territorial units.\n",
        "\n",
        "**SIGLA**<br/>\n",
        "*sigla*<br/>\n",
        "abbreviation\n",
        "\n",
        "**TIPO_UTS**<br/>\n",
        "*tipologia unità territoriale sovracomunale*<br/>\n",
        "kind of supra-municipal territorial units.\n",
        "\n"
      ]
    },
    {
      "cell_type": "markdown",
      "metadata": {
        "id": "k3c2DpbwXVwp"
      },
      "source": [
        "### filter it for an italian provice at your choice (eg. Bolzano)\n",
        "\n",
        "obtain the list of all the provincies"
      ]
    },
    {
      "cell_type": "code",
      "execution_count": 153,
      "metadata": {
        "colab": {
          "base_uri": "https://localhost:8080/"
        },
        "id": "nAivKuiMALan",
        "outputId": "7ec7aea9-486d-4afa-9228-130b54e8d6f8"
      },
      "outputs": [
        {
          "data": {
            "text/plain": [
              "array(['-', 'Vercelli', 'Novara', 'Cuneo', 'Asti', 'Alessandria', 'Aosta',\n",
              "       'Imperia', 'Savona', 'La Spezia', 'Varese', 'Como', 'Sondrio',\n",
              "       'Bergamo', 'Brescia', 'Pavia', 'Cremona', 'Mantova', 'Bolzano',\n",
              "       'Trento', 'Verona', 'Vicenza', 'Belluno', 'Treviso', 'Padova',\n",
              "       'Rovigo', 'Udine', 'Gorizia', 'Trieste', 'Piacenza', 'Parma',\n",
              "       \"Reggio nell'Emilia\", 'Modena', 'Ferrara', 'Ravenna',\n",
              "       \"Forli'-Cesena\", 'Pesaro e Urbino', 'Ancona', 'Macerata',\n",
              "       'Ascoli Piceno', 'Massa Carrara', 'Lucca', 'Pistoia', 'Livorno',\n",
              "       'Pisa', 'Arezzo', 'Siena', 'Grosseto', 'Perugia', 'Terni',\n",
              "       'Viterbo', 'Rieti', 'Latina', 'Frosinone', 'Caserta', 'Benevento',\n",
              "       'Avellino', 'Salerno', \"L'Aquila\", 'Teramo', 'Pescara', 'Chieti',\n",
              "       'Campobasso', 'Foggia', 'Taranto', 'Brindisi', 'Lecce', 'Potenza',\n",
              "       'Matera', 'Cosenza', 'Catanzaro', 'Trapani', 'Agrigento',\n",
              "       'Caltanissetta', 'Enna', 'Ragusa', 'Siracusa', 'Sassari', 'Nuoro',\n",
              "       'Pordenone', 'Isernia', 'Oristano', 'Biella', 'Lecco', 'Lodi',\n",
              "       'Rimini', 'Prato', 'Crotone', 'Vibo Valentia',\n",
              "       'Verbano-Cusio-Ossola', 'Monza e della Brianza', 'Fermo',\n",
              "       'Barletta-Andria-Trani', 'Sud Sardegna'], dtype=object)"
            ]
          },
          "execution_count": 153,
          "metadata": {},
          "output_type": "execute_result"
        }
      ],
      "source": [
        "provinces['DEN_PROV'].unique()"
      ]
    },
    {
      "cell_type": "markdown",
      "metadata": {
        "id": "3xadwHnaAnD1"
      },
      "source": [
        "obtain the list of all the metropolitan ciies"
      ]
    },
    {
      "cell_type": "code",
      "execution_count": 154,
      "metadata": {
        "colab": {
          "base_uri": "https://localhost:8080/"
        },
        "id": "T8nPq64OAtmJ",
        "outputId": "b00502d9-a313-4544-fa23-86223ab134aa"
      },
      "outputs": [
        {
          "data": {
            "text/plain": [
              "array(['Torino', '-', 'Genova', 'Milano', 'Venezia', 'Bologna', 'Firenze',\n",
              "       'Roma', 'Napoli', 'Bari', 'Reggio di Calabria', 'Palermo',\n",
              "       'Messina', 'Catania', 'Cagliari'], dtype=object)"
            ]
          },
          "execution_count": 154,
          "metadata": {},
          "output_type": "execute_result"
        }
      ],
      "source": [
        "provinces.DEN_CM.unique()"
      ]
    },
    {
      "cell_type": "markdown",
      "metadata": {
        "id": "gdaz8GslA6Q8"
      },
      "source": [
        "choose the province of Bolzano"
      ]
    },
    {
      "cell_type": "code",
      "execution_count": 155,
      "metadata": {
        "id": "btDGt41ZIeGO"
      },
      "outputs": [],
      "source": [
        "province_of_bolzano = provinces[provinces['DEN_PROV']=='Bolzano']"
      ]
    },
    {
      "cell_type": "code",
      "execution_count": 156,
      "metadata": {
        "colab": {
          "base_uri": "https://localhost:8080/",
          "height": 197
        },
        "id": "krZReRm1Ihk0",
        "outputId": "3d18dc90-433d-4519-8ec0-b4e18e2a9ede"
      },
      "outputs": [
        {
          "data": {
            "text/html": [
              "<div>\n",
              "<style scoped>\n",
              "    .dataframe tbody tr th:only-of-type {\n",
              "        vertical-align: middle;\n",
              "    }\n",
              "\n",
              "    .dataframe tbody tr th {\n",
              "        vertical-align: top;\n",
              "    }\n",
              "\n",
              "    .dataframe thead th {\n",
              "        text-align: right;\n",
              "    }\n",
              "</style>\n",
              "<table border=\"1\" class=\"dataframe\">\n",
              "  <thead>\n",
              "    <tr style=\"text-align: right;\">\n",
              "      <th></th>\n",
              "      <th>COD_RIP</th>\n",
              "      <th>COD_REG</th>\n",
              "      <th>COD_PROV</th>\n",
              "      <th>COD_CM</th>\n",
              "      <th>COD_UTS</th>\n",
              "      <th>DEN_PROV</th>\n",
              "      <th>DEN_CM</th>\n",
              "      <th>DEN_UTS</th>\n",
              "      <th>SIGLA</th>\n",
              "      <th>TIPO_UTS</th>\n",
              "      <th>geometry</th>\n",
              "    </tr>\n",
              "  </thead>\n",
              "  <tbody>\n",
              "    <tr>\n",
              "      <th>20</th>\n",
              "      <td>2</td>\n",
              "      <td>4</td>\n",
              "      <td>21</td>\n",
              "      <td>0</td>\n",
              "      <td>21</td>\n",
              "      <td>Bolzano</td>\n",
              "      <td>-</td>\n",
              "      <td>Bolzano</td>\n",
              "      <td>BZ</td>\n",
              "      <td>Provincia autonoma</td>\n",
              "      <td>MULTIPOLYGON (((743267.749 5219765.793, 743387...</td>\n",
              "    </tr>\n",
              "  </tbody>\n",
              "</table>\n",
              "</div>"
            ],
            "text/plain": [
              "    COD_RIP  COD_REG  COD_PROV  COD_CM  COD_UTS DEN_PROV DEN_CM  DEN_UTS  \\\n",
              "20        2        4        21       0       21  Bolzano      -  Bolzano   \n",
              "\n",
              "   SIGLA            TIPO_UTS  \\\n",
              "20    BZ  Provincia autonoma   \n",
              "\n",
              "                                             geometry  \n",
              "20  MULTIPOLYGON (((743267.749 5219765.793, 743387...  "
            ]
          },
          "execution_count": 156,
          "metadata": {},
          "output_type": "execute_result"
        }
      ],
      "source": [
        "province_of_bolzano"
      ]
    },
    {
      "cell_type": "markdown",
      "metadata": {
        "id": "8nQ0YPYvZ_2J"
      },
      "source": [
        "### plot it"
      ]
    },
    {
      "cell_type": "code",
      "execution_count": 157,
      "metadata": {
        "colab": {
          "base_uri": "https://localhost:8080/",
          "height": 527
        },
        "id": "J3KKa1HqIk99",
        "outputId": "70b9abd8-13d2-4c1d-c12f-83d3e6bc5597"
      },
      "outputs": [
        {
          "data": {
            "image/png": "[encoded data removed]",
            "text/plain": [
              "<Figure size 1000x1000 with 1 Axes>"
            ]
          },
          "metadata": {},
          "output_type": "display_data"
        }
      ],
      "source": [
        "province_of_bolzano.plot(figsize=(10,10))\n",
        "plt.show()"
      ]
    },
    {
      "cell_type": "markdown",
      "metadata": {
        "id": "sNuk2GFbaEe0"
      },
      "source": [
        "## 2. load the shapefile of ISTAT with the informations of the muncipalities\n",
        "### identify the municipalities of the province selected with the biggest and smallest area\n",
        "\n",
        "this means we need to use another layer / dataset"
      ]
    },
    {
      "cell_type": "code",
      "execution_count": 158,
      "metadata": {
        "colab": {
          "base_uri": "https://localhost:8080/"
        },
        "id": "c6LWnGag-8je",
        "outputId": "2a114033-79de-45b4-8c35-5c09836e805a"
      },
      "outputs": [],
      "source": [
        "municipalities = gpd.read_file(url,layer=\"municipalities\")"
      ]
    },
    {
      "cell_type": "code",
      "execution_count": 159,
      "metadata": {
        "colab": {
          "base_uri": "https://localhost:8080/"
        },
        "id": "XlAUfmNwJojm",
        "outputId": "2e2eefa4-b373-4b8d-e657-15075cc67af5"
      },
      "outputs": [
        {
          "data": {
            "text/plain": [
              "Index(['COD_RIP', 'COD_REG', 'COD_PROV', 'COD_CM', 'COD_UTS', 'PRO_COM',\n",
              "       'PRO_COM_T', 'COMUNE', 'COMUNE_A', 'CC_UTS', 'geometry'],\n",
              "      dtype='object')"
            ]
          },
          "execution_count": 159,
          "metadata": {},
          "output_type": "execute_result"
        }
      ],
      "source": [
        "municipalities.columns"
      ]
    },
    {
      "cell_type": "markdown",
      "metadata": {
        "id": "jX4dEbEt9Zgo"
      },
      "source": [
        "**COD_RIP**<br/>\n",
        "*codice ripartizione*<br/>\n",
        "numeric code of the macroregion of belonging\n",
        "\n",
        "**COD_REG**<br/>\n",
        "*codice regione*<br/>\n",
        "numeric code of the region of belonging\n",
        "\n",
        "**COD_PROV**<br/>\n",
        "*codice provincia*<br/>\n",
        "numeric code of the region of belonging\n",
        "\n",
        "**COD_CM**<br/>\n",
        "*codice comune*<br/>\n",
        "unique numeric identification code of the municipality within the province of belonging\n",
        "\n",
        "**COD_UTS**<br/>\n",
        "*codice unità territoriali sovracomunali*<br/>\n",
        "Numeric code that uniquely identifies the Units\n",
        "territorial supra-municipal on the national territory.\n",
        "\n",
        "**PRO_COM**<br/>\n",
        "*provincia comune**<br/>\n",
        "Numeric code that uniquely identifies the Municipality\n",
        "on the national territory. (= COD_PROV & COD_COM) \n",
        "\n",
        "**PRO_COM_T**<br/>\n",
        "*provincia comune territorio**<br/>\n",
        "Alphanumeric code that uniquely identifies the\n",
        "Municipality on the national territory.<br/>\n",
        "Like PRO_COM but definied in 6 fixed characters.\n",
        "\n",
        "**COMUNE**<br/>\n",
        "*comune*<br/>\n",
        "Name of the Municipality\n",
        "\n",
        "**COMUNE_A**<br/>\n",
        "*comune alternativa*<br/>\n",
        "Name of the Municipality in a language other than Italian\n",
        "\n",
        "**CC_UTS**<br/>\n",
        "*comune capoluogo*<br/>\n",
        "Provincial capital or metropolitan city<br/>\n",
        "1 => True<br/>\n",
        "2 => False\n",
        "\n"
      ]
    },
    {
      "cell_type": "markdown",
      "metadata": {
        "id": "4cRRhYVCakDq"
      },
      "source": [
        "the **COD_PROV** of the Province of Bolzano is **21**"
      ]
    },
    {
      "cell_type": "code",
      "execution_count": 160,
      "metadata": {
        "id": "UjYOlOPeJtZg"
      },
      "outputs": [],
      "source": [
        "# filter the province\n",
        "municipalities_province_bolzano = municipalities[municipalities.COD_PROV==21]"
      ]
    },
    {
      "cell_type": "code",
      "execution_count": 161,
      "metadata": {
        "colab": {
          "base_uri": "https://localhost:8080/",
          "height": 527
        },
        "id": "pgcYsr41JxXE",
        "outputId": "190a89ad-37f7-4bae-8931-29da338b154f"
      },
      "outputs": [
        {
          "data": {
            "image/png": "[encoded data removed]",
            "text/plain": [
              "<Figure size 1000x1000 with 1 Axes>"
            ]
          },
          "metadata": {},
          "output_type": "display_data"
        }
      ],
      "source": [
        "# plot it\n",
        "municipalities_province_bolzano.plot(figsize=(10,10))\n",
        "plt.show()"
      ]
    },
    {
      "cell_type": "markdown",
      "metadata": {
        "id": "nG87m3Hna9ZB"
      },
      "source": [
        "### identify the cities of the province selected with the biggest and smallest area\n",
        "\n",
        "**CAUTION**:\n",
        "\n",
        "we are using generalized boundaries !!!"
      ]
    },
    {
      "cell_type": "markdown",
      "metadata": {
        "id": "CotX0EIMcrDU"
      },
      "source": [
        "finding the max area"
      ]
    },
    {
      "cell_type": "code",
      "execution_count": 162,
      "metadata": {
        "id": "ed1E9oyvJ0yu"
      },
      "outputs": [],
      "source": [
        "max_area = municipalities_province_bolzano.geometry.area.max()"
      ]
    },
    {
      "cell_type": "code",
      "execution_count": 163,
      "metadata": {
        "colab": {
          "base_uri": "https://localhost:8080/"
        },
        "id": "DHj8IQ0LFY3t",
        "outputId": "816ac333-d9c8-40a9-edb4-75d0a43b72ba"
      },
      "outputs": [
        {
          "data": {
            "text/plain": [
              "301513337.6874822"
            ]
          },
          "execution_count": 163,
          "metadata": {},
          "output_type": "execute_result"
        }
      ],
      "source": [
        "max_area"
      ]
    },
    {
      "cell_type": "markdown",
      "metadata": {
        "id": "6othNPYvcvoB"
      },
      "source": [
        "finding the min area"
      ]
    },
    {
      "cell_type": "code",
      "execution_count": 164,
      "metadata": {
        "id": "9G4hMiQCJ3Af"
      },
      "outputs": [],
      "source": [
        "min_area = municipalities_province_bolzano.geometry.area.min()"
      ]
    },
    {
      "cell_type": "code",
      "execution_count": 165,
      "metadata": {
        "colab": {
          "base_uri": "https://localhost:8080/"
        },
        "id": "7vnVp3RWFa2G",
        "outputId": "19dbd243-17fd-47b7-e5e1-f04a0ddbf67d"
      },
      "outputs": [
        {
          "data": {
            "text/plain": [
              "1661458.7378496784"
            ]
          },
          "execution_count": 165,
          "metadata": {},
          "output_type": "execute_result"
        }
      ],
      "source": [
        "min_area"
      ]
    },
    {
      "cell_type": "markdown",
      "metadata": {
        "id": "mIcFXpBdbb4G"
      },
      "source": [
        "... you can obtain the same in another way (combination of the requests)"
      ]
    },
    {
      "cell_type": "code",
      "execution_count": 166,
      "metadata": {
        "colab": {
          "base_uri": "https://localhost:8080/"
        },
        "id": "6LU7py1VbdXT",
        "outputId": "f693c0cd-6265-44cf-ec64-29824743eb33"
      },
      "outputs": [
        {
          "data": {
            "text/plain": [
              "1661458.7378496784"
            ]
          },
          "execution_count": 166,
          "metadata": {},
          "output_type": "execute_result"
        }
      ],
      "source": [
        "municipalities[municipalities.COD_PROV==21].geometry.area.min()"
      ]
    },
    {
      "cell_type": "markdown",
      "metadata": {
        "id": "Jzy-S7i4cZdy"
      },
      "source": [
        "### identify the municipality with the biggest area\n",
        "\n",
        "\n"
      ]
    },
    {
      "cell_type": "code",
      "execution_count": 167,
      "metadata": {
        "id": "HnefpEIAJ50g"
      },
      "outputs": [],
      "source": [
        "maxarea_municipality_southtyrol = municipalities_province_bolzano[municipalities_province_bolzano.geometry.area == max_area]"
      ]
    },
    {
      "cell_type": "code",
      "execution_count": 168,
      "metadata": {
        "colab": {
          "base_uri": "https://localhost:8080/"
        },
        "id": "oLEC0CPXJ_FY",
        "outputId": "9d314a19-c87e-4048-b04a-002499b2d484"
      },
      "outputs": [
        {
          "data": {
            "text/plain": [
              "2871    021086\n",
              "Name: PRO_COM_T, dtype: object"
            ]
          },
          "execution_count": 168,
          "metadata": {},
          "output_type": "execute_result"
        }
      ],
      "source": [
        "maxarea_municipality_southtyrol.PRO_COM_T"
      ]
    },
    {
      "cell_type": "code",
      "execution_count": 169,
      "metadata": {
        "colab": {
          "base_uri": "https://localhost:8080/"
        },
        "id": "zirOh3UpdWwe",
        "outputId": "4d424ff1-7de5-481f-df19-6f2990f5eb24"
      },
      "outputs": [
        {
          "data": {
            "text/plain": [
              "2871    Sarentino\n",
              "Name: COMUNE, dtype: object"
            ]
          },
          "execution_count": 169,
          "metadata": {},
          "output_type": "execute_result"
        }
      ],
      "source": [
        "maxarea_municipality_southtyrol.COMUNE"
      ]
    },
    {
      "cell_type": "markdown",
      "metadata": {
        "id": "fbyYIwZ6dGdY"
      },
      "source": [
        "the municipality with the bigger area is **Sarentino** (021086)"
      ]
    },
    {
      "cell_type": "code",
      "execution_count": 170,
      "metadata": {
        "colab": {
          "base_uri": "https://localhost:8080/",
          "height": 602
        },
        "id": "EYgIAJx1_KTV",
        "outputId": "98e17900-f853-4ccc-97c3-ccb8fd0387f6"
      },
      "outputs": [
        {
          "data": {
            "image/png": "[encoded data removed]",
            "text/plain": [
              "<Figure size 1000x1000 with 1 Axes>"
            ]
          },
          "metadata": {},
          "output_type": "display_data"
        }
      ],
      "source": [
        "maxarea_municipality_southtyrol.plot(figsize=(10,10))\n",
        "plt.show()"
      ]
    },
    {
      "cell_type": "markdown",
      "metadata": {
        "id": "ShodskgCdegB"
      },
      "source": [
        "### identify the municipality with the smallest area\n"
      ]
    },
    {
      "cell_type": "code",
      "execution_count": 171,
      "metadata": {
        "id": "waSNAaUaJ8DM"
      },
      "outputs": [],
      "source": [
        "minarea_municipality_southtyrol = municipalities_province_bolzano[municipalities_province_bolzano.geometry.area == min_area]"
      ]
    },
    {
      "cell_type": "code",
      "execution_count": 172,
      "metadata": {
        "colab": {
          "base_uri": "https://localhost:8080/"
        },
        "id": "dTvZsDYWKCf1",
        "outputId": "b1e3eeab-a9e8-4e11-82b7-75b923737c22"
      },
      "outputs": [
        {
          "data": {
            "text/plain": [
              "2800    Caines\n",
              "Name: COMUNE, dtype: object"
            ]
          },
          "execution_count": 172,
          "metadata": {},
          "output_type": "execute_result"
        }
      ],
      "source": [
        "minarea_municipality_southtyrol.COMUNE"
      ]
    },
    {
      "cell_type": "code",
      "execution_count": 173,
      "metadata": {
        "colab": {
          "base_uri": "https://localhost:8080/"
        },
        "id": "BJoda9zhdtzD",
        "outputId": "9c279b29-c5a6-4c84-f51c-e3df5251b1c2"
      },
      "outputs": [
        {
          "data": {
            "text/plain": [
              "2800    021014\n",
              "Name: PRO_COM_T, dtype: object"
            ]
          },
          "execution_count": 173,
          "metadata": {},
          "output_type": "execute_result"
        }
      ],
      "source": [
        "minarea_municipality_southtyrol.PRO_COM_T"
      ]
    },
    {
      "cell_type": "markdown",
      "metadata": {
        "id": "hk3wvA0_dzDW"
      },
      "source": [
        "the municipality with the smallest area is **Caines** (021014)"
      ]
    },
    {
      "cell_type": "code",
      "execution_count": 174,
      "metadata": {
        "colab": {
          "base_uri": "https://localhost:8080/",
          "height": 602
        },
        "id": "Twce9Hy7NXAo",
        "outputId": "1dcf2508-cfbe-4f4e-915a-26a0a2ce91fb"
      },
      "outputs": [
        {
          "data": {
            "image/png": "[encoded data removed]",
            "text/plain": [
              "<Figure size 1000x1000 with 1 Axes>"
            ]
          },
          "metadata": {},
          "output_type": "display_data"
        }
      ],
      "source": [
        "minarea_municipality_southtyrol.plot(figsize=(10,10))\n",
        "plt.show()"
      ]
    },
    {
      "cell_type": "markdown",
      "metadata": {
        "id": "Y-dS9DA5eE6U"
      },
      "source": [
        "### extract all the centroids of the areas expressed in WGS84"
      ]
    },
    {
      "cell_type": "code",
      "execution_count": 175,
      "metadata": {
        "colab": {
          "base_uri": "https://localhost:8080/"
        },
        "id": "t_74bjyYN8ru",
        "outputId": "b1244287-a876-44ae-8659-3768ed38a2be"
      },
      "outputs": [
        {
          "data": {
            "text/plain": [
              "2871    POINT (11.38676 46.71182)\n",
              "dtype: geometry"
            ]
          },
          "execution_count": 175,
          "metadata": {},
          "output_type": "execute_result"
        }
      ],
      "source": [
        "maxarea_municipality_southtyrol.geometry.centroid.to_crs(epsg=4326)"
      ]
    },
    {
      "cell_type": "code",
      "execution_count": 176,
      "metadata": {
        "colab": {
          "base_uri": "https://localhost:8080/"
        },
        "id": "veFfPsumePIa",
        "outputId": "68e717e3-8248-4f5b-da39-33ac527a392e"
      },
      "outputs": [
        {
          "data": {
            "text/plain": [
              "2871    POINT (11.38676 46.71182)\n",
              "dtype: geometry"
            ]
          },
          "execution_count": 176,
          "metadata": {},
          "output_type": "execute_result"
        }
      ],
      "source": [
        "maxarea_municipality_southtyrol.geometry.centroid.to_crs(epsg=4326)"
      ]
    },
    {
      "cell_type": "markdown",
      "metadata": {
        "id": "-eJUm7csej5u"
      },
      "source": [
        "### extract a rappresenative point for the area of the smallest and bigger municipality in WGS84"
      ]
    },
    {
      "cell_type": "code",
      "execution_count": 177,
      "metadata": {
        "id": "WXJh0bs7KHMA"
      },
      "outputs": [],
      "source": [
        "representative_point_minarea_municipality = minarea_municipality_southtyrol.geometry.representative_point()"
      ]
    },
    {
      "cell_type": "code",
      "execution_count": 178,
      "metadata": {
        "id": "ThbYeGtdN1K6"
      },
      "outputs": [],
      "source": [
        "representative_point_maxarea_municipality = maxarea_municipality_southtyrol.geometry.representative_point()"
      ]
    },
    {
      "cell_type": "code",
      "execution_count": 179,
      "metadata": {
        "colab": {
          "base_uri": "https://localhost:8080/"
        },
        "id": "9oUgRfy_KKs8",
        "outputId": "b79a95a3-1958-4cc0-9ca5-ad75d13ea089"
      },
      "outputs": [
        {
          "data": {
            "text/plain": [
              "2800    POINT (11.16580 46.70333)\n",
              "dtype: geometry"
            ]
          },
          "execution_count": 179,
          "metadata": {},
          "output_type": "execute_result"
        }
      ],
      "source": [
        "representative_point_minarea_municipality.to_crs(epsg=4326)"
      ]
    },
    {
      "cell_type": "code",
      "execution_count": 180,
      "metadata": {
        "colab": {
          "base_uri": "https://localhost:8080/"
        },
        "id": "mDE69_SpOBDu",
        "outputId": "264f88d4-fd85-473b-d757-6d8518e18fa6"
      },
      "outputs": [
        {
          "data": {
            "text/plain": [
              "2871    POINT (11.38521 46.69578)\n",
              "dtype: geometry"
            ]
          },
          "execution_count": 180,
          "metadata": {},
          "output_type": "execute_result"
        }
      ],
      "source": [
        "representative_point_maxarea_municipality.to_crs(epsg=4326)"
      ]
    },
    {
      "cell_type": "markdown",
      "metadata": {
        "id": "v6FK_NSsfJQu"
      },
      "source": [
        "### save the data in GeoJSON files\n",
        "\n",
        "we can save each point in geojson "
      ]
    },
    {
      "cell_type": "code",
      "execution_count": 181,
      "metadata": {
        "id": "vkvmlRvafZ9Z"
      },
      "outputs": [],
      "source": [
        "representative_point_maxarea_municipality.to_crs(epsg=4326).to_file(\"point.geojson\",driver=\"GeoJSON\")"
      ]
    },
    {
      "cell_type": "markdown",
      "metadata": {
        "id": "rHuNahrZftl5"
      },
      "source": [
        "... but we need to create an only one file with all the data in a geojson file"
      ]
    },
    {
      "cell_type": "code",
      "execution_count": 182,
      "metadata": {
        "id": "e7nlav9JfzTS"
      },
      "outputs": [],
      "source": [
        "points = representative_point_maxarea_municipality.append(representative_point_minarea_municipality)"
      ]
    },
    {
      "cell_type": "code",
      "execution_count": 183,
      "metadata": {
        "id": "1jMx1Tz9gUQb"
      },
      "outputs": [],
      "source": [
        "points.to_crs(epsg=4326).to_file(\"points.geojson\",driver=\"GeoJSON\")"
      ]
    },
    {
      "cell_type": "markdown",
      "metadata": {
        "id": "-r_dNGcDICJs"
      },
      "source": [
        "and we can do the same with the polygons"
      ]
    },
    {
      "cell_type": "code",
      "execution_count": 184,
      "metadata": {
        "id": "Kme3ZsgFHfHp"
      },
      "outputs": [],
      "source": [
        "polygons = maxarea_municipality_southtyrol.append(minarea_municipality_southtyrol)"
      ]
    },
    {
      "cell_type": "code",
      "execution_count": 185,
      "metadata": {
        "id": "iKnoxSaQL3gX"
      },
      "outputs": [],
      "source": [
        "polygons.to_crs(epsg=4326).to_file(\"polygons.geojson\",driver=\"GeoJSON\")"
      ]
    },
    {
      "cell_type": "markdown",
      "metadata": {
        "id": "pDIAVUscg3xF"
      },
      "source": [
        "**tip 1**:<br/>\n",
        "you can download, open with [geojson.io](https://geojson.io) and create a [gist resource](https://gist.github.com/napo/55c1198a8117b4975edc159f2bf98b51#file-largest_smallest_municipality_southtyrol-geojson) to distribute"
      ]
    },
    {
      "cell_type": "markdown",
      "metadata": {
        "id": "5o7fd9t6Izpq"
      },
      "source": [
        "**tip 2**:<br/>\n",
        "you can download the files and create a map with [umap](https://umap.openstretmap.fr) and create an [interactive map online with the data](http://u.osmfr.org/m/963189/)"
      ]
    },
    {
      "cell_type": "markdown",
      "metadata": {
        "id": "3M4cuG64hSBH"
      },
      "source": [
        "### calculate the distance on the geodentic between the municipality with the big area and smallest area by using the centroid\n"
      ]
    },
    {
      "cell_type": "code",
      "execution_count": 186,
      "metadata": {
        "id": "1wtbI-kf7Vh6"
      },
      "outputs": [],
      "source": [
        "to_point = minarea_municipality_southtyrol.geometry.centroid.values[0]"
      ]
    },
    {
      "cell_type": "code",
      "execution_count": 187,
      "metadata": {
        "colab": {
          "base_uri": "https://localhost:8080/"
        },
        "id": "E29lflS5fAph",
        "outputId": "eddd7aab-29ca-49f8-d870-dadaed2d2771"
      },
      "outputs": [
        {
          "data": {
            "text/plain": [
              "2871    16681.090748\n",
              "dtype: float64"
            ]
          },
          "execution_count": 187,
          "metadata": {},
          "output_type": "execute_result"
        }
      ],
      "source": [
        "maxarea_municipality_southtyrol.geometry.centroid.distance(to_point)"
      ]
    },
    {
      "cell_type": "code",
      "execution_count": 188,
      "metadata": {
        "id": "KnkXEZOs7Vh7"
      },
      "outputs": [],
      "source": [
        "distance = maxarea_municipality_southtyrol.geometry.centroid.distance(to_point).values[0]"
      ]
    },
    {
      "cell_type": "code",
      "execution_count": 189,
      "metadata": {
        "colab": {
          "base_uri": "https://localhost:8080/"
        },
        "id": "cl60MuiU7Vh7",
        "outputId": "b28daaf7-310e-401b-f495-ed6da652ec9a"
      },
      "outputs": [
        {
          "data": {
            "text/plain": [
              "16681.09074818423"
            ]
          },
          "execution_count": 189,
          "metadata": {},
          "output_type": "execute_result"
        }
      ],
      "source": [
        "distance"
      ]
    },
    {
      "cell_type": "markdown",
      "metadata": {
        "id": "G3w4YSq7i_Of"
      },
      "source": [
        "the distance is in meters due the CRS used on the dataset "
      ]
    },
    {
      "cell_type": "code",
      "execution_count": 190,
      "metadata": {
        "id": "h3l6OLzR7Vh8"
      },
      "outputs": [],
      "source": [
        "to_city = minarea_municipality_southtyrol.COMUNE.values[0]\n",
        "from_city = maxarea_municipality_southtyrol.COMUNE.values[0]\n",
        "distance_km = distance/1000"
      ]
    },
    {
      "cell_type": "code",
      "execution_count": 191,
      "metadata": {
        "colab": {
          "base_uri": "https://localhost:8080/"
        },
        "id": "HuMjuhhJ7Vh8",
        "outputId": "dc2bb6f1-0ced-4f63-fe59-d0aee7006f65"
      },
      "outputs": [
        {
          "name": "stdout",
          "output_type": "stream",
          "text": [
            "the distance from Sarentino to Caines is 16.7 km\n"
          ]
        }
      ],
      "source": [
        "print(\"the distance from %s to %s is %.1f km\" % (from_city, to_city, round(distance_km,1)))"
      ]
    },
    {
      "cell_type": "markdown",
      "metadata": {
        "id": "_ZJxuinjPKA4"
      },
      "source": [
        "### Why a representative point?"
      ]
    },
    {
      "cell_type": "markdown",
      "metadata": {
        "id": "0ISDE0HGjzAi"
      },
      "source": [
        "Where is the centroid of Liguria?\n"
      ]
    },
    {
      "cell_type": "code",
      "execution_count": 192,
      "metadata": {
        "colab": {
          "base_uri": "https://localhost:8080/"
        },
        "id": "5Hba-qxTmuQL",
        "outputId": "7cc3875e-2c19-4145-ec18-01f68d854b86"
      },
      "outputs": [],
      "source": [
        "regions = gpd.read_file(url,layer=\"regions\")"
      ]
    },
    {
      "cell_type": "code",
      "execution_count": 193,
      "metadata": {
        "colab": {
          "base_uri": "https://localhost:8080/"
        },
        "id": "91yTYhTBmm8U",
        "outputId": "24f81e9c-43da-4d98-efa9-051333ec8a28"
      },
      "outputs": [
        {
          "data": {
            "text/plain": [
              "array(['Piemonte', \"Valle d'Aosta\", 'Lombardia', 'Trentino-Alto Adige',\n",
              "       'Veneto', 'Friuli Venezia Giulia', 'Liguria', 'Emilia-Romagna',\n",
              "       'Toscana', 'Umbria', 'Marche', 'Lazio', 'Abruzzo', 'Molise',\n",
              "       'Campania', 'Puglia', 'Basilicata', 'Calabria', 'Sicilia',\n",
              "       'Sardegna'], dtype=object)"
            ]
          },
          "execution_count": 193,
          "metadata": {},
          "output_type": "execute_result"
        }
      ],
      "source": [
        "regions.DEN_REG.unique()"
      ]
    },
    {
      "cell_type": "code",
      "execution_count": 194,
      "metadata": {
        "colab": {
          "base_uri": "https://localhost:8080/",
          "height": 327
        },
        "id": "xiziGEkiAHJf",
        "outputId": "0abc210e-6c9f-4cc8-e919-a46b3573a5b0"
      },
      "outputs": [
        {
          "data": {
            "image/png": "[encoded data removed]",
            "text/plain": [
              "<Figure size 1000x1000 with 1 Axes>"
            ]
          },
          "metadata": {},
          "output_type": "display_data"
        }
      ],
      "source": [
        "regions[regions.DEN_REG=='Liguria'].plot(figsize=(10,10))\n",
        "plt.show()"
      ]
    },
    {
      "cell_type": "code",
      "execution_count": 195,
      "metadata": {
        "id": "C3st5LyfnhNV"
      },
      "outputs": [],
      "source": [
        "regions[regions.DEN_REG=='Liguria'].to_crs(epsg=4326).to_file(\"liguria.geojson\",driver='GeoJSON')"
      ]
    },
    {
      "cell_type": "code",
      "execution_count": 196,
      "metadata": {
        "id": "XOvUmDfvAUDN"
      },
      "outputs": [],
      "source": [
        "regions[regions.DEN_REG=='Liguria'].centroid.to_crs(epsg=4326).to_file(\"liguria_centroid.geojson\",driver='GeoJSON')"
      ]
    },
    {
      "cell_type": "code",
      "execution_count": 197,
      "metadata": {
        "id": "gx8_YvuWoSWo"
      },
      "outputs": [],
      "source": [
        "regions[regions.DEN_REG=='Liguria'].representative_point().to_crs(epsg=4326).to_file(\"liguria_representative_point.geojson\",driver='GeoJSON')"
      ]
    },
    {
      "cell_type": "markdown",
      "metadata": {
        "id": "XMN9nFJDp5bL"
      },
      "source": [
        "you can upload all the geojson on [uMap](http://umap.openstreetmap.fr) to [see the result](http://umap.openstreetmap.fr/it/map/liguria_505528#8/44.058/9.075) "
      ]
    },
    {
      "cell_type": "markdown",
      "metadata": {
        "id": "hN57WvvIpy0i"
      },
      "source": [
        "![](https://raw.githubusercontent.com/napo/geospatial_course_unitn/master/images/umap_liguria.jpg)\n"
      ]
    },
    {
      "cell_type": "markdown",
      "metadata": {
        "id": "L7Z-v_fPQD3X"
      },
      "source": [
        "## 3. download the shapefile of the [Mountain Basins Station](https://media.githubusercontent.com/media/napo/geospatial_datascience_unitn_2023/main/data/idrspacq.zip) of Trentino - projection ETRS89 UTM32N"
      ]
    },
    {
      "cell_type": "code",
      "execution_count": 198,
      "metadata": {
        "id": "SjiVDTRrRSOH"
      },
      "outputs": [],
      "source": [
        "dataurl='https://media.githubusercontent.com/media/napo/geospatial_datascience_unitn_2023/main/data/idrspacq.zip'\n",
        "mountain_basins_stations_trentino = gpd.read_file(dataurl)"
      ]
    },
    {
      "cell_type": "markdown",
      "metadata": {
        "id": "bjJ9PeeoSVgP"
      },
      "source": [
        "###  plot the geometries where CODE is \"0191\" for the table \"d_tipouso.dbf\""
      ]
    },
    {
      "cell_type": "code",
      "execution_count": 199,
      "metadata": {
        "colab": {
          "base_uri": "https://localhost:8080/",
          "height": 143
        },
        "id": "iSo1ONGQRsAJ",
        "outputId": "98e8f4b1-e44f-4329-b8c6-7de9aaf8e179"
      },
      "outputs": [
        {
          "data": {
            "text/html": [
              "<div>\n",
              "<style scoped>\n",
              "    .dataframe tbody tr th:only-of-type {\n",
              "        vertical-align: middle;\n",
              "    }\n",
              "\n",
              "    .dataframe tbody tr th {\n",
              "        vertical-align: top;\n",
              "    }\n",
              "\n",
              "    .dataframe thead th {\n",
              "        text-align: right;\n",
              "    }\n",
              "</style>\n",
              "<table border=\"1\" class=\"dataframe\">\n",
              "  <thead>\n",
              "    <tr style=\"text-align: right;\">\n",
              "      <th></th>\n",
              "      <th>OBJECTID</th>\n",
              "      <th>CLASSID</th>\n",
              "      <th>NOMESPACQ</th>\n",
              "      <th>FKTUSO</th>\n",
              "      <th>PD</th>\n",
              "      <th>FKTGENESI</th>\n",
              "      <th>FKTREGOLAZ</th>\n",
              "      <th>FKTSPECCHI</th>\n",
              "      <th>FKSCALA</th>\n",
              "      <th>DATAINI</th>\n",
              "      <th>DATAFINE</th>\n",
              "      <th>FKFONTE</th>\n",
              "      <th>FKTIPOELAB</th>\n",
              "      <th>FKCODPUB</th>\n",
              "      <th>NOTE</th>\n",
              "      <th>geometry</th>\n",
              "    </tr>\n",
              "  </thead>\n",
              "  <tbody>\n",
              "    <tr>\n",
              "      <th>0</th>\n",
              "      <td>29690.0</td>\n",
              "      <td>E151000000005</td>\n",
              "      <td>LAGO DI MOLVENO</td>\n",
              "      <td>0101</td>\n",
              "      <td>1.0</td>\n",
              "      <td>50</td>\n",
              "      <td>02</td>\n",
              "      <td>01</td>\n",
              "      <td>04</td>\n",
              "      <td>2015-01-16 12:32:45</td>\n",
              "      <td>NaN</td>\n",
              "      <td>03</td>\n",
              "      <td>01</td>\n",
              "      <td>2046</td>\n",
              "      <td>NaN</td>\n",
              "      <td>POLYGON ((652049.051 5111656.028, 652048.685 5...</td>\n",
              "    </tr>\n",
              "    <tr>\n",
              "      <th>1</th>\n",
              "      <td>29743.0</td>\n",
              "      <td>B05100C002002</td>\n",
              "      <td>LAGO BACINO S.I.T. - BACINO DI PONTARSO</td>\n",
              "      <td>0101</td>\n",
              "      <td>0.0</td>\n",
              "      <td>51</td>\n",
              "      <td>02</td>\n",
              "      <td>01</td>\n",
              "      <td>04</td>\n",
              "      <td>2015-01-16 12:32:47</td>\n",
              "      <td>NaN</td>\n",
              "      <td>03</td>\n",
              "      <td>01</td>\n",
              "      <td>NaN</td>\n",
              "      <td>NaN</td>\n",
              "      <td>POLYGON ((692800.350 5109936.688, 692800.452 5...</td>\n",
              "    </tr>\n",
              "    <tr>\n",
              "      <th>2</th>\n",
              "      <td>29723.0</td>\n",
              "      <td>A301010601002</td>\n",
              "      <td>LAGO DEL CARESER</td>\n",
              "      <td>0101</td>\n",
              "      <td>1.0</td>\n",
              "      <td>51</td>\n",
              "      <td>02</td>\n",
              "      <td>01</td>\n",
              "      <td>04</td>\n",
              "      <td>2015-01-16 12:32:46</td>\n",
              "      <td>NaN</td>\n",
              "      <td>03</td>\n",
              "      <td>01</td>\n",
              "      <td>1194</td>\n",
              "      <td>NaN</td>\n",
              "      <td>POLYGON ((630281.891 5142817.705, 630280.968 5...</td>\n",
              "    </tr>\n",
              "  </tbody>\n",
              "</table>\n",
              "</div>"
            ],
            "text/plain": [
              "   OBJECTID        CLASSID                                NOMESPACQ FKTUSO  \\\n",
              "0   29690.0  E151000000005                          LAGO DI MOLVENO   0101   \n",
              "1   29743.0  B05100C002002  LAGO BACINO S.I.T. - BACINO DI PONTARSO   0101   \n",
              "2   29723.0  A301010601002                         LAGO DEL CARESER   0101   \n",
              "\n",
              "    PD FKTGENESI FKTREGOLAZ FKTSPECCHI FKSCALA              DATAINI  DATAFINE  \\\n",
              "0  1.0        50         02         01      04  2015-01-16 12:32:45       NaN   \n",
              "1  0.0        51         02         01      04  2015-01-16 12:32:47       NaN   \n",
              "2  1.0        51         02         01      04  2015-01-16 12:32:46       NaN   \n",
              "\n",
              "  FKFONTE FKTIPOELAB FKCODPUB NOTE  \\\n",
              "0      03         01     2046  NaN   \n",
              "1      03         01      NaN  NaN   \n",
              "2      03         01     1194  NaN   \n",
              "\n",
              "                                            geometry  \n",
              "0  POLYGON ((652049.051 5111656.028, 652048.685 5...  \n",
              "1  POLYGON ((692800.350 5109936.688, 692800.452 5...  \n",
              "2  POLYGON ((630281.891 5142817.705, 630280.968 5...  "
            ]
          },
          "execution_count": 199,
          "metadata": {},
          "output_type": "execute_result"
        }
      ],
      "source": [
        "mountain_basins_stations_trentino.head(3)"
      ]
    },
    {
      "cell_type": "markdown",
      "metadata": {},
      "source": [
        "where is CODE?"
      ]
    },
    {
      "cell_type": "code",
      "execution_count": 200,
      "metadata": {},
      "outputs": [
        {
          "data": {
            "text/plain": [
              "Index(['OBJECTID', 'CLASSID', 'NOMESPACQ', 'FKTUSO', 'PD', 'FKTGENESI',\n",
              "       'FKTREGOLAZ', 'FKTSPECCHI', 'FKSCALA', 'DATAINI', 'DATAFINE', 'FKFONTE',\n",
              "       'FKTIPOELAB', 'FKCODPUB', 'NOTE', 'geometry'],\n",
              "      dtype='object')"
            ]
          },
          "execution_count": 200,
          "metadata": {},
          "output_type": "execute_result"
        }
      ],
      "source": [
        "mountain_basins_stations_trentino.columns"
      ]
    },
    {
      "cell_type": "markdown",
      "metadata": {
        "id": "4GlpGMitSH3f"
      },
      "source": [
        "where is \"*CODE*\" ???\n",
        "\n",
        "*We have to analyze the ESRI Shapefile*"
      ]
    },
    {
      "cell_type": "code",
      "execution_count": 201,
      "metadata": {
        "id": "ObR6w1LxT_Wp"
      },
      "outputs": [],
      "source": [
        "os.mkdir(\"shapefile\")"
      ]
    },
    {
      "cell_type": "code",
      "execution_count": 202,
      "metadata": {
        "id": "Jg2LI30WUEbi"
      },
      "outputs": [],
      "source": [
        "os.chdir(\"shapefile\")"
      ]
    },
    {
      "cell_type": "code",
      "execution_count": 203,
      "metadata": {
        "colab": {
          "base_uri": "https://localhost:8080/"
        },
        "id": "QNYvC8IJSquN",
        "outputId": "241ad7c0-51b8-495c-daef-debac27438ad"
      },
      "outputs": [
        {
          "data": {
            "text/plain": [
              "('idrspacq.zip', <http.client.HTTPMessage at 0x7fb731c04950>)"
            ]
          },
          "execution_count": 203,
          "metadata": {},
          "output_type": "execute_result"
        }
      ],
      "source": [
        "urllib.request.urlretrieve(dataurl ,\"idrspacq.zip\")\n"
      ]
    },
    {
      "cell_type": "code",
      "execution_count": 204,
      "metadata": {
        "id": "xrRNFV2USwUb"
      },
      "outputs": [],
      "source": [
        "import zipfile\n",
        "z = zipfile.ZipFile('idrspacq.zip')\n",
        "z.extractall()"
      ]
    },
    {
      "cell_type": "code",
      "execution_count": 205,
      "metadata": {
        "colab": {
          "base_uri": "https://localhost:8080/"
        },
        "id": "kfiGndTNUI7r",
        "outputId": "e5054271-323c-47f1-9f2e-18c4cb073d54"
      },
      "outputs": [
        {
          "data": {
            "text/plain": [
              "['idrspacq.shx',\n",
              " 'idrspacq.zip',\n",
              " 'idrspacq.dbf',\n",
              " 'd_tipouso.dbf',\n",
              " 'idrspacq.shp']"
            ]
          },
          "execution_count": 205,
          "metadata": {},
          "output_type": "execute_result"
        }
      ],
      "source": [
        "os.listdir()"
      ]
    },
    {
      "cell_type": "markdown",
      "metadata": {
        "id": "BKqPewWDTtX7"
      },
      "source": [
        "| filenname | description  | note |\n",
        "|---|---|---|\n",
        "| idrspacq.shp | the file with the shapes (geometries) | ok |\n",
        "| d_tipouso.dbf  | the file with the attributes | the name is NOT the same of the .shp |\n",
        "| idrspacq.dbf | the file with the attributes  | the name is the same of the .shp |\n",
        "| idrspacq.zip  | the zip archive | it's present because downloaded | \n",
        "| idrspacq.shx  | the file to associate the attributes to the geometries | the name is the the of the .shp |"
      ]
    },
    {
      "cell_type": "markdown",
      "metadata": {
        "id": "pZIsjO6jXuKf"
      },
      "source": [
        "How we can use the file *d_tipouso.dbf*?\n",
        "\n",
        "Try to create a shapefile from the other"
      ]
    },
    {
      "cell_type": "code",
      "execution_count": 206,
      "metadata": {
        "id": "zE_9T4dWX_wd"
      },
      "outputs": [],
      "source": [
        "from shutil import copyfile"
      ]
    },
    {
      "cell_type": "code",
      "execution_count": 207,
      "metadata": {
        "colab": {
          "base_uri": "https://localhost:8080/",
          "height": 35
        },
        "id": "KOwjt9A4YSUM",
        "outputId": "8ae5043b-3bb9-4eb1-d85b-cbb1547ca9ba"
      },
      "outputs": [
        {
          "data": {
            "text/plain": [
              "'d_tipouso.shp'"
            ]
          },
          "execution_count": 207,
          "metadata": {},
          "output_type": "execute_result"
        }
      ],
      "source": [
        "copyfile(\"idrspacq.shp\",\"d_tipouso.shp\")"
      ]
    },
    {
      "cell_type": "code",
      "execution_count": 208,
      "metadata": {
        "colab": {
          "base_uri": "https://localhost:8080/",
          "height": 35
        },
        "id": "vVH6RI5KYf9G",
        "outputId": "939d3fc0-fea7-4c84-d466-b541f3a01afd"
      },
      "outputs": [
        {
          "data": {
            "text/plain": [
              "'d_tipouso.shx'"
            ]
          },
          "execution_count": 208,
          "metadata": {},
          "output_type": "execute_result"
        }
      ],
      "source": [
        "copyfile(\"idrspacq.shx\",\"d_tipouso.shx\")"
      ]
    },
    {
      "cell_type": "code",
      "execution_count": 209,
      "metadata": {
        "id": "Fci0RyU8YhAN"
      },
      "outputs": [],
      "source": [
        "d_tipouso =  gpd.read_file(\"d_tipouso.shp\")"
      ]
    },
    {
      "cell_type": "code",
      "execution_count": 210,
      "metadata": {
        "colab": {
          "base_uri": "https://localhost:8080/"
        },
        "id": "XG2RYo21YucY",
        "outputId": "c3a82622-1ab7-46f6-dca7-4d1514b05105"
      },
      "outputs": [
        {
          "data": {
            "text/plain": [
              "Index(['CODE', 'NAME', 'DEFINITION', 'ALPHACODE', 'geometry'], dtype='object')"
            ]
          },
          "execution_count": 210,
          "metadata": {},
          "output_type": "execute_result"
        }
      ],
      "source": [
        "d_tipouso.columns"
      ]
    },
    {
      "cell_type": "markdown",
      "metadata": {
        "id": "ttQQC19gYylb"
      },
      "source": [
        "there is the attribute \"CODE\" ... "
      ]
    },
    {
      "cell_type": "code",
      "execution_count": 211,
      "metadata": {
        "colab": {
          "base_uri": "https://localhost:8080/"
        },
        "id": "FIxvQfy7Y_Rd",
        "outputId": "60083299-0be6-4926-cb88-8012ffa8f478"
      },
      "outputs": [
        {
          "data": {
            "text/plain": [
              "array(['0191', '0102', '0103', '92', '04', '0192', '03', '0101', '02',\n",
              "       '0193'], dtype=object)"
            ]
          },
          "execution_count": 211,
          "metadata": {},
          "output_type": "execute_result"
        }
      ],
      "source": [
        "d_tipouso.CODE.unique()"
      ]
    },
    {
      "cell_type": "markdown",
      "metadata": {
        "id": "Q4jfkRBuZLGy"
      },
      "source": [
        "... and there is also the value \"02\""
      ]
    },
    {
      "cell_type": "code",
      "execution_count": 212,
      "metadata": {
        "id": "FzSu9hrEY5od"
      },
      "outputs": [],
      "source": [
        "code_0191 = d_tipouso[d_tipouso.CODE=='0191']"
      ]
    },
    {
      "cell_type": "code",
      "execution_count": 213,
      "metadata": {
        "colab": {
          "base_uri": "https://localhost:8080/",
          "height": 616
        },
        "id": "_5kol7f1Zs-H",
        "outputId": "3b1fb243-3ce6-4fe8-858b-9820cc4ae13f"
      },
      "outputs": [
        {
          "data": {
            "image/png": "[encoded data removed]",
            "text/plain": [
              "<Figure size 1000x1000 with 1 Axes>"
            ]
          },
          "metadata": {},
          "output_type": "display_data"
        }
      ],
      "source": [
        "code_0191.plot(figsize=(10,10))\n",
        "plt.show()"
      ]
    },
    {
      "cell_type": "markdown",
      "metadata": {
        "id": "l5KtwWBKZXF4"
      },
      "source": [
        "### convert in WGS84 and create a KML and plot it on a website"
      ]
    },
    {
      "cell_type": "code",
      "execution_count": 214,
      "metadata": {
        "colab": {
          "base_uri": "https://localhost:8080/",
          "height": 313
        },
        "id": "DyH5-bM1ZlIO",
        "outputId": "7d0e9b76-5467-4c1f-ad81-3c4aefce5b1e"
      },
      "outputs": [
        {
          "ename": "ValueError",
          "evalue": "Cannot transform naive geometries.  Please set a crs on the object first.",
          "output_type": "error",
          "traceback": [
            "\u001b[0;31m---------------------------------------------------------------------------\u001b[0m",
            "\u001b[0;31mValueError\u001b[0m                                Traceback (most recent call last)",
            "\u001b[1;32m/home/napo/dev/geospatial_datascience_unitn_2023/code/solutions/01_gis_introduction._and_vector_data.ipynb Cella 122\u001b[0m line \u001b[0;36m1\n\u001b[0;32m----> <a href='vscode-notebook-cell:/home/napo/dev/geospatial_datascience_unitn_2023/code/solutions/01_gis_introduction._and_vector_data.ipynb#Y234sZmlsZQ%3D%3D?line=0'>1</a>\u001b[0m code_0191\u001b[39m.\u001b[39;49mto_crs(epsg\u001b[39m=\u001b[39;49m\u001b[39m4326\u001b[39;49m)\n",
            "File \u001b[0;32m~/.local/lib/python3.11/site-packages/geopandas/geodataframe.py:1425\u001b[0m, in \u001b[0;36mGeoDataFrame.to_crs\u001b[0;34m(self, crs, epsg, inplace)\u001b[0m\n\u001b[1;32m   1423\u001b[0m \u001b[39melse\u001b[39;00m:\n\u001b[1;32m   1424\u001b[0m     df \u001b[39m=\u001b[39m \u001b[39mself\u001b[39m\u001b[39m.\u001b[39mcopy()\n\u001b[0;32m-> 1425\u001b[0m geom \u001b[39m=\u001b[39m df\u001b[39m.\u001b[39;49mgeometry\u001b[39m.\u001b[39;49mto_crs(crs\u001b[39m=\u001b[39;49mcrs, epsg\u001b[39m=\u001b[39;49mepsg)\n\u001b[1;32m   1426\u001b[0m df\u001b[39m.\u001b[39mgeometry \u001b[39m=\u001b[39m geom\n\u001b[1;32m   1427\u001b[0m \u001b[39mif\u001b[39;00m \u001b[39mnot\u001b[39;00m inplace:\n",
            "File \u001b[0;32m~/.local/lib/python3.11/site-packages/geopandas/geoseries.py:1157\u001b[0m, in \u001b[0;36mGeoSeries.to_crs\u001b[0;34m(self, crs, epsg)\u001b[0m\n\u001b[1;32m   1078\u001b[0m \u001b[39mdef\u001b[39;00m \u001b[39mto_crs\u001b[39m(\n\u001b[1;32m   1079\u001b[0m     \u001b[39mself\u001b[39m, crs: Optional[Any] \u001b[39m=\u001b[39m \u001b[39mNone\u001b[39;00m, epsg: Optional[\u001b[39mint\u001b[39m] \u001b[39m=\u001b[39m \u001b[39mNone\u001b[39;00m\n\u001b[1;32m   1080\u001b[0m ) \u001b[39m-\u001b[39m\u001b[39m>\u001b[39m GeoSeries:\n\u001b[1;32m   1081\u001b[0m \u001b[39m    \u001b[39m\u001b[39m\"\"\"Returns a ``GeoSeries`` with all geometries transformed to a new\u001b[39;00m\n\u001b[1;32m   1082\u001b[0m \u001b[39m    coordinate reference system.\u001b[39;00m\n\u001b[1;32m   1083\u001b[0m \n\u001b[0;32m   (...)\u001b[0m\n\u001b[1;32m   1154\u001b[0m \n\u001b[1;32m   1155\u001b[0m \u001b[39m    \"\"\"\u001b[39;00m\n\u001b[1;32m   1156\u001b[0m     \u001b[39mreturn\u001b[39;00m GeoSeries(\n\u001b[0;32m-> 1157\u001b[0m         \u001b[39mself\u001b[39;49m\u001b[39m.\u001b[39;49mvalues\u001b[39m.\u001b[39;49mto_crs(crs\u001b[39m=\u001b[39;49mcrs, epsg\u001b[39m=\u001b[39;49mepsg), index\u001b[39m=\u001b[39m\u001b[39mself\u001b[39m\u001b[39m.\u001b[39mindex, name\u001b[39m=\u001b[39m\u001b[39mself\u001b[39m\u001b[39m.\u001b[39mname\n\u001b[1;32m   1158\u001b[0m     )\n",
            "File \u001b[0;32m~/.local/lib/python3.11/site-packages/geopandas/array.py:855\u001b[0m, in \u001b[0;36mGeometryArray.to_crs\u001b[0;34m(self, crs, epsg)\u001b[0m\n\u001b[1;32m    786\u001b[0m \u001b[39m\u001b[39m\u001b[39m\"\"\"Returns a ``GeometryArray`` with all geometries transformed to a new\u001b[39;00m\n\u001b[1;32m    787\u001b[0m \u001b[39mcoordinate reference system.\u001b[39;00m\n\u001b[1;32m    788\u001b[0m \n\u001b[0;32m   (...)\u001b[0m\n\u001b[1;32m    852\u001b[0m \n\u001b[1;32m    853\u001b[0m \u001b[39m\"\"\"\u001b[39;00m\n\u001b[1;32m    854\u001b[0m \u001b[39mif\u001b[39;00m \u001b[39mself\u001b[39m\u001b[39m.\u001b[39mcrs \u001b[39mis\u001b[39;00m \u001b[39mNone\u001b[39;00m:\n\u001b[0;32m--> 855\u001b[0m     \u001b[39mraise\u001b[39;00m \u001b[39mValueError\u001b[39;00m(\n\u001b[1;32m    856\u001b[0m         \u001b[39m\"\u001b[39m\u001b[39mCannot transform naive geometries.  \u001b[39m\u001b[39m\"\u001b[39m\n\u001b[1;32m    857\u001b[0m         \u001b[39m\"\u001b[39m\u001b[39mPlease set a crs on the object first.\u001b[39m\u001b[39m\"\u001b[39m\n\u001b[1;32m    858\u001b[0m     )\n\u001b[1;32m    859\u001b[0m \u001b[39mif\u001b[39;00m crs \u001b[39mis\u001b[39;00m \u001b[39mnot\u001b[39;00m \u001b[39mNone\u001b[39;00m:\n\u001b[1;32m    860\u001b[0m     crs \u001b[39m=\u001b[39m CRS\u001b[39m.\u001b[39mfrom_user_input(crs)\n",
            "\u001b[0;31mValueError\u001b[0m: Cannot transform naive geometries.  Please set a crs on the object first."
          ]
        }
      ],
      "source": [
        "code_0191.to_crs(epsg=4326)"
      ]
    },
    {
      "cell_type": "markdown",
      "metadata": {
        "id": "6tniYjPVZ5xD"
      },
      "source": [
        "ERROR: \n",
        "*Cannot transform naive geometries.  Please set a crs on the object first.*\n",
        "\n",
        "The geodataframe is without the CRS\n",
        "\n",
        "If you check again all the files contained in the zip archive *the .prj file is not present!!!*\n",
        "\n",
        "You need to create it!\n",
        "\n",
        "THe note says \"*projection ETRS89 UTM32N(*\" \n",
        "\n",
        "This is enough to search the right epsg code on https://epsg.io with the query [\"ETRS89 UTM 32N1\"](https://epsg.io/?q=ETRS89+UTM+32N)\n",
        "\n",
        "\n",
        "![](https://raw.githubusercontent.com/napo/geospatial_datascience_unitn_2023/main/images/epsg25832.png)\n",
        "\n",
        "\n",
        "where the EPSG code is 25832\n",
        "\n",
        "\n",
        "the solution can be possible in two ways:\n",
        "\n",
        "1 - assign the CRS to the geodataframe\n"
      ]
    },
    {
      "cell_type": "code",
      "execution_count": null,
      "metadata": {
        "colab": {
          "base_uri": "https://localhost:8080/",
          "height": 112
        },
        "id": "eLyHanMcZxfZ",
        "outputId": "792bede7-1eee-4f4b-9e6f-35fd00741cc5"
      },
      "outputs": [
        {
          "data": {
            "text/html": [
              "<div>\n",
              "<style scoped>\n",
              "    .dataframe tbody tr th:only-of-type {\n",
              "        vertical-align: middle;\n",
              "    }\n",
              "\n",
              "    .dataframe tbody tr th {\n",
              "        vertical-align: top;\n",
              "    }\n",
              "\n",
              "    .dataframe thead th {\n",
              "        text-align: right;\n",
              "    }\n",
              "</style>\n",
              "<table border=\"1\" class=\"dataframe\">\n",
              "  <thead>\n",
              "    <tr style=\"text-align: right;\">\n",
              "      <th></th>\n",
              "      <th>CODE</th>\n",
              "      <th>NAME</th>\n",
              "      <th>DEFINITION</th>\n",
              "      <th>ALPHACODE</th>\n",
              "      <th>geometry</th>\n",
              "    </tr>\n",
              "  </thead>\n",
              "  <tbody>\n",
              "    <tr>\n",
              "      <th>0</th>\n",
              "      <td>0191</td>\n",
              "      <td>innevamento piste</td>\n",
              "      <td>Innevamento piste</td>\n",
              "      <td>0191</td>\n",
              "      <td>POLYGON ((652049.051 5111656.028, 652048.685 5...</td>\n",
              "    </tr>\n",
              "  </tbody>\n",
              "</table>\n",
              "</div>"
            ],
            "text/plain": [
              "   CODE               NAME         DEFINITION ALPHACODE  \\\n",
              "0  0191  innevamento piste  Innevamento piste      0191   \n",
              "\n",
              "                                            geometry  \n",
              "0  POLYGON ((652049.051 5111656.028, 652048.685 5...  "
            ]
          },
          "execution_count": 124,
          "metadata": {},
          "output_type": "execute_result"
        }
      ],
      "source": [
        "code_0191.set_crs(epsg=25832,inplace=True,allow_override=True)"
      ]
    },
    {
      "cell_type": "code",
      "execution_count": null,
      "metadata": {
        "colab": {
          "base_uri": "https://localhost:8080/",
          "height": 112
        },
        "id": "dfDrTAqpdaV3",
        "outputId": "0d5e9adb-80b1-499b-9d75-7760252e994b"
      },
      "outputs": [
        {
          "data": {
            "text/html": [
              "<div>\n",
              "<style scoped>\n",
              "    .dataframe tbody tr th:only-of-type {\n",
              "        vertical-align: middle;\n",
              "    }\n",
              "\n",
              "    .dataframe tbody tr th {\n",
              "        vertical-align: top;\n",
              "    }\n",
              "\n",
              "    .dataframe thead th {\n",
              "        text-align: right;\n",
              "    }\n",
              "</style>\n",
              "<table border=\"1\" class=\"dataframe\">\n",
              "  <thead>\n",
              "    <tr style=\"text-align: right;\">\n",
              "      <th></th>\n",
              "      <th>CODE</th>\n",
              "      <th>NAME</th>\n",
              "      <th>DEFINITION</th>\n",
              "      <th>ALPHACODE</th>\n",
              "      <th>geometry</th>\n",
              "    </tr>\n",
              "  </thead>\n",
              "  <tbody>\n",
              "    <tr>\n",
              "      <th>0</th>\n",
              "      <td>0191</td>\n",
              "      <td>innevamento piste</td>\n",
              "      <td>Innevamento piste</td>\n",
              "      <td>0191</td>\n",
              "      <td>POLYGON ((10.96868 46.14153, 10.96867 46.14152...</td>\n",
              "    </tr>\n",
              "  </tbody>\n",
              "</table>\n",
              "</div>"
            ],
            "text/plain": [
              "   CODE               NAME         DEFINITION ALPHACODE  \\\n",
              "0  0191  innevamento piste  Innevamento piste      0191   \n",
              "\n",
              "                                            geometry  \n",
              "0  POLYGON ((10.96868 46.14153, 10.96867 46.14152...  "
            ]
          },
          "execution_count": 125,
          "metadata": {},
          "output_type": "execute_result"
        }
      ],
      "source": [
        "code_0191.to_crs(epsg=4326)"
      ]
    },
    {
      "cell_type": "markdown",
      "metadata": {
        "id": "kviLMJYrduPV"
      },
      "source": [
        "this approach solves the problem but keeps the error in the data source.<br/>\n",
        "Keeping this approach, it is advisable to apply the assignment of the CRS to the initial geodataframe and, if necessary, to export the geodatrafame in ESRi Shapefile (or other format)"
      ]
    },
    {
      "cell_type": "markdown",
      "metadata": {
        "id": "3lHiWvN8dinh"
      },
      "source": [
        "2 - create a file with the name *d_tipouso.prj* that contains the right string in WKT for the proj conversion.\n",
        "\n",
        "You can obtain the right file by simple download the right string from epsg.io in this way\n",
        "\n",
        "https://epsg.io/25832.wkt\n",
        "\n",
        "simple by adding .wkt to the url\n",
        "\n",
        "this is the answer\n",
        "\n",
        "``` javascript\n",
        "PROJCS[\"ETRS89 / UTM zone 32N\",\n",
        "    GEOGCS[\"ETRS89\",\n",
        "        DATUM[\"European_Terrestrial_Reference_System_1989\",\n",
        "            SPHEROID[\"GRS 1980\",6378137,298.257222101,\n",
        "                AUTHORITY[\"EPSG\",\"7019\"]],\n",
        "            TOWGS84[0,0,0,0,0,0,0],\n",
        "            AUTHORITY[\"EPSG\",\"6258\"]],\n",
        "        PRIMEM[\"Greenwich\",0,\n",
        "            AUTHORITY[\"EPSG\",\"8901\"]],\n",
        "        UNIT[\"degree\",0.0174532925199433,\n",
        "            AUTHORITY[\"EPSG\",\"9122\"]],\n",
        "        AUTHORITY[\"EPSG\",\"4258\"]],\n",
        "    PROJECTION[\"Transverse_Mercator\"],\n",
        "    PARAMETER[\"latitude_of_origin\",0],\n",
        "    PARAMETER[\"central_meridian\",9],\n",
        "    PARAMETER[\"scale_factor\",0.9996],\n",
        "    PARAMETER[\"false_easting\",500000],\n",
        "    PARAMETER[\"false_northing\",0],\n",
        "    UNIT[\"metre\",1,\n",
        "        AUTHORITY[\"EPSG\",\"9001\"]],\n",
        "    AXIS[\"Easting\",EAST],\n",
        "    AXIS[\"Northing\",NORTH],\n",
        "    AUTHORITY[\"EPSG\",\"25832\"]]\n",
        "```"
      ]
    },
    {
      "cell_type": "code",
      "execution_count": null,
      "metadata": {
        "id": "y28Nd8wogAs0"
      },
      "outputs": [],
      "source": [
        "url = \"https://epsg.io/25832.wkt\"\n",
        "opener = urllib.request.URLopener()\n",
        "opener.addheader('User-Agent', 'Geospatial Course Unitn')\n",
        "filename, headers = opener.retrieve(url, 'd_tipouso.prj')"
      ]
    },
    {
      "cell_type": "markdown",
      "metadata": {
        "id": "6eFifaCblvP0"
      },
      "source": [
        ".. it's better create a copy also for the original .shp file"
      ]
    },
    {
      "cell_type": "code",
      "execution_count": null,
      "metadata": {
        "colab": {
          "base_uri": "https://localhost:8080/",
          "height": 35
        },
        "id": "ELLCXhIjlzUi",
        "outputId": "da77199d-64a7-4bec-dab0-c8d1f1310d04"
      },
      "outputs": [
        {
          "data": {
            "text/plain": [
              "'idrspacq.prj'"
            ]
          },
          "execution_count": 134,
          "metadata": {},
          "output_type": "execute_result"
        }
      ],
      "source": [
        "copyfile(\"d_tipouso.prj\",\"idrspacq.prj\")"
      ]
    },
    {
      "cell_type": "markdown",
      "metadata": {
        "id": "HK6d-eWdl9mo"
      },
      "source": [
        ".. and now it's necessary to recreate the geodataframe and repeat the operations"
      ]
    },
    {
      "cell_type": "code",
      "execution_count": null,
      "metadata": {
        "id": "HJSJ8V7rmKAe"
      },
      "outputs": [],
      "source": [
        "d_tipouso = gpd.read_file(\"d_tipouso.shp\")"
      ]
    },
    {
      "cell_type": "code",
      "execution_count": null,
      "metadata": {
        "colab": {
          "base_uri": "https://localhost:8080/"
        },
        "id": "N-KckKK6mU8x",
        "outputId": "9ba56bdd-3d5c-4389-c71c-56a09022efd7"
      },
      "outputs": [
        {
          "data": {
            "text/plain": [
              "<Derived Projected CRS: EPSG:25832>\n",
              "Name: ETRS89 / UTM zone 32N\n",
              "Axis Info [cartesian]:\n",
              "- E[east]: Easting (metre)\n",
              "- N[north]: Northing (metre)\n",
              "Area of Use:\n",
              "- name: Europe between 6°E and 12°E: Austria; Belgium; Denmark - onshore and offshore; Germany - onshore and offshore; Norway including - onshore and offshore; Spain - offshore.\n",
              "- bounds: (6.0, 38.76, 12.01, 84.33)\n",
              "Coordinate Operation:\n",
              "- name: UTM zone 32N\n",
              "- method: Transverse Mercator\n",
              "Datum: European Terrestrial Reference System 1989 ensemble\n",
              "- Ellipsoid: GRS 1980\n",
              "- Prime Meridian: Greenwich"
            ]
          },
          "execution_count": 136,
          "metadata": {},
          "output_type": "execute_result"
        }
      ],
      "source": [
        "d_tipouso.crs"
      ]
    },
    {
      "cell_type": "markdown",
      "metadata": {
        "id": "KZeS_7HsmZ9b"
      },
      "source": [
        "Now it's ok ;)"
      ]
    },
    {
      "cell_type": "code",
      "execution_count": null,
      "metadata": {
        "id": "8ejJDNa5l8vF"
      },
      "outputs": [],
      "source": [
        "code_0191 = d_tipouso[d_tipouso.CODE=='0191']"
      ]
    },
    {
      "cell_type": "markdown",
      "metadata": {
        "id": "KbImvB-gmsAn"
      },
      "source": [
        "... and create the geojson file in wgs84"
      ]
    },
    {
      "cell_type": "code",
      "execution_count": null,
      "metadata": {
        "id": "YCWTzbfBmf9Y"
      },
      "outputs": [],
      "source": [
        "code_0191.to_crs(epsg=4326).to_file(\"code_0191.geojson\",driver=\"GeoJSON\")"
      ]
    },
    {
      "cell_type": "code",
      "execution_count": null,
      "metadata": {},
      "outputs": [],
      "source": [
        "fiona.supported_drivers['KML'] = 'rw'"
      ]
    },
    {
      "cell_type": "code",
      "execution_count": null,
      "metadata": {},
      "outputs": [],
      "source": [
        "code_0191.to_crs(epsg=4326).to_file(\"code_0191.kml\",driver=\"KML\")"
      ]
    },
    {
      "cell_type": "markdown",
      "metadata": {
        "id": "_qNEldiIu3i3"
      },
      "source": [
        "... and here the lake in Google Earth\n",
        "\n",
        "![](https://github.com/napo/geospatial_datascience_unitn_2023/blob/main/images/gearth_molveno.png?raw=true)"
      ]
    }
  ],
  "metadata": {
    "colab": {
      "collapsed_sections": [
        "9T1Sft2nHpK8"
      ],
      "provenance": []
    },
    "interpreter": {
      "hash": "e7370f93d1d0cde622a1f8e1c04877d8463912d04d973331ad4851f04de6915a"
    },
    "kernelspec": {
      "display_name": "Python 3.9.5 64-bit",
      "name": "python3"
    },
    "language_info": {
      "codemirror_mode": {
        "name": "ipython",
        "version": 3
      },
      "file_extension": ".py",
      "mimetype": "text/x-python",
      "name": "python",
      "nbconvert_exporter": "python",
      "pygments_lexer": "ipython3",
      "version": "3.11.4"
    }
  },
  "nbformat": 4,
  "nbformat_minor": 0
}
