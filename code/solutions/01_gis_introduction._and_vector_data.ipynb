{
  "cells": [
    {
      "cell_type": "markdown",
      "metadata": {
        "id": "T6-YLqx4OCrj"
      },
      "source": [
        "# Setup"
      ]
    },
    {
      "cell_type": "code",
      "execution_count": 8,
      "metadata": {
        "id": "hlP03EfNHGeb"
      },
      "outputs": [],
      "source": [
        "try:\n",
        "  import geopandas as gpd\n",
        "except ModuleNotFoundError as e:\n",
        "  !pip install geopandas==0.10.0\n",
        "  import geopandas as gpd\n",
        "  if gpd.__version__ != \"0.10.0\":\n",
        "    !pip install -U geopandas==0.10.0"
      ]
    },
    {
      "cell_type": "markdown",
      "metadata": {
        "id": "9T1Sft2nHpK8"
      },
      "source": [
        "---\n",
        "\n",
        "# Exercise\n",
        "1. load the shapefile of ISTAT with the information of the provinces\n",
        " - filter it for an italian provice at your choice (eg. Trento)\n",
        " - plot it\n",
        "2. load the shapefile of ISTAT with the informations of the muncipalities\n",
        " - identify the cities of the province selected with the biggest and smallest area\n",
        " - extract all the centroids of the areas expressed in WGS84\n",
        " - select all the muncipalities of the Province of Trento\n",
        " - extract a representative point for the area of each municipality converted in WGS84<br/>suggestion: *.representative_point()*\n",
        " - save the points in a GeoJSON file\n",
        " - calculate the distance on the geodentic between the municipality with the big area and smallest area by using the centroid\n",
        "3. download the shapefile of the [lakes and bodies of water](https://github.com/napo/geospatial_course_unitn/raw/master/data/trentino/lakes_bodies_of_water_trentino.zip) of Trentino\n",
        " - plot the geometries where Fktuso is “02”\n",
        " - convert in WGS84 and create a geojson\n",
        "   \n",
        "   note: projection Monte Mario zone 1\n",
        "\n",
        "\n",
        "---"
      ]
    },
    {
      "cell_type": "markdown",
      "metadata": {
        "id": "r2J9dbENPJND"
      },
      "source": [
        "# Solutions\n",
        "\n",
        "## learning objectives\n",
        "* repeat the concepts on the previous lesson\n",
        "* introduce geopackage\n",
        "* centroid vs representative point"
      ]
    },
    {
      "cell_type": "markdown",
      "metadata": {
        "id": "3fk_8ro1RUbo"
      },
      "source": [
        "--- \n",
        "\n",
        "### Import of the packages"
      ]
    },
    {
      "cell_type": "code",
      "execution_count": 5,
      "metadata": {
        "id": "bFmuagH7H4lZ"
      },
      "outputs": [],
      "source": [
        "import geopandas as gpd\n",
        "import pandas as pd\n",
        "import os\n",
        "import urllib\n",
        "from matplotlib import pyplot as plt  #to avoid the warning message by plotting the geometries\n",
        "import warnings\n",
        "warnings.simplefilter(\"ignore\")"
      ]
    },
    {
      "cell_type": "markdown",
      "metadata": {
        "id": "kP_05UmNVWWj"
      },
      "source": [
        "## 1. load the shapefile of ISTAT with the information of the provinces\n",
        "\n",
        "### This request is replaced with the use of geopackage\n",
        "\n",
        "In the course material a geopackage file is available with all the shapefiles of the administrative limits of ISTAT (2022) with generalized geometries\n",
        "\n",
        "[download](https://github.com/napo/geospatial_course_unitn/raw/master/data/istat/istat_administrative_units_2022.gpkg) the file *istat_administrative_units_generalized_2022.gpkg* from the repository from \n",
        "directory \"data\""
      ]
    },
    {
      "cell_type": "code",
      "execution_count": 6,
      "metadata": {
        "id": "RWje98iX3dTo"
      },
      "outputs": [],
      "source": [
        "url = 'https://github.com/napo/geospatial_course_unitn/raw/master/data/istat/istat_administrative_units_generalized_2022.gpkg'"
      ]
    },
    {
      "cell_type": "code",
      "execution_count": null,
      "metadata": {
        "id": "cdHsCvOThs8P"
      },
      "outputs": [],
      "source": [
        "urllib.request.urlretrieve(url ,\"istat_administrative_units_generalized_2022.gpkg\")"
      ]
    },
    {
      "cell_type": "markdown",
      "metadata": {
        "id": "gNWFco5RSlpo"
      },
      "source": [
        "### Geopackage\n",
        "![](https://www.ogc.org/pub/www/files/blog/Geopackage_layers.png)\n",
        "\n",
        "[GeoPackage](http://opengeospatial.github.io/e-learning/geopackage/text/basic-index.html) is used for storing and accessing:\n",
        "* Vector feature data\n",
        "* Imagery tile matrix sets\n",
        "* Raster map tile matrix sets\n",
        "* non-spatial tabular data\n",
        "* Metadata that describes other stored data\n",
        "\n",
        "To have a look at the structure of the files, download the files and open them using the basic SQLite3 command-line utility.\n",
        "\n",
        "```\n",
        "sqlite3 istat_administrative_units_generalized_2022.gpkg\n",
        "```\n",
        "```\n",
        "SQLite version 3.37.2 2022-01-06 13:25:41\n",
        "Enter \".help\" for usage hints.\n",
        "sqlite>.table\n",
        "```\n",
        "```\n",
        "gpkg_contents                     rtree_macroregions_geom_parent  \n",
        "gpkg_extensions                   rtree_macroregions_geom_rowid   \n",
        "gpkg_geometry_columns             rtree_municipalities_geom       \n",
        "gpkg_metadata                     rtree_municipalities_geom_node  \n",
        "gpkg_metadata_reference           rtree_municipalities_geom_parent\n",
        "gpkg_ogr_contents                 rtree_municipalities_geom_rowid \n",
        "gpkg_spatial_ref_sys              rtree_provincies_geom           \n",
        "gpkg_tile_matrix                  rtree_provincies_geom_node      \n",
        "gpkg_tile_matrix_set              rtree_provincies_geom_parent    \n",
        "macroregions                      rtree_provincies_geom_rowid     \n",
        "municipalities                    rtree_regions_geom              \n",
        "provincies                        rtree_regions_geom_node         \n",
        "regions                           rtree_regions_geom_parent       \n",
        "rtree_macroregions_geom           rtree_regions_geom_rowid        \n",
        "rtree_macroregions_geom_node     \n",
        "```\n",
        "```\n",
        "sqlite> .header on\n",
        "```\n",
        "\n",
        "\n",
        "```\n",
        "sqlite> select * from macroregions;\n",
        "```\n",
        "```\n",
        "fid|geom|COD_RIP|DEN_RIP|Shape_Leng|Shape_Area\n",
        "1|GP|1|Nord-Ovest|2330182.61891|57929577720.9\n",
        "2|GP|2|Nord-Est|2327764.9178|62385087837.3\n",
        "3|GP|3|Centro|2010203.10916|58018645204.4\n",
        "4|GP|4|Sud|2517096.68356|73777950167.2\n",
        "5|GP|5|Isole|2775538.337|49917777679.9\n",
        "```\n",
        "```\n",
        "sqlite> .q\n",
        "```"
      ]
    },
    {
      "cell_type": "markdown",
      "metadata": {
        "id": "gTbuN8zPT7KU"
      },
      "source": [
        "Geopandas can manage geopackage by using [fiona](https://github.com/Toblerity/Fiona)"
      ]
    },
    {
      "cell_type": "code",
      "execution_count": 9,
      "metadata": {
        "id": "Cf37VTckXGso"
      },
      "outputs": [],
      "source": [
        "import fiona"
      ]
    },
    {
      "cell_type": "code",
      "execution_count": 10,
      "metadata": {
        "colab": {
          "base_uri": "https://localhost:8080/"
        },
        "id": "igu8jGNSURc8",
        "outputId": "6e891e81-a3fd-4ab0-e929-06724f217fd6"
      },
      "outputs": [
        {
          "data": {
            "text/plain": [
              "{'ARCGEN': 'r',\n",
              " 'DXF': 'rw',\n",
              " 'CSV': 'raw',\n",
              " 'OpenFileGDB': 'r',\n",
              " 'ESRIJSON': 'r',\n",
              " 'ESRI Shapefile': 'raw',\n",
              " 'FlatGeobuf': 'rw',\n",
              " 'GeoJSON': 'raw',\n",
              " 'GeoJSONSeq': 'rw',\n",
              " 'GPKG': 'raw',\n",
              " 'GML': 'rw',\n",
              " 'OGR_GMT': 'rw',\n",
              " 'GPX': 'rw',\n",
              " 'GPSTrackMaker': 'rw',\n",
              " 'Idrisi': 'r',\n",
              " 'MapInfo File': 'raw',\n",
              " 'DGN': 'raw',\n",
              " 'OGR_PDS': 'r',\n",
              " 'S57': 'r',\n",
              " 'SQLite': 'raw',\n",
              " 'TopoJSON': 'r'}"
            ]
          },
          "execution_count": 10,
          "metadata": {},
          "output_type": "execute_result"
        }
      ],
      "source": [
        "fiona.supported_drivers"
      ]
    },
    {
      "cell_type": "markdown",
      "metadata": {
        "id": "zmEbOUq1UXVS"
      },
      "source": [
        "```\n",
        "'GPKG': 'raw',\n",
        "```\n",
        "**raw** => **r**ead **a**ppend **w**rite\n",
        "\n",
        "geopandas can:\n",
        "* **r**ead *geopackage* files\n",
        "* **a**append data to a *geopackage* file\n",
        "* **w**rite data to a *geopackage* file"
      ]
    },
    {
      "cell_type": "markdown",
      "metadata": {
        "id": "NYsMWOMmVM03"
      },
      "source": [
        "geopackage can store more layers, so we have to investigate the contents"
      ]
    },
    {
      "cell_type": "code",
      "execution_count": 11,
      "metadata": {
        "colab": {
          "base_uri": "https://localhost:8080/"
        },
        "id": "wpSZ5tBIXB47",
        "outputId": "024ef4b5-b786-432d-b62f-85d8fc000321"
      },
      "outputs": [
        {
          "data": {
            "text/plain": [
              "['macroregions', 'regions', 'provincies', 'municipalities']"
            ]
          },
          "execution_count": 11,
          "metadata": {},
          "output_type": "execute_result"
        }
      ],
      "source": [
        "fiona.listlayers('istat_administrative_units_generalized_2022.gpkg')"
      ]
    },
    {
      "cell_type": "code",
      "execution_count": 12,
      "metadata": {
        "id": "a3qnyANlWbyD"
      },
      "outputs": [],
      "source": [
        "provincies = gpd.read_file(\"istat_administrative_units_generalized_2022.gpkg\",layer=\"provincies\")"
      ]
    },
    {
      "cell_type": "markdown",
      "metadata": {
        "id": "oAK_mXvi_4oP"
      },
      "source": [
        "*TIP*: you can also download the file directly from geopandas with this function"
      ]
    },
    {
      "cell_type": "code",
      "execution_count": 14,
      "metadata": {
        "colab": {
          "base_uri": "https://localhost:8080/"
        },
        "id": "lobH1r9w_tk0",
        "outputId": "9bf425fd-adb5-420e-ed9b-0f4783ddcae4"
      },
      "outputs": [
        {
          "name": "stderr",
          "output_type": "stream",
          "text": [
            "WARNING:fiona._env:File /vsimem/a00e8be4b8444101b0507c606466fb12 has GPKG application_id, but non conformant file extension\n"
          ]
        }
      ],
      "source": [
        "provincies = gpd.read_file(url,layer=\"provincies\")"
      ]
    },
    {
      "cell_type": "code",
      "execution_count": 15,
      "metadata": {
        "colab": {
          "base_uri": "https://localhost:8080/",
          "height": 364
        },
        "id": "gcHUE-7VWqaY",
        "outputId": "2ef9c532-839c-4a79-e18a-0c2b202983c2"
      },
      "outputs": [
        {
          "data": {
            "text/html": [
              "\n",
              "  <div id=\"df-086afd5f-5a57-4c9a-a1c8-d4a911a84a3f\">\n",
              "    <div class=\"colab-df-container\">\n",
              "      <div>\n",
              "<style scoped>\n",
              "    .dataframe tbody tr th:only-of-type {\n",
              "        vertical-align: middle;\n",
              "    }\n",
              "\n",
              "    .dataframe tbody tr th {\n",
              "        vertical-align: top;\n",
              "    }\n",
              "\n",
              "    .dataframe thead th {\n",
              "        text-align: right;\n",
              "    }\n",
              "</style>\n",
              "<table border=\"1\" class=\"dataframe\">\n",
              "  <thead>\n",
              "    <tr style=\"text-align: right;\">\n",
              "      <th></th>\n",
              "      <th>COD_RIP</th>\n",
              "      <th>COD_REG</th>\n",
              "      <th>COD_PROV</th>\n",
              "      <th>COD_CM</th>\n",
              "      <th>COD_UTS</th>\n",
              "      <th>DEN_PROV</th>\n",
              "      <th>DEN_CM</th>\n",
              "      <th>DEN_UTS</th>\n",
              "      <th>SIGLA</th>\n",
              "      <th>TIPO_UTS</th>\n",
              "      <th>Shape_Leng</th>\n",
              "      <th>Shape_Area</th>\n",
              "      <th>geometry</th>\n",
              "    </tr>\n",
              "  </thead>\n",
              "  <tbody>\n",
              "    <tr>\n",
              "      <th>0</th>\n",
              "      <td>1</td>\n",
              "      <td>1</td>\n",
              "      <td>1</td>\n",
              "      <td>201</td>\n",
              "      <td>201</td>\n",
              "      <td>-</td>\n",
              "      <td>Torino</td>\n",
              "      <td>Torino</td>\n",
              "      <td>TO</td>\n",
              "      <td>Citta metropolitana</td>\n",
              "      <td>539249.811270</td>\n",
              "      <td>6.828137e+09</td>\n",
              "      <td>MULTIPOLYGON (((411015.006 5049970.983, 411266...</td>\n",
              "    </tr>\n",
              "    <tr>\n",
              "      <th>1</th>\n",
              "      <td>1</td>\n",
              "      <td>1</td>\n",
              "      <td>2</td>\n",
              "      <td>0</td>\n",
              "      <td>2</td>\n",
              "      <td>Vercelli</td>\n",
              "      <td>-</td>\n",
              "      <td>Vercelli</td>\n",
              "      <td>VC</td>\n",
              "      <td>Provincia</td>\n",
              "      <td>418078.067821</td>\n",
              "      <td>2.082097e+09</td>\n",
              "      <td>MULTIPOLYGON (((438328.612 5087208.215, 439028...</td>\n",
              "    </tr>\n",
              "    <tr>\n",
              "      <th>2</th>\n",
              "      <td>1</td>\n",
              "      <td>1</td>\n",
              "      <td>3</td>\n",
              "      <td>0</td>\n",
              "      <td>3</td>\n",
              "      <td>Novara</td>\n",
              "      <td>-</td>\n",
              "      <td>Novara</td>\n",
              "      <td>NO</td>\n",
              "      <td>Provincia</td>\n",
              "      <td>250242.030547</td>\n",
              "      <td>1.341318e+09</td>\n",
              "      <td>MULTIPOLYGON (((460929.542 5076320.298, 461165...</td>\n",
              "    </tr>\n",
              "  </tbody>\n",
              "</table>\n",
              "</div>\n",
              "      <button class=\"colab-df-convert\" onclick=\"convertToInteractive('df-086afd5f-5a57-4c9a-a1c8-d4a911a84a3f')\"\n",
              "              title=\"Convert this dataframe to an interactive table.\"\n",
              "              style=\"display:none;\">\n",
              "        \n",
              "  <svg xmlns=\"http://www.w3.org/2000/svg\" height=\"24px\"viewBox=\"0 0 24 24\"\n",
              "       width=\"24px\">\n",
              "    <path d=\"M0 0h24v24H0V0z\" fill=\"none\"/>\n",
              "    <path d=\"M18.56 5.44l.94 2.06.94-2.06 2.06-.94-2.06-.94-.94-2.06-.94 2.06-2.06.94zm-11 1L8.5 8.5l.94-2.06 2.06-.94-2.06-.94L8.5 2.5l-.94 2.06-2.06.94zm10 10l.94 2.06.94-2.06 2.06-.94-2.06-.94-.94-2.06-.94 2.06-2.06.94z\"/><path d=\"M17.41 7.96l-1.37-1.37c-.4-.4-.92-.59-1.43-.59-.52 0-1.04.2-1.43.59L10.3 9.45l-7.72 7.72c-.78.78-.78 2.05 0 2.83L4 21.41c.39.39.9.59 1.41.59.51 0 1.02-.2 1.41-.59l7.78-7.78 2.81-2.81c.8-.78.8-2.07 0-2.86zM5.41 20L4 18.59l7.72-7.72 1.47 1.35L5.41 20z\"/>\n",
              "  </svg>\n",
              "      </button>\n",
              "      \n",
              "  <style>\n",
              "    .colab-df-container {\n",
              "      display:flex;\n",
              "      flex-wrap:wrap;\n",
              "      gap: 12px;\n",
              "    }\n",
              "\n",
              "    .colab-df-convert {\n",
              "      background-color: #E8F0FE;\n",
              "      border: none;\n",
              "      border-radius: 50%;\n",
              "      cursor: pointer;\n",
              "      display: none;\n",
              "      fill: #1967D2;\n",
              "      height: 32px;\n",
              "      padding: 0 0 0 0;\n",
              "      width: 32px;\n",
              "    }\n",
              "\n",
              "    .colab-df-convert:hover {\n",
              "      background-color: #E2EBFA;\n",
              "      box-shadow: 0px 1px 2px rgba(60, 64, 67, 0.3), 0px 1px 3px 1px rgba(60, 64, 67, 0.15);\n",
              "      fill: #174EA6;\n",
              "    }\n",
              "\n",
              "    [theme=dark] .colab-df-convert {\n",
              "      background-color: #3B4455;\n",
              "      fill: #D2E3FC;\n",
              "    }\n",
              "\n",
              "    [theme=dark] .colab-df-convert:hover {\n",
              "      background-color: #434B5C;\n",
              "      box-shadow: 0px 1px 3px 1px rgba(0, 0, 0, 0.15);\n",
              "      filter: drop-shadow(0px 1px 2px rgba(0, 0, 0, 0.3));\n",
              "      fill: #FFFFFF;\n",
              "    }\n",
              "  </style>\n",
              "\n",
              "      <script>\n",
              "        const buttonEl =\n",
              "          document.querySelector('#df-086afd5f-5a57-4c9a-a1c8-d4a911a84a3f button.colab-df-convert');\n",
              "        buttonEl.style.display =\n",
              "          google.colab.kernel.accessAllowed ? 'block' : 'none';\n",
              "\n",
              "        async function convertToInteractive(key) {\n",
              "          const element = document.querySelector('#df-086afd5f-5a57-4c9a-a1c8-d4a911a84a3f');\n",
              "          const dataTable =\n",
              "            await google.colab.kernel.invokeFunction('convertToInteractive',\n",
              "                                                     [key], {});\n",
              "          if (!dataTable) return;\n",
              "\n",
              "          const docLinkHtml = 'Like what you see? Visit the ' +\n",
              "            '<a target=\"_blank\" href=https://colab.research.google.com/notebooks/data_table.ipynb>data table notebook</a>'\n",
              "            + ' to learn more about interactive tables.';\n",
              "          element.innerHTML = '';\n",
              "          dataTable['output_type'] = 'display_data';\n",
              "          await google.colab.output.renderOutput(dataTable, element);\n",
              "          const docLink = document.createElement('div');\n",
              "          docLink.innerHTML = docLinkHtml;\n",
              "          element.appendChild(docLink);\n",
              "        }\n",
              "      </script>\n",
              "    </div>\n",
              "  </div>\n",
              "  "
            ],
            "text/plain": [
              "   COD_RIP  COD_REG  COD_PROV  COD_CM  COD_UTS  DEN_PROV  DEN_CM   DEN_UTS  \\\n",
              "0        1        1         1     201      201         -  Torino    Torino   \n",
              "1        1        1         2       0        2  Vercelli       -  Vercelli   \n",
              "2        1        1         3       0        3    Novara       -    Novara   \n",
              "\n",
              "  SIGLA             TIPO_UTS     Shape_Leng    Shape_Area  \\\n",
              "0    TO  Citta metropolitana  539249.811270  6.828137e+09   \n",
              "1    VC            Provincia  418078.067821  2.082097e+09   \n",
              "2    NO            Provincia  250242.030547  1.341318e+09   \n",
              "\n",
              "                                            geometry  \n",
              "0  MULTIPOLYGON (((411015.006 5049970.983, 411266...  \n",
              "1  MULTIPOLYGON (((438328.612 5087208.215, 439028...  \n",
              "2  MULTIPOLYGON (((460929.542 5076320.298, 461165...  "
            ]
          },
          "execution_count": 15,
          "metadata": {},
          "output_type": "execute_result"
        }
      ],
      "source": [
        "provincies.head(3)"
      ]
    },
    {
      "cell_type": "code",
      "execution_count": 16,
      "metadata": {
        "colab": {
          "base_uri": "https://localhost:8080/"
        },
        "id": "i1MtGFC0VvQu",
        "outputId": "75f4fcb3-efd7-4a2c-ccd7-c491cd5f7c42"
      },
      "outputs": [
        {
          "data": {
            "text/plain": [
              "Index(['COD_RIP', 'COD_REG', 'COD_PROV', 'COD_CM', 'COD_UTS', 'DEN_PROV',\n",
              "       'DEN_CM', 'DEN_UTS', 'SIGLA', 'TIPO_UTS', 'Shape_Leng', 'Shape_Area',\n",
              "       'geometry'],\n",
              "      dtype='object')"
            ]
          },
          "execution_count": 16,
          "metadata": {},
          "output_type": "execute_result"
        }
      ],
      "source": [
        "provincies.columns"
      ]
    },
    {
      "cell_type": "markdown",
      "metadata": {
        "id": "9dv1SuJKVsgl"
      },
      "source": [
        "**COD_RIP**<br/>\n",
        "*codice ripartizione*<br/>\n",
        "numeric code of the macroregion of belonging\n",
        "\n",
        "**COD_REG**<br/>\n",
        "*codice regione*<br/>\n",
        "numeric code of the region of belonging\n",
        "\n",
        "**COD_PROV**<br/>\n",
        "*codice provincia*<br/>\n",
        "numeric code of the region of belonging\n",
        "\n",
        "**COD_CM**<br/>\n",
        "*codice comune*<br/>\n",
        "Istat code of the metropolitan city (three characters in\n",
        "reference to all official statistics are\n",
        "numeric format) obtained by adding the value 200 to\n",
        "adopted the statistical codes of the cities\n",
        "corresponding code of the province.\n",
        "\n",
        "**COD_UTS**<br/>\n",
        "*codice unità territoriali sovracomunali*<br/>\n",
        "Numeric code that uniquely identifies the Units\n",
        "territorial supra-municipal on the national territory.\n",
        "\n",
        "**DEN_PROV**<br/>\n",
        "*denominazione provincia*<br/>\n",
        "name of the province\n",
        "\n",
        "**DEN_CM**<br/>\n",
        "*denominazione città metropolitana*<br/>\n",
        "name of the metropolitan city\n",
        "\n",
        "**DEN_UTS**<br/>\n",
        "*denominazione unità territoriale sovracomunale*<br/>\n",
        "Denomination of the supra-municipal territorial units.\n",
        "\n",
        "**SIGLA**<br/>\n",
        "*sigla*<br/>\n",
        "abbreviation\n",
        "\n",
        "**TIPO_UTS**<br/>\n",
        "*tipologia unità territoriale sovracomunale*<br/>\n",
        "kind of supra-municipal territorial units.\n",
        "\n"
      ]
    },
    {
      "cell_type": "markdown",
      "metadata": {
        "id": "k3c2DpbwXVwp"
      },
      "source": [
        "### filter it for an italian provice at your choice (eg. Trento)\n",
        "\n",
        "obtain the list of all the provincies"
      ]
    },
    {
      "cell_type": "code",
      "execution_count": 17,
      "metadata": {
        "colab": {
          "base_uri": "https://localhost:8080/"
        },
        "id": "nAivKuiMALan",
        "outputId": "7ec7aea9-486d-4afa-9228-130b54e8d6f8"
      },
      "outputs": [
        {
          "data": {
            "text/plain": [
              "array(['-', 'Vercelli', 'Novara', 'Cuneo', 'Asti', 'Alessandria', 'Aosta',\n",
              "       'Imperia', 'Savona', 'La Spezia', 'Varese', 'Como', 'Sondrio',\n",
              "       'Bergamo', 'Brescia', 'Pavia', 'Cremona', 'Mantova', 'Bolzano',\n",
              "       'Trento', 'Verona', 'Vicenza', 'Belluno', 'Treviso', 'Padova',\n",
              "       'Rovigo', 'Udine', 'Gorizia', 'Trieste', 'Piacenza', 'Parma',\n",
              "       \"Reggio nell'Emilia\", 'Modena', 'Ferrara', 'Ravenna',\n",
              "       \"Forli'-Cesena\", 'Pesaro e Urbino', 'Ancona', 'Macerata',\n",
              "       'Ascoli Piceno', 'Massa Carrara', 'Lucca', 'Pistoia', 'Livorno',\n",
              "       'Pisa', 'Arezzo', 'Siena', 'Grosseto', 'Perugia', 'Terni',\n",
              "       'Viterbo', 'Rieti', 'Latina', 'Frosinone', 'Caserta', 'Benevento',\n",
              "       'Avellino', 'Salerno', \"L'Aquila\", 'Teramo', 'Pescara', 'Chieti',\n",
              "       'Campobasso', 'Foggia', 'Taranto', 'Brindisi', 'Lecce', 'Potenza',\n",
              "       'Matera', 'Cosenza', 'Catanzaro', 'Trapani', 'Agrigento',\n",
              "       'Caltanissetta', 'Enna', 'Ragusa', 'Siracusa', 'Sassari', 'Nuoro',\n",
              "       'Pordenone', 'Isernia', 'Oristano', 'Biella', 'Lecco', 'Lodi',\n",
              "       'Rimini', 'Prato', 'Crotone', 'Vibo Valentia',\n",
              "       'Verbano-Cusio-Ossola', 'Monza e della Brianza', 'Fermo',\n",
              "       'Barletta-Andria-Trani', 'Sud Sardegna'], dtype=object)"
            ]
          },
          "execution_count": 17,
          "metadata": {},
          "output_type": "execute_result"
        }
      ],
      "source": [
        "provincies['DEN_PROV'].unique()"
      ]
    },
    {
      "cell_type": "markdown",
      "metadata": {
        "id": "3xadwHnaAnD1"
      },
      "source": [
        "obtain the list of all the metropolitan ciies"
      ]
    },
    {
      "cell_type": "code",
      "execution_count": 18,
      "metadata": {
        "colab": {
          "base_uri": "https://localhost:8080/"
        },
        "id": "T8nPq64OAtmJ",
        "outputId": "b00502d9-a313-4544-fa23-86223ab134aa"
      },
      "outputs": [
        {
          "data": {
            "text/plain": [
              "array(['Torino', '-', 'Genova', 'Milano', 'Venezia', 'Bologna', 'Firenze',\n",
              "       'Roma', 'Napoli', 'Bari', 'Reggio di Calabria', 'Palermo',\n",
              "       'Messina', 'Catania', 'Cagliari'], dtype=object)"
            ]
          },
          "execution_count": 18,
          "metadata": {},
          "output_type": "execute_result"
        }
      ],
      "source": [
        "provincies.DEN_CM.unique()"
      ]
    },
    {
      "cell_type": "markdown",
      "metadata": {
        "id": "gdaz8GslA6Q8"
      },
      "source": [
        "choose the province of Trento"
      ]
    },
    {
      "cell_type": "code",
      "execution_count": 20,
      "metadata": {
        "id": "btDGt41ZIeGO"
      },
      "outputs": [],
      "source": [
        "province_of_trento = provincies[provincies['DEN_PROV']=='Trento']"
      ]
    },
    {
      "cell_type": "code",
      "execution_count": 21,
      "metadata": {
        "colab": {
          "base_uri": "https://localhost:8080/",
          "height": 197
        },
        "id": "krZReRm1Ihk0",
        "outputId": "3d18dc90-433d-4519-8ec0-b4e18e2a9ede"
      },
      "outputs": [
        {
          "data": {
            "text/html": [
              "\n",
              "  <div id=\"df-5c77aeae-f81a-4cf7-bbc6-14ca327b3b7a\">\n",
              "    <div class=\"colab-df-container\">\n",
              "      <div>\n",
              "<style scoped>\n",
              "    .dataframe tbody tr th:only-of-type {\n",
              "        vertical-align: middle;\n",
              "    }\n",
              "\n",
              "    .dataframe tbody tr th {\n",
              "        vertical-align: top;\n",
              "    }\n",
              "\n",
              "    .dataframe thead th {\n",
              "        text-align: right;\n",
              "    }\n",
              "</style>\n",
              "<table border=\"1\" class=\"dataframe\">\n",
              "  <thead>\n",
              "    <tr style=\"text-align: right;\">\n",
              "      <th></th>\n",
              "      <th>COD_RIP</th>\n",
              "      <th>COD_REG</th>\n",
              "      <th>COD_PROV</th>\n",
              "      <th>COD_CM</th>\n",
              "      <th>COD_UTS</th>\n",
              "      <th>DEN_PROV</th>\n",
              "      <th>DEN_CM</th>\n",
              "      <th>DEN_UTS</th>\n",
              "      <th>SIGLA</th>\n",
              "      <th>TIPO_UTS</th>\n",
              "      <th>Shape_Leng</th>\n",
              "      <th>Shape_Area</th>\n",
              "      <th>geometry</th>\n",
              "    </tr>\n",
              "  </thead>\n",
              "  <tbody>\n",
              "    <tr>\n",
              "      <th>21</th>\n",
              "      <td>2</td>\n",
              "      <td>4</td>\n",
              "      <td>22</td>\n",
              "      <td>0</td>\n",
              "      <td>22</td>\n",
              "      <td>Trento</td>\n",
              "      <td>-</td>\n",
              "      <td>Trento</td>\n",
              "      <td>TN</td>\n",
              "      <td>Provincia autonoma</td>\n",
              "      <td>594758.785501</td>\n",
              "      <td>6.208170e+09</td>\n",
              "      <td>MULTIPOLYGON (((716676.337 5153931.623, 716029...</td>\n",
              "    </tr>\n",
              "  </tbody>\n",
              "</table>\n",
              "</div>\n",
              "      <button class=\"colab-df-convert\" onclick=\"convertToInteractive('df-5c77aeae-f81a-4cf7-bbc6-14ca327b3b7a')\"\n",
              "              title=\"Convert this dataframe to an interactive table.\"\n",
              "              style=\"display:none;\">\n",
              "        \n",
              "  <svg xmlns=\"http://www.w3.org/2000/svg\" height=\"24px\"viewBox=\"0 0 24 24\"\n",
              "       width=\"24px\">\n",
              "    <path d=\"M0 0h24v24H0V0z\" fill=\"none\"/>\n",
              "    <path d=\"M18.56 5.44l.94 2.06.94-2.06 2.06-.94-2.06-.94-.94-2.06-.94 2.06-2.06.94zm-11 1L8.5 8.5l.94-2.06 2.06-.94-2.06-.94L8.5 2.5l-.94 2.06-2.06.94zm10 10l.94 2.06.94-2.06 2.06-.94-2.06-.94-.94-2.06-.94 2.06-2.06.94z\"/><path d=\"M17.41 7.96l-1.37-1.37c-.4-.4-.92-.59-1.43-.59-.52 0-1.04.2-1.43.59L10.3 9.45l-7.72 7.72c-.78.78-.78 2.05 0 2.83L4 21.41c.39.39.9.59 1.41.59.51 0 1.02-.2 1.41-.59l7.78-7.78 2.81-2.81c.8-.78.8-2.07 0-2.86zM5.41 20L4 18.59l7.72-7.72 1.47 1.35L5.41 20z\"/>\n",
              "  </svg>\n",
              "      </button>\n",
              "      \n",
              "  <style>\n",
              "    .colab-df-container {\n",
              "      display:flex;\n",
              "      flex-wrap:wrap;\n",
              "      gap: 12px;\n",
              "    }\n",
              "\n",
              "    .colab-df-convert {\n",
              "      background-color: #E8F0FE;\n",
              "      border: none;\n",
              "      border-radius: 50%;\n",
              "      cursor: pointer;\n",
              "      display: none;\n",
              "      fill: #1967D2;\n",
              "      height: 32px;\n",
              "      padding: 0 0 0 0;\n",
              "      width: 32px;\n",
              "    }\n",
              "\n",
              "    .colab-df-convert:hover {\n",
              "      background-color: #E2EBFA;\n",
              "      box-shadow: 0px 1px 2px rgba(60, 64, 67, 0.3), 0px 1px 3px 1px rgba(60, 64, 67, 0.15);\n",
              "      fill: #174EA6;\n",
              "    }\n",
              "\n",
              "    [theme=dark] .colab-df-convert {\n",
              "      background-color: #3B4455;\n",
              "      fill: #D2E3FC;\n",
              "    }\n",
              "\n",
              "    [theme=dark] .colab-df-convert:hover {\n",
              "      background-color: #434B5C;\n",
              "      box-shadow: 0px 1px 3px 1px rgba(0, 0, 0, 0.15);\n",
              "      filter: drop-shadow(0px 1px 2px rgba(0, 0, 0, 0.3));\n",
              "      fill: #FFFFFF;\n",
              "    }\n",
              "  </style>\n",
              "\n",
              "      <script>\n",
              "        const buttonEl =\n",
              "          document.querySelector('#df-5c77aeae-f81a-4cf7-bbc6-14ca327b3b7a button.colab-df-convert');\n",
              "        buttonEl.style.display =\n",
              "          google.colab.kernel.accessAllowed ? 'block' : 'none';\n",
              "\n",
              "        async function convertToInteractive(key) {\n",
              "          const element = document.querySelector('#df-5c77aeae-f81a-4cf7-bbc6-14ca327b3b7a');\n",
              "          const dataTable =\n",
              "            await google.colab.kernel.invokeFunction('convertToInteractive',\n",
              "                                                     [key], {});\n",
              "          if (!dataTable) return;\n",
              "\n",
              "          const docLinkHtml = 'Like what you see? Visit the ' +\n",
              "            '<a target=\"_blank\" href=https://colab.research.google.com/notebooks/data_table.ipynb>data table notebook</a>'\n",
              "            + ' to learn more about interactive tables.';\n",
              "          element.innerHTML = '';\n",
              "          dataTable['output_type'] = 'display_data';\n",
              "          await google.colab.output.renderOutput(dataTable, element);\n",
              "          const docLink = document.createElement('div');\n",
              "          docLink.innerHTML = docLinkHtml;\n",
              "          element.appendChild(docLink);\n",
              "        }\n",
              "      </script>\n",
              "    </div>\n",
              "  </div>\n",
              "  "
            ],
            "text/plain": [
              "    COD_RIP  COD_REG  COD_PROV  COD_CM  COD_UTS DEN_PROV DEN_CM DEN_UTS SIGLA  \\\n",
              "21        2        4        22       0       22   Trento      -  Trento    TN   \n",
              "\n",
              "              TIPO_UTS     Shape_Leng    Shape_Area  \\\n",
              "21  Provincia autonoma  594758.785501  6.208170e+09   \n",
              "\n",
              "                                             geometry  \n",
              "21  MULTIPOLYGON (((716676.337 5153931.623, 716029...  "
            ]
          },
          "execution_count": 21,
          "metadata": {},
          "output_type": "execute_result"
        }
      ],
      "source": [
        "province_of_trento"
      ]
    },
    {
      "cell_type": "markdown",
      "metadata": {
        "id": "8nQ0YPYvZ_2J"
      },
      "source": [
        "### plot it"
      ]
    },
    {
      "cell_type": "code",
      "execution_count": 22,
      "metadata": {
        "colab": {
          "base_uri": "https://localhost:8080/",
          "height": 527
        },
        "id": "J3KKa1HqIk99",
        "outputId": "70b9abd8-13d2-4c1d-c12f-83d3e6bc5597"
      },
      "outputs": [
        {
          "data": {
            "image/png": "[encoded data removed]",
            "text/plain": [
              "<Figure size 720x720 with 1 Axes>"
            ]
          },
          "metadata": {
            "needs_background": "light"
          },
          "output_type": "display_data"
        }
      ],
      "source": [
        "province_of_trento.plot(figsize=(10,10))\n",
        "plt.show()"
      ]
    },
    {
      "cell_type": "markdown",
      "metadata": {
        "id": "sNuk2GFbaEe0"
      },
      "source": [
        "## 2. load the shapefile of ISTAT with the informations of the muncipalities\n",
        "### identify the municipalities of the province selected with the biggest and smallest area\n",
        "\n",
        "this means we need to use another layer / dataset"
      ]
    },
    {
      "cell_type": "code",
      "execution_count": 23,
      "metadata": {
        "colab": {
          "base_uri": "https://localhost:8080/"
        },
        "id": "c6LWnGag-8je",
        "outputId": "2a114033-79de-45b4-8c35-5c09836e805a"
      },
      "outputs": [
        {
          "name": "stderr",
          "output_type": "stream",
          "text": [
            "WARNING:fiona._env:File /vsimem/bff5372ff2dc43c3b114ee0fc1f5f392 has GPKG application_id, but non conformant file extension\n"
          ]
        }
      ],
      "source": [
        "municipalities = gpd.read_file(url,layer=\"municipalities\")"
      ]
    },
    {
      "cell_type": "code",
      "execution_count": 24,
      "metadata": {
        "colab": {
          "base_uri": "https://localhost:8080/"
        },
        "id": "XlAUfmNwJojm",
        "outputId": "2e2eefa4-b373-4b8d-e657-15075cc67af5"
      },
      "outputs": [
        {
          "data": {
            "text/plain": [
              "Index(['COD_RIP', 'COD_REG', 'COD_PROV', 'COD_CM', 'COD_UTS', 'PRO_COM',\n",
              "       'PRO_COM_T', 'COMUNE', 'COMUNE_A', 'CC_UTS', 'Shape_Leng', 'Shape_Area',\n",
              "       'geometry'],\n",
              "      dtype='object')"
            ]
          },
          "execution_count": 24,
          "metadata": {},
          "output_type": "execute_result"
        }
      ],
      "source": [
        "municipalities.columns"
      ]
    },
    {
      "cell_type": "markdown",
      "metadata": {
        "id": "jX4dEbEt9Zgo"
      },
      "source": [
        "**COD_RIP**<br/>\n",
        "*codice ripartizione*<br/>\n",
        "numeric code of the macroregion of belonging\n",
        "\n",
        "**COD_REG**<br/>\n",
        "*codice regione*<br/>\n",
        "numeric code of the region of belonging\n",
        "\n",
        "**COD_PROV**<br/>\n",
        "*codice provincia*<br/>\n",
        "numeric code of the region of belonging\n",
        "\n",
        "**COD_CM**<br/>\n",
        "*codice comune*<br/>\n",
        "unique numeric identification code of the municipality within the province of belonging\n",
        "\n",
        "**COD_UTS**<br/>\n",
        "*codice unità territoriali sovracomunali*<br/>\n",
        "Numeric code that uniquely identifies the Units\n",
        "territorial supra-municipal on the national territory.\n",
        "\n",
        "**PRO_COM**<br/>\n",
        "*provincia comune**<br/>\n",
        "Numeric code that uniquely identifies the Municipality\n",
        "on the national territory. (= COD_PROV & COD_COM) \n",
        "\n",
        "**PRO_COM_T**<br/>\n",
        "*provincia comune territorio**<br/>\n",
        "Alphanumeric code that uniquely identifies the\n",
        "Municipality on the national territory.<br/>\n",
        "Like PRO_COM but definied in 6 fixed characters.\n",
        "\n",
        "**COMUNE**<br/>\n",
        "*comune*<br/>\n",
        "Name of the Municipality\n",
        "\n",
        "**COMUNE_A**<br/>\n",
        "*comune alternativa*<br/>\n",
        "Name of the Municipality in a language other than Italian\n",
        "\n",
        "**CC_UTS**<br/>\n",
        "*comune capoluogo*<br/>\n",
        "Provincial capital or metropolitan city<br/>\n",
        "1 => True<br/>\n",
        "2 => False\n",
        "\n"
      ]
    },
    {
      "cell_type": "markdown",
      "metadata": {
        "id": "4cRRhYVCakDq"
      },
      "source": [
        "the **COD_PROV** of the Province of Trento is **22**"
      ]
    },
    {
      "cell_type": "code",
      "execution_count": 25,
      "metadata": {
        "id": "UjYOlOPeJtZg"
      },
      "outputs": [],
      "source": [
        "# filter the province\n",
        "municipalities_province_trento = municipalities[municipalities.COD_PROV==22]"
      ]
    },
    {
      "cell_type": "code",
      "execution_count": 26,
      "metadata": {
        "colab": {
          "base_uri": "https://localhost:8080/",
          "height": 527
        },
        "id": "pgcYsr41JxXE",
        "outputId": "190a89ad-37f7-4bae-8931-29da338b154f"
      },
      "outputs": [
        {
          "data": {
            "image/png": "[encoded data removed]",
            "text/plain": [
              "<Figure size 720x720 with 1 Axes>"
            ]
          },
          "metadata": {
            "needs_background": "light"
          },
          "output_type": "display_data"
        }
      ],
      "source": [
        "# plot it\n",
        "municipalities_province_trento.plot(figsize=(10,10))\n",
        "plt.show()"
      ]
    },
    {
      "cell_type": "markdown",
      "metadata": {
        "id": "nG87m3Hna9ZB"
      },
      "source": [
        "### identify the cities of the province selected with the biggest and smallest area\n",
        "\n",
        "**CAUTION**:\n",
        "\n",
        "we are using generalized boundaries !!!"
      ]
    },
    {
      "cell_type": "markdown",
      "metadata": {
        "id": "CotX0EIMcrDU"
      },
      "source": [
        "finding the max area"
      ]
    },
    {
      "cell_type": "code",
      "execution_count": 27,
      "metadata": {
        "id": "ed1E9oyvJ0yu"
      },
      "outputs": [],
      "source": [
        "max_area = municipalities_province_trento.geometry.area.max()"
      ]
    },
    {
      "cell_type": "code",
      "execution_count": 28,
      "metadata": {
        "colab": {
          "base_uri": "https://localhost:8080/"
        },
        "id": "DHj8IQ0LFY3t",
        "outputId": "816ac333-d9c8-40a9-edb4-75d0a43b72ba"
      },
      "outputs": [
        {
          "data": {
            "text/plain": [
              "199625902.75494903"
            ]
          },
          "execution_count": 28,
          "metadata": {},
          "output_type": "execute_result"
        }
      ],
      "source": [
        "max_area"
      ]
    },
    {
      "cell_type": "markdown",
      "metadata": {
        "id": "6othNPYvcvoB"
      },
      "source": [
        "finding the min area"
      ]
    },
    {
      "cell_type": "code",
      "execution_count": 29,
      "metadata": {
        "id": "9G4hMiQCJ3Af"
      },
      "outputs": [],
      "source": [
        "min_area = municipalities_province_trento.geometry.area.min()"
      ]
    },
    {
      "cell_type": "code",
      "execution_count": 30,
      "metadata": {
        "colab": {
          "base_uri": "https://localhost:8080/"
        },
        "id": "7vnVp3RWFa2G",
        "outputId": "19dbd243-17fd-47b7-e5e1-f04a0ddbf67d"
      },
      "outputs": [
        {
          "data": {
            "text/plain": [
              "1652100.49475859"
            ]
          },
          "execution_count": 30,
          "metadata": {},
          "output_type": "execute_result"
        }
      ],
      "source": [
        "min_area"
      ]
    },
    {
      "cell_type": "markdown",
      "metadata": {
        "id": "mIcFXpBdbb4G"
      },
      "source": [
        "... you can obtain the same in another way (combination of the requests)"
      ]
    },
    {
      "cell_type": "code",
      "execution_count": 31,
      "metadata": {
        "colab": {
          "base_uri": "https://localhost:8080/"
        },
        "id": "6LU7py1VbdXT",
        "outputId": "f693c0cd-6265-44cf-ec64-29824743eb33"
      },
      "outputs": [
        {
          "data": {
            "text/plain": [
              "1652100.49475859"
            ]
          },
          "execution_count": 31,
          "metadata": {},
          "output_type": "execute_result"
        }
      ],
      "source": [
        "municipalities[municipalities.COD_PROV==22].geometry.area.min()"
      ]
    },
    {
      "cell_type": "markdown",
      "metadata": {
        "id": "Jzy-S7i4cZdy"
      },
      "source": [
        "### identify the municipality with the biggest area\n",
        "\n",
        "\n"
      ]
    },
    {
      "cell_type": "code",
      "execution_count": 32,
      "metadata": {
        "id": "HnefpEIAJ50g"
      },
      "outputs": [],
      "source": [
        "maxarea_municipality_trentino = municipalities_province_trento[municipalities_province_trento.geometry.area == max_area]"
      ]
    },
    {
      "cell_type": "code",
      "execution_count": 33,
      "metadata": {
        "colab": {
          "base_uri": "https://localhost:8080/"
        },
        "id": "oLEC0CPXJ_FY",
        "outputId": "9d314a19-c87e-4048-b04a-002499b2d484"
      },
      "outputs": [
        {
          "data": {
            "text/plain": [
              "3025    022245\n",
              "Name: PRO_COM_T, dtype: object"
            ]
          },
          "execution_count": 33,
          "metadata": {},
          "output_type": "execute_result"
        }
      ],
      "source": [
        "maxarea_municipality_trentino.PRO_COM_T"
      ]
    },
    {
      "cell_type": "code",
      "execution_count": 34,
      "metadata": {
        "colab": {
          "base_uri": "https://localhost:8080/"
        },
        "id": "zirOh3UpdWwe",
        "outputId": "4d424ff1-7de5-481f-df19-6f2990f5eb24"
      },
      "outputs": [
        {
          "data": {
            "text/plain": [
              "3025    Primiero San Martino di Castrozza\n",
              "Name: COMUNE, dtype: object"
            ]
          },
          "execution_count": 34,
          "metadata": {},
          "output_type": "execute_result"
        }
      ],
      "source": [
        "maxarea_municipality_trentino.COMUNE"
      ]
    },
    {
      "cell_type": "markdown",
      "metadata": {
        "id": "fbyYIwZ6dGdY"
      },
      "source": [
        "the municipality with the bigger area is **Primiero San Martino di Castrozza** (022245)"
      ]
    },
    {
      "cell_type": "code",
      "execution_count": 35,
      "metadata": {
        "colab": {
          "base_uri": "https://localhost:8080/",
          "height": 602
        },
        "id": "EYgIAJx1_KTV",
        "outputId": "98e17900-f853-4ccc-97c3-ccb8fd0387f6"
      },
      "outputs": [
        {
          "data": {
            "image/png": "[encoded data removed]",
            "text/plain": [
              "<Figure size 720x720 with 1 Axes>"
            ]
          },
          "metadata": {
            "needs_background": "light"
          },
          "output_type": "display_data"
        }
      ],
      "source": [
        "maxarea_municipality_trentino.plot(figsize=(10,10))\n",
        "plt.show()"
      ]
    },
    {
      "cell_type": "markdown",
      "metadata": {
        "id": "ShodskgCdegB"
      },
      "source": [
        "### identify the municipality with the smallest area\n"
      ]
    },
    {
      "cell_type": "code",
      "execution_count": 36,
      "metadata": {
        "id": "waSNAaUaJ8DM"
      },
      "outputs": [],
      "source": [
        "minarea_municipality_trentino = municipalities_province_trento[municipalities_province_trento.geometry.area == min_area]"
      ]
    },
    {
      "cell_type": "code",
      "execution_count": 37,
      "metadata": {
        "colab": {
          "base_uri": "https://localhost:8080/"
        },
        "id": "dTvZsDYWKCf1",
        "outputId": "b1e3eeab-a9e8-4e11-82b7-75b923737c22"
      },
      "outputs": [
        {
          "data": {
            "text/plain": [
              "2896    Carzano\n",
              "Name: COMUNE, dtype: object"
            ]
          },
          "execution_count": 37,
          "metadata": {},
          "output_type": "execute_result"
        }
      ],
      "source": [
        "minarea_municipality_trentino.COMUNE"
      ]
    },
    {
      "cell_type": "code",
      "execution_count": 38,
      "metadata": {
        "colab": {
          "base_uri": "https://localhost:8080/"
        },
        "id": "BJoda9zhdtzD",
        "outputId": "9c279b29-c5a6-4c84-f51c-e3df5251b1c2"
      },
      "outputs": [
        {
          "data": {
            "text/plain": [
              "2896    022043\n",
              "Name: PRO_COM_T, dtype: object"
            ]
          },
          "execution_count": 38,
          "metadata": {},
          "output_type": "execute_result"
        }
      ],
      "source": [
        "minarea_municipality_trentino.PRO_COM_T"
      ]
    },
    {
      "cell_type": "markdown",
      "metadata": {
        "id": "hk3wvA0_dzDW"
      },
      "source": [
        "the municipality with the smallest area is **Carzano** (022243)"
      ]
    },
    {
      "cell_type": "code",
      "execution_count": 39,
      "metadata": {
        "colab": {
          "base_uri": "https://localhost:8080/",
          "height": 602
        },
        "id": "Twce9Hy7NXAo",
        "outputId": "1dcf2508-cfbe-4f4e-915a-26a0a2ce91fb"
      },
      "outputs": [
        {
          "data": {
            "image/png": "[encoded data removed]",
            "text/plain": [
              "<Figure size 720x720 with 1 Axes>"
            ]
          },
          "metadata": {
            "needs_background": "light"
          },
          "output_type": "display_data"
        }
      ],
      "source": [
        "minarea_municipality_trentino.plot(figsize=(10,10))\n",
        "plt.show()"
      ]
    },
    {
      "cell_type": "markdown",
      "metadata": {
        "id": "Y-dS9DA5eE6U"
      },
      "source": [
        "### extract all the centroids of the areas expressed in WGS84"
      ]
    },
    {
      "cell_type": "code",
      "execution_count": 40,
      "metadata": {
        "colab": {
          "base_uri": "https://localhost:8080/"
        },
        "id": "t_74bjyYN8ru",
        "outputId": "b1244287-a876-44ae-8659-3768ed38a2be"
      },
      "outputs": [
        {
          "data": {
            "text/plain": [
              "3025    POINT (11.82683 46.24190)\n",
              "dtype: geometry"
            ]
          },
          "execution_count": 40,
          "metadata": {},
          "output_type": "execute_result"
        }
      ],
      "source": [
        "maxarea_municipality_trentino.geometry.centroid.to_crs(epsg=4326)"
      ]
    },
    {
      "cell_type": "code",
      "execution_count": 41,
      "metadata": {
        "colab": {
          "base_uri": "https://localhost:8080/"
        },
        "id": "veFfPsumePIa",
        "outputId": "68e717e3-8248-4f5b-da39-33ac527a392e"
      },
      "outputs": [
        {
          "data": {
            "text/plain": [
              "2896    POINT (11.49436 46.07497)\n",
              "dtype: geometry"
            ]
          },
          "execution_count": 41,
          "metadata": {},
          "output_type": "execute_result"
        }
      ],
      "source": [
        "minarea_municipality_trentino.geometry.centroid.to_crs(epsg=4326)"
      ]
    },
    {
      "cell_type": "markdown",
      "metadata": {
        "id": "-eJUm7csej5u"
      },
      "source": [
        "### extract a rappresenative point for the area of the smallest and bigger municipality in WGS84"
      ]
    },
    {
      "cell_type": "code",
      "execution_count": 42,
      "metadata": {
        "id": "WXJh0bs7KHMA"
      },
      "outputs": [],
      "source": [
        "representative_point_minarea_municipality = minarea_municipality_trentino.geometry.representative_point()"
      ]
    },
    {
      "cell_type": "code",
      "execution_count": 43,
      "metadata": {
        "id": "ThbYeGtdN1K6"
      },
      "outputs": [],
      "source": [
        "representative_point_maxarea_municipality = maxarea_municipality_trentino.geometry.representative_point()"
      ]
    },
    {
      "cell_type": "code",
      "execution_count": 44,
      "metadata": {
        "colab": {
          "base_uri": "https://localhost:8080/"
        },
        "id": "9oUgRfy_KKs8",
        "outputId": "b79a95a3-1958-4cc0-9ca5-ad75d13ea089"
      },
      "outputs": [
        {
          "data": {
            "text/plain": [
              "2896    POINT (11.49403 46.07235)\n",
              "dtype: geometry"
            ]
          },
          "execution_count": 44,
          "metadata": {},
          "output_type": "execute_result"
        }
      ],
      "source": [
        "representative_point_minarea_municipality.to_crs(epsg=4326)"
      ]
    },
    {
      "cell_type": "code",
      "execution_count": 45,
      "metadata": {
        "colab": {
          "base_uri": "https://localhost:8080/"
        },
        "id": "mDE69_SpOBDu",
        "outputId": "264f88d4-fd85-473b-d757-6d8518e18fa6"
      },
      "outputs": [
        {
          "data": {
            "text/plain": [
              "3025    POINT (11.83795 46.24792)\n",
              "dtype: geometry"
            ]
          },
          "execution_count": 45,
          "metadata": {},
          "output_type": "execute_result"
        }
      ],
      "source": [
        "representative_point_maxarea_municipality.to_crs(epsg=4326)"
      ]
    },
    {
      "cell_type": "markdown",
      "metadata": {
        "id": "v6FK_NSsfJQu"
      },
      "source": [
        "### save the data in GeoJSON files\n",
        "\n",
        "we can save each point in geojson "
      ]
    },
    {
      "cell_type": "code",
      "execution_count": 46,
      "metadata": {
        "id": "vkvmlRvafZ9Z"
      },
      "outputs": [],
      "source": [
        "representative_point_maxarea_municipality.to_crs(epsg=4326).to_file(\"point.geojson\",driver=\"GeoJSON\")"
      ]
    },
    {
      "cell_type": "markdown",
      "metadata": {
        "id": "rHuNahrZftl5"
      },
      "source": [
        "... but we need to create an only one file with all the data in a geojson file"
      ]
    },
    {
      "cell_type": "code",
      "execution_count": 47,
      "metadata": {
        "id": "e7nlav9JfzTS"
      },
      "outputs": [],
      "source": [
        "points = representative_point_maxarea_municipality.append(representative_point_minarea_municipality)"
      ]
    },
    {
      "cell_type": "code",
      "execution_count": 48,
      "metadata": {
        "id": "1jMx1Tz9gUQb"
      },
      "outputs": [],
      "source": [
        "points.to_crs(epsg=4326).to_file(\"points.geojson\",driver=\"GeoJSON\")"
      ]
    },
    {
      "cell_type": "markdown",
      "metadata": {
        "id": "-r_dNGcDICJs"
      },
      "source": [
        "and we can do the same with the polygons"
      ]
    },
    {
      "cell_type": "code",
      "execution_count": 49,
      "metadata": {
        "id": "Kme3ZsgFHfHp"
      },
      "outputs": [],
      "source": [
        "polygons = maxarea_municipality_trentino.append(minarea_municipality_trentino)"
      ]
    },
    {
      "cell_type": "code",
      "execution_count": 50,
      "metadata": {
        "id": "iKnoxSaQL3gX"
      },
      "outputs": [],
      "source": [
        "polygons.to_crs(epsg=4326).to_file(\"polygons.geojson\",driver=\"GeoJSON\")"
      ]
    },
    {
      "cell_type": "code",
      "execution_count": 51,
      "metadata": {
        "colab": {
          "base_uri": "https://localhost:8080/",
          "height": 17
        },
        "id": "EEJ6cY8cgc0d",
        "outputId": "60381ef4-9a92-45e2-c138-42bd0ce5a25b"
      },
      "outputs": [
        {
          "data": {
            "application/javascript": "\n    async function download(id, filename, size) {\n      if (!google.colab.kernel.accessAllowed) {\n        return;\n      }\n      const div = document.createElement('div');\n      const label = document.createElement('label');\n      label.textContent = `Downloading \"${filename}\": `;\n      div.appendChild(label);\n      const progress = document.createElement('progress');\n      progress.max = size;\n      div.appendChild(progress);\n      document.body.appendChild(div);\n\n      const buffers = [];\n      let downloaded = 0;\n\n      const channel = await google.colab.kernel.comms.open(id);\n      // Send a message to notify the kernel that we're ready.\n      channel.send({})\n\n      for await (const message of channel.messages) {\n        // Send a message to notify the kernel that we're ready.\n        channel.send({})\n        if (message.buffers) {\n          for (const buffer of message.buffers) {\n            buffers.push(buffer);\n            downloaded += buffer.byteLength;\n            progress.value = downloaded;\n          }\n        }\n      }\n      const blob = new Blob(buffers, {type: 'application/binary'});\n      const a = document.createElement('a');\n      a.href = window.URL.createObjectURL(blob);\n      a.download = filename;\n      div.appendChild(a);\n      a.click();\n      div.remove();\n    }\n  ",
            "text/plain": [
              "<IPython.core.display.Javascript object>"
            ]
          },
          "metadata": {},
          "output_type": "display_data"
        },
        {
          "data": {
            "application/javascript": "download(\"download_0fd1595e-df1b-4d25-87db-d85e5b69ade4\", \"points.geojson\", 401)",
            "text/plain": [
              "<IPython.core.display.Javascript object>"
            ]
          },
          "metadata": {},
          "output_type": "display_data"
        }
      ],
      "source": [
        "# you need to use this function only if you are working with Google Colab\n",
        "# uncomment if you want use it\n",
        "# from google.colab import files\n",
        "#files.download(\"points.geojson\")"
      ]
    },
    {
      "cell_type": "code",
      "execution_count": 52,
      "metadata": {
        "colab": {
          "base_uri": "https://localhost:8080/",
          "height": 17
        },
        "id": "25W7WcYSL0BW",
        "outputId": "204558ce-696d-4394-c245-ec434b739b3e"
      },
      "outputs": [
        {
          "data": {
            "application/javascript": "\n    async function download(id, filename, size) {\n      if (!google.colab.kernel.accessAllowed) {\n        return;\n      }\n      const div = document.createElement('div');\n      const label = document.createElement('label');\n      label.textContent = `Downloading \"${filename}\": `;\n      div.appendChild(label);\n      const progress = document.createElement('progress');\n      progress.max = size;\n      div.appendChild(progress);\n      document.body.appendChild(div);\n\n      const buffers = [];\n      let downloaded = 0;\n\n      const channel = await google.colab.kernel.comms.open(id);\n      // Send a message to notify the kernel that we're ready.\n      channel.send({})\n\n      for await (const message of channel.messages) {\n        // Send a message to notify the kernel that we're ready.\n        channel.send({})\n        if (message.buffers) {\n          for (const buffer of message.buffers) {\n            buffers.push(buffer);\n            downloaded += buffer.byteLength;\n            progress.value = downloaded;\n          }\n        }\n      }\n      const blob = new Blob(buffers, {type: 'application/binary'});\n      const a = document.createElement('a');\n      a.href = window.URL.createObjectURL(blob);\n      a.download = filename;\n      div.appendChild(a);\n      a.click();\n      div.remove();\n    }\n  ",
            "text/plain": [
              "<IPython.core.display.Javascript object>"
            ]
          },
          "metadata": {},
          "output_type": "display_data"
        },
        {
          "data": {
            "application/javascript": "download(\"download_5e85e6de-54a1-4beb-999f-31f7270c8599\", \"polygons.geojson\", 16182)",
            "text/plain": [
              "<IPython.core.display.Javascript object>"
            ]
          },
          "metadata": {},
          "output_type": "display_data"
        }
      ],
      "source": [
        "#files.download(\"polygons.geojson\")"
      ]
    },
    {
      "cell_type": "markdown",
      "metadata": {
        "id": "pDIAVUscg3xF"
      },
      "source": [
        "**tip 1**:<br/>\n",
        "you can download, open with [geojson.io](https://geojson.io) and create a [gist resource](https://gist.github.com/napo/b1d3b879bd0a93cbd3ae06be462bc873) to distribute"
      ]
    },
    {
      "cell_type": "markdown",
      "metadata": {
        "id": "5o7fd9t6Izpq"
      },
      "source": [
        "**tip 2**:<br/>\n",
        "you can download the files and create a map with [umap](https://umap.openstretmap.fr) and create an [interactive map online with the data](http://umap.openstreetmap.fr/en/map/municipalities-of-the-province-of-trento_663616#11/46.1901/11.6750)"
      ]
    },
    {
      "cell_type": "markdown",
      "metadata": {
        "id": "3M4cuG64hSBH"
      },
      "source": [
        "### calculate the distance on the geodentic between the municipality with the big area and smallest area by using the centroid\n"
      ]
    },
    {
      "cell_type": "code",
      "execution_count": 53,
      "metadata": {
        "id": "1wtbI-kf7Vh6"
      },
      "outputs": [],
      "source": [
        "to_point = minarea_municipality_trentino.geometry.centroid.values[0]"
      ]
    },
    {
      "cell_type": "code",
      "execution_count": 54,
      "metadata": {
        "colab": {
          "base_uri": "https://localhost:8080/"
        },
        "id": "E29lflS5fAph",
        "outputId": "eddd7aab-29ca-49f8-d870-dadaed2d2771"
      },
      "outputs": [
        {
          "data": {
            "text/plain": [
              "3025    31686.63797\n",
              "dtype: float64"
            ]
          },
          "execution_count": 54,
          "metadata": {},
          "output_type": "execute_result"
        }
      ],
      "source": [
        "maxarea_municipality_trentino.geometry.centroid.distance(to_point)"
      ]
    },
    {
      "cell_type": "code",
      "execution_count": 55,
      "metadata": {
        "id": "KnkXEZOs7Vh7"
      },
      "outputs": [],
      "source": [
        "distance = maxarea_municipality_trentino.geometry.centroid.distance(to_point).values[0]"
      ]
    },
    {
      "cell_type": "code",
      "execution_count": 56,
      "metadata": {
        "colab": {
          "base_uri": "https://localhost:8080/"
        },
        "id": "cl60MuiU7Vh7",
        "outputId": "b28daaf7-310e-401b-f495-ed6da652ec9a"
      },
      "outputs": [
        {
          "data": {
            "text/plain": [
              "31686.637969815347"
            ]
          },
          "execution_count": 56,
          "metadata": {},
          "output_type": "execute_result"
        }
      ],
      "source": [
        "distance"
      ]
    },
    {
      "cell_type": "markdown",
      "metadata": {
        "id": "G3w4YSq7i_Of"
      },
      "source": [
        "the distance is in meters due the CRS used on the dataset "
      ]
    },
    {
      "cell_type": "code",
      "execution_count": 57,
      "metadata": {
        "id": "h3l6OLzR7Vh8"
      },
      "outputs": [],
      "source": [
        "to_city = minarea_municipality_trentino.COMUNE.values[0]\n",
        "from_city = maxarea_municipality_trentino.COMUNE.values[0]\n",
        "distance_km = distance/1000"
      ]
    },
    {
      "cell_type": "code",
      "execution_count": 58,
      "metadata": {
        "colab": {
          "base_uri": "https://localhost:8080/"
        },
        "id": "HuMjuhhJ7Vh8",
        "outputId": "dc2bb6f1-0ced-4f63-fe59-d0aee7006f65"
      },
      "outputs": [
        {
          "name": "stdout",
          "output_type": "stream",
          "text": [
            "the distance from Primiero San Martino di Castrozza to Carzano is 31.7 km\n"
          ]
        }
      ],
      "source": [
        "print(\"the distance from %s to %s is %.1f km\" % (from_city, to_city, round(distance_km,1)))"
      ]
    },
    {
      "cell_type": "markdown",
      "metadata": {
        "id": "_ZJxuinjPKA4"
      },
      "source": [
        "### Why a representative point?"
      ]
    },
    {
      "cell_type": "markdown",
      "metadata": {
        "id": "0ISDE0HGjzAi"
      },
      "source": [
        "Where is the centroid of Liguria?\n"
      ]
    },
    {
      "cell_type": "code",
      "execution_count": 59,
      "metadata": {
        "colab": {
          "base_uri": "https://localhost:8080/"
        },
        "id": "5Hba-qxTmuQL",
        "outputId": "7cc3875e-2c19-4145-ec18-01f68d854b86"
      },
      "outputs": [
        {
          "name": "stderr",
          "output_type": "stream",
          "text": [
            "WARNING:fiona._env:File /vsimem/1023372f228c4f2f8ea69e6cbbc51fa5 has GPKG application_id, but non conformant file extension\n"
          ]
        }
      ],
      "source": [
        "regions = gpd.read_file(url,layer=\"regions\")"
      ]
    },
    {
      "cell_type": "code",
      "execution_count": 60,
      "metadata": {
        "colab": {
          "base_uri": "https://localhost:8080/"
        },
        "id": "91yTYhTBmm8U",
        "outputId": "24f81e9c-43da-4d98-efa9-051333ec8a28"
      },
      "outputs": [
        {
          "data": {
            "text/plain": [
              "array(['Piemonte', \"Valle d'Aosta\", 'Lombardia', 'Trentino-Alto Adige',\n",
              "       'Veneto', 'Friuli Venezia Giulia', 'Liguria', 'Emilia-Romagna',\n",
              "       'Toscana', 'Umbria', 'Marche', 'Lazio', 'Abruzzo', 'Molise',\n",
              "       'Campania', 'Puglia', 'Basilicata', 'Calabria', 'Sicilia',\n",
              "       'Sardegna'], dtype=object)"
            ]
          },
          "execution_count": 60,
          "metadata": {},
          "output_type": "execute_result"
        }
      ],
      "source": [
        "regions.DEN_REG.unique()"
      ]
    },
    {
      "cell_type": "code",
      "execution_count": 61,
      "metadata": {
        "colab": {
          "base_uri": "https://localhost:8080/",
          "height": 327
        },
        "id": "xiziGEkiAHJf",
        "outputId": "0abc210e-6c9f-4cc8-e919-a46b3573a5b0"
      },
      "outputs": [
        {
          "data": {
            "image/png": "[encoded data removed]",
            "text/plain": [
              "<Figure size 720x720 with 1 Axes>"
            ]
          },
          "metadata": {
            "needs_background": "light"
          },
          "output_type": "display_data"
        }
      ],
      "source": [
        "regions[regions.DEN_REG=='Liguria'].plot(figsize=(10,10))\n",
        "plt.show()"
      ]
    },
    {
      "cell_type": "code",
      "execution_count": 62,
      "metadata": {
        "id": "C3st5LyfnhNV"
      },
      "outputs": [],
      "source": [
        "regions[regions.DEN_REG=='Liguria'].to_crs(epsg=4326).to_file(\"liguria.geojson\",driver='GeoJSON')"
      ]
    },
    {
      "cell_type": "code",
      "execution_count": 63,
      "metadata": {
        "id": "XOvUmDfvAUDN"
      },
      "outputs": [],
      "source": [
        "regions[regions.DEN_REG=='Liguria'].centroid.to_crs(epsg=4326).to_file(\"liguria_centroid.geojson\",driver='GeoJSON')"
      ]
    },
    {
      "cell_type": "code",
      "execution_count": 64,
      "metadata": {
        "id": "gx8_YvuWoSWo"
      },
      "outputs": [],
      "source": [
        "regions[regions.DEN_REG=='Liguria'].representative_point().to_crs(epsg=4326).to_file(\"liguria_representative_point.geojson\",driver='GeoJSON')"
      ]
    },
    {
      "cell_type": "code",
      "execution_count": 66,
      "metadata": {
        "id": "zWUS032RnnSd"
      },
      "outputs": [],
      "source": [
        "# uncomment if you want download from Colab\n",
        "# files.download(\"liguria.geojson\")"
      ]
    },
    {
      "cell_type": "code",
      "execution_count": 67,
      "metadata": {
        "id": "k6LB1lQNnQNM"
      },
      "outputs": [],
      "source": [
        "# uncomment if you want download from Colab\n",
        "# files.download(\"liguria_centroid.geojson\")"
      ]
    },
    {
      "cell_type": "code",
      "execution_count": 65,
      "metadata": {
        "id": "rUPJnHdQoiOK"
      },
      "outputs": [],
      "source": [
        "# uncomment if you want download from Colab\n",
        "# files.download('liguria_representative_point.geojson')"
      ]
    },
    {
      "cell_type": "markdown",
      "metadata": {
        "id": "XMN9nFJDp5bL"
      },
      "source": [
        "you can upload all the geojson on [uMap](http://umap.openstreetmap.fr) to [see the result](http://umap.openstreetmap.fr/it/map/liguria_505528#8/44.058/9.075) "
      ]
    },
    {
      "cell_type": "markdown",
      "metadata": {
        "id": "hN57WvvIpy0i"
      },
      "source": [
        "![](https://raw.githubusercontent.com/napo/geospatial_course_unitn/master/images/umap_liguria.jpg)\n"
      ]
    },
    {
      "cell_type": "markdown",
      "metadata": {
        "id": "L7Z-v_fPQD3X"
      },
      "source": [
        "## 3. download the shapefile of the [lakes and bodies of water](https://github.com/napo/geospatial_course_unitn/raw/master/data/trentino/lakes_bodies_of_water_trentino.zip) of Trentino\n",
        "note: the shapefile is in Monte Mario 1"
      ]
    },
    {
      "cell_type": "code",
      "execution_count": 68,
      "metadata": {
        "id": "SjiVDTRrRSOH"
      },
      "outputs": [],
      "source": [
        "dataurl='https://github.com/napo/geospatial_course_unitn/raw/master/data/trentino/lakes_bodies_of_water_trentino.zip'\n",
        "lakes_bodies_of_water_trentino = gpd.read_file(dataurl)"
      ]
    },
    {
      "cell_type": "markdown",
      "metadata": {
        "id": "bjJ9PeeoSVgP"
      },
      "source": [
        "###  plot the geometries where Fktuso is “02”"
      ]
    },
    {
      "cell_type": "code",
      "execution_count": 69,
      "metadata": {
        "colab": {
          "base_uri": "https://localhost:8080/",
          "height": 143
        },
        "id": "iSo1ONGQRsAJ",
        "outputId": "98e8f4b1-e44f-4329-b8c6-7de9aaf8e179"
      },
      "outputs": [
        {
          "data": {
            "text/html": [
              "\n",
              "  <div id=\"df-ad821d76-7eeb-4db9-926e-daa7841450bd\">\n",
              "    <div class=\"colab-df-container\">\n",
              "      <div>\n",
              "<style scoped>\n",
              "    .dataframe tbody tr th:only-of-type {\n",
              "        vertical-align: middle;\n",
              "    }\n",
              "\n",
              "    .dataframe tbody tr th {\n",
              "        vertical-align: top;\n",
              "    }\n",
              "\n",
              "    .dataframe thead th {\n",
              "        text-align: right;\n",
              "    }\n",
              "</style>\n",
              "<table border=\"1\" class=\"dataframe\">\n",
              "  <thead>\n",
              "    <tr style=\"text-align: right;\">\n",
              "      <th></th>\n",
              "      <th>OBJECTID</th>\n",
              "      <th>NOMESPACQ</th>\n",
              "      <th>geometry</th>\n",
              "    </tr>\n",
              "  </thead>\n",
              "  <tbody>\n",
              "    <tr>\n",
              "      <th>0</th>\n",
              "      <td>29690.0</td>\n",
              "      <td>LAGO DI MOLVENO</td>\n",
              "      <td>POLYGON ((1652079.952 5111676.932, 1652079.586...</td>\n",
              "    </tr>\n",
              "    <tr>\n",
              "      <th>1</th>\n",
              "      <td>29743.0</td>\n",
              "      <td>LAGO BACINO S.I.T. - BACINO DI PONTARSO</td>\n",
              "      <td>POLYGON ((1692832.012 5109957.392, 1692832.114...</td>\n",
              "    </tr>\n",
              "    <tr>\n",
              "      <th>2</th>\n",
              "      <td>29723.0</td>\n",
              "      <td>LAGO DEL CARESER</td>\n",
              "      <td>POLYGON ((1630312.511 5142839.286, 1630311.588...</td>\n",
              "    </tr>\n",
              "  </tbody>\n",
              "</table>\n",
              "</div>\n",
              "      <button class=\"colab-df-convert\" onclick=\"convertToInteractive('df-ad821d76-7eeb-4db9-926e-daa7841450bd')\"\n",
              "              title=\"Convert this dataframe to an interactive table.\"\n",
              "              style=\"display:none;\">\n",
              "        \n",
              "  <svg xmlns=\"http://www.w3.org/2000/svg\" height=\"24px\"viewBox=\"0 0 24 24\"\n",
              "       width=\"24px\">\n",
              "    <path d=\"M0 0h24v24H0V0z\" fill=\"none\"/>\n",
              "    <path d=\"M18.56 5.44l.94 2.06.94-2.06 2.06-.94-2.06-.94-.94-2.06-.94 2.06-2.06.94zm-11 1L8.5 8.5l.94-2.06 2.06-.94-2.06-.94L8.5 2.5l-.94 2.06-2.06.94zm10 10l.94 2.06.94-2.06 2.06-.94-2.06-.94-.94-2.06-.94 2.06-2.06.94z\"/><path d=\"M17.41 7.96l-1.37-1.37c-.4-.4-.92-.59-1.43-.59-.52 0-1.04.2-1.43.59L10.3 9.45l-7.72 7.72c-.78.78-.78 2.05 0 2.83L4 21.41c.39.39.9.59 1.41.59.51 0 1.02-.2 1.41-.59l7.78-7.78 2.81-2.81c.8-.78.8-2.07 0-2.86zM5.41 20L4 18.59l7.72-7.72 1.47 1.35L5.41 20z\"/>\n",
              "  </svg>\n",
              "      </button>\n",
              "      \n",
              "  <style>\n",
              "    .colab-df-container {\n",
              "      display:flex;\n",
              "      flex-wrap:wrap;\n",
              "      gap: 12px;\n",
              "    }\n",
              "\n",
              "    .colab-df-convert {\n",
              "      background-color: #E8F0FE;\n",
              "      border: none;\n",
              "      border-radius: 50%;\n",
              "      cursor: pointer;\n",
              "      display: none;\n",
              "      fill: #1967D2;\n",
              "      height: 32px;\n",
              "      padding: 0 0 0 0;\n",
              "      width: 32px;\n",
              "    }\n",
              "\n",
              "    .colab-df-convert:hover {\n",
              "      background-color: #E2EBFA;\n",
              "      box-shadow: 0px 1px 2px rgba(60, 64, 67, 0.3), 0px 1px 3px 1px rgba(60, 64, 67, 0.15);\n",
              "      fill: #174EA6;\n",
              "    }\n",
              "\n",
              "    [theme=dark] .colab-df-convert {\n",
              "      background-color: #3B4455;\n",
              "      fill: #D2E3FC;\n",
              "    }\n",
              "\n",
              "    [theme=dark] .colab-df-convert:hover {\n",
              "      background-color: #434B5C;\n",
              "      box-shadow: 0px 1px 3px 1px rgba(0, 0, 0, 0.15);\n",
              "      filter: drop-shadow(0px 1px 2px rgba(0, 0, 0, 0.3));\n",
              "      fill: #FFFFFF;\n",
              "    }\n",
              "  </style>\n",
              "\n",
              "      <script>\n",
              "        const buttonEl =\n",
              "          document.querySelector('#df-ad821d76-7eeb-4db9-926e-daa7841450bd button.colab-df-convert');\n",
              "        buttonEl.style.display =\n",
              "          google.colab.kernel.accessAllowed ? 'block' : 'none';\n",
              "\n",
              "        async function convertToInteractive(key) {\n",
              "          const element = document.querySelector('#df-ad821d76-7eeb-4db9-926e-daa7841450bd');\n",
              "          const dataTable =\n",
              "            await google.colab.kernel.invokeFunction('convertToInteractive',\n",
              "                                                     [key], {});\n",
              "          if (!dataTable) return;\n",
              "\n",
              "          const docLinkHtml = 'Like what you see? Visit the ' +\n",
              "            '<a target=\"_blank\" href=https://colab.research.google.com/notebooks/data_table.ipynb>data table notebook</a>'\n",
              "            + ' to learn more about interactive tables.';\n",
              "          element.innerHTML = '';\n",
              "          dataTable['output_type'] = 'display_data';\n",
              "          await google.colab.output.renderOutput(dataTable, element);\n",
              "          const docLink = document.createElement('div');\n",
              "          docLink.innerHTML = docLinkHtml;\n",
              "          element.appendChild(docLink);\n",
              "        }\n",
              "      </script>\n",
              "    </div>\n",
              "  </div>\n",
              "  "
            ],
            "text/plain": [
              "   OBJECTID                                NOMESPACQ  \\\n",
              "0   29690.0                          LAGO DI MOLVENO   \n",
              "1   29743.0  LAGO BACINO S.I.T. - BACINO DI PONTARSO   \n",
              "2   29723.0                         LAGO DEL CARESER   \n",
              "\n",
              "                                            geometry  \n",
              "0  POLYGON ((1652079.952 5111676.932, 1652079.586...  \n",
              "1  POLYGON ((1692832.012 5109957.392, 1692832.114...  \n",
              "2  POLYGON ((1630312.511 5142839.286, 1630311.588...  "
            ]
          },
          "execution_count": 69,
          "metadata": {},
          "output_type": "execute_result"
        }
      ],
      "source": [
        "lakes_bodies_of_water_trentino.head(3)"
      ]
    },
    {
      "cell_type": "code",
      "execution_count": 70,
      "metadata": {
        "colab": {
          "base_uri": "https://localhost:8080/"
        },
        "id": "aNWVouzySCtY",
        "outputId": "e57af5b7-fca4-4020-e980-87f11cfcc01e"
      },
      "outputs": [
        {
          "data": {
            "text/plain": [
              "Index(['OBJECTID', 'NOMESPACQ', 'geometry'], dtype='object')"
            ]
          },
          "execution_count": 70,
          "metadata": {},
          "output_type": "execute_result"
        }
      ],
      "source": [
        "lakes_bodies_of_water_trentino.columns"
      ]
    },
    {
      "cell_type": "markdown",
      "metadata": {
        "id": "4GlpGMitSH3f"
      },
      "source": [
        "where is \"*Fktuso*\" ???\n",
        "\n",
        "*We have to analyze the ESRI Shapefile*"
      ]
    },
    {
      "cell_type": "code",
      "execution_count": 71,
      "metadata": {
        "id": "ObR6w1LxT_Wp"
      },
      "outputs": [],
      "source": [
        "os.mkdir(\"shapefile\")"
      ]
    },
    {
      "cell_type": "code",
      "execution_count": 72,
      "metadata": {
        "id": "Jg2LI30WUEbi"
      },
      "outputs": [],
      "source": [
        "os.chdir(\"shapefile\")"
      ]
    },
    {
      "cell_type": "code",
      "execution_count": 73,
      "metadata": {
        "colab": {
          "base_uri": "https://localhost:8080/"
        },
        "id": "QNYvC8IJSquN",
        "outputId": "241ad7c0-51b8-495c-daef-debac27438ad"
      },
      "outputs": [
        {
          "data": {
            "text/plain": [
              "('lakes_bodies_of_water_trentino.zip',\n",
              " <http.client.HTTPMessage at 0x7f5dcf5444d0>)"
            ]
          },
          "execution_count": 73,
          "metadata": {},
          "output_type": "execute_result"
        }
      ],
      "source": [
        "urllib.request.urlretrieve(dataurl ,\"lakes_bodies_of_water_trentino.zip\")\n"
      ]
    },
    {
      "cell_type": "code",
      "execution_count": 74,
      "metadata": {
        "id": "xrRNFV2USwUb"
      },
      "outputs": [],
      "source": [
        "import zipfile\n",
        "z = zipfile.ZipFile('lakes_bodies_of_water_trentino.zip')\n",
        "z.extractall()"
      ]
    },
    {
      "cell_type": "code",
      "execution_count": 75,
      "metadata": {
        "colab": {
          "base_uri": "https://localhost:8080/"
        },
        "id": "kfiGndTNUI7r",
        "outputId": "e5054271-323c-47f1-9f2e-18c4cb073d54"
      },
      "outputs": [
        {
          "data": {
            "text/plain": [
              "['lakes_bodies_of_water_trentino_use.dbf',\n",
              " 'lakes_bodies_of_water_trentino.shx',\n",
              " 'lakes_bodies_of_water_trentino.zip',\n",
              " 'lakes_bodies_of_water_trentino.dbf',\n",
              " 'lakes_bodies_of_water_trentino.shp']"
            ]
          },
          "execution_count": 75,
          "metadata": {},
          "output_type": "execute_result"
        }
      ],
      "source": [
        "os.listdir()"
      ]
    },
    {
      "cell_type": "markdown",
      "metadata": {
        "id": "BKqPewWDTtX7"
      },
      "source": [
        "| filenname | description  | note |\n",
        "|---|---|---|\n",
        "| lakes_bodies_of_water_trentino.shp | the file with the shapes (geometries) | ok |\n",
        "| lakes_bodies_of_water_trentino_use.dbf  | the file with the attributes | the name is NOT the same of the .shp |\n",
        "|  lakes_bodies_of_water_trentino.dbf | the file with the attributes  | the name is the same of the .shp |\n",
        "| lakes_bodies_of_water_trentino.zip  | the zip archive | it's present because downloaded | \n",
        "| lakes_bodies_of_water_trentino.shx  | the file to associate the attributes to the geometries | the name is the the of the .shp |"
      ]
    },
    {
      "cell_type": "markdown",
      "metadata": {
        "id": "pZIsjO6jXuKf"
      },
      "source": [
        "How we can use the file *lakes_bodies_of_water_trentino_use.dbf*?\n",
        "\n",
        "Try to create a shapefile from the other"
      ]
    },
    {
      "cell_type": "code",
      "execution_count": 76,
      "metadata": {
        "id": "zE_9T4dWX_wd"
      },
      "outputs": [],
      "source": [
        "from shutil import copyfile"
      ]
    },
    {
      "cell_type": "code",
      "execution_count": 77,
      "metadata": {
        "colab": {
          "base_uri": "https://localhost:8080/",
          "height": 35
        },
        "id": "KOwjt9A4YSUM",
        "outputId": "8ae5043b-3bb9-4eb1-d85b-cbb1547ca9ba"
      },
      "outputs": [
        {
          "data": {
            "application/vnd.google.colaboratory.intrinsic+json": {
              "type": "string"
            },
            "text/plain": [
              "'lakes_bodies_of_water_trentino_use.shp'"
            ]
          },
          "execution_count": 77,
          "metadata": {},
          "output_type": "execute_result"
        }
      ],
      "source": [
        "copyfile(\"lakes_bodies_of_water_trentino.shp\",\"lakes_bodies_of_water_trentino_use.shp\")"
      ]
    },
    {
      "cell_type": "code",
      "execution_count": 78,
      "metadata": {
        "colab": {
          "base_uri": "https://localhost:8080/",
          "height": 35
        },
        "id": "vVH6RI5KYf9G",
        "outputId": "939d3fc0-fea7-4c84-d466-b541f3a01afd"
      },
      "outputs": [
        {
          "data": {
            "application/vnd.google.colaboratory.intrinsic+json": {
              "type": "string"
            },
            "text/plain": [
              "'lakes_bodies_of_water_trentino_use.shx'"
            ]
          },
          "execution_count": 78,
          "metadata": {},
          "output_type": "execute_result"
        }
      ],
      "source": [
        "copyfile(\"lakes_bodies_of_water_trentino.shx\",\"lakes_bodies_of_water_trentino_use.shx\")"
      ]
    },
    {
      "cell_type": "code",
      "execution_count": 79,
      "metadata": {
        "id": "Fci0RyU8YhAN"
      },
      "outputs": [],
      "source": [
        "lakes_bodies_of_water_trentino_use =  gpd.read_file(\"lakes_bodies_of_water_trentino_use.shp\")"
      ]
    },
    {
      "cell_type": "code",
      "execution_count": 80,
      "metadata": {
        "colab": {
          "base_uri": "https://localhost:8080/"
        },
        "id": "XG2RYo21YucY",
        "outputId": "c3a82622-1ab7-46f6-dca7-4d1514b05105"
      },
      "outputs": [
        {
          "data": {
            "text/plain": [
              "Index(['FKTUSO', 'geometry'], dtype='object')"
            ]
          },
          "execution_count": 80,
          "metadata": {},
          "output_type": "execute_result"
        }
      ],
      "source": [
        "lakes_bodies_of_water_trentino_use.columns"
      ]
    },
    {
      "cell_type": "markdown",
      "metadata": {
        "id": "ttQQC19gYylb"
      },
      "source": [
        "there is the attribute \"FTKUSO\" ... "
      ]
    },
    {
      "cell_type": "code",
      "execution_count": 81,
      "metadata": {
        "colab": {
          "base_uri": "https://localhost:8080/"
        },
        "id": "FIxvQfy7Y_Rd",
        "outputId": "60083299-0be6-4926-cb88-8012ffa8f478"
      },
      "outputs": [
        {
          "data": {
            "text/plain": [
              "array(['0101', '92', '0191', '0192', '02', '0102'], dtype=object)"
            ]
          },
          "execution_count": 81,
          "metadata": {},
          "output_type": "execute_result"
        }
      ],
      "source": [
        "lakes_bodies_of_water_trentino_use.FKTUSO.unique()"
      ]
    },
    {
      "cell_type": "markdown",
      "metadata": {
        "id": "Q4jfkRBuZLGy"
      },
      "source": [
        "... and there is also the value \"02\""
      ]
    },
    {
      "cell_type": "code",
      "execution_count": 82,
      "metadata": {
        "id": "FzSu9hrEY5od"
      },
      "outputs": [],
      "source": [
        "ftkuso02 = lakes_bodies_of_water_trentino_use[lakes_bodies_of_water_trentino_use.FKTUSO=='02']"
      ]
    },
    {
      "cell_type": "code",
      "execution_count": 83,
      "metadata": {
        "colab": {
          "base_uri": "https://localhost:8080/",
          "height": 616
        },
        "id": "_5kol7f1Zs-H",
        "outputId": "3b1fb243-3ce6-4fe8-858b-9820cc4ae13f"
      },
      "outputs": [
        {
          "data": {
            "image/png": "[encoded data removed]",
            "text/plain": [
              "<Figure size 720x720 with 1 Axes>"
            ]
          },
          "metadata": {
            "needs_background": "light"
          },
          "output_type": "display_data"
        }
      ],
      "source": [
        "ftkuso02.plot(figsize=(10,10))\n",
        "plt.show()"
      ]
    },
    {
      "cell_type": "markdown",
      "metadata": {
        "id": "l5KtwWBKZXF4"
      },
      "source": [
        "### convert in WGS84 and create a geojson"
      ]
    },
    {
      "cell_type": "code",
      "execution_count": 84,
      "metadata": {
        "colab": {
          "base_uri": "https://localhost:8080/",
          "height": 313
        },
        "id": "DyH5-bM1ZlIO",
        "outputId": "7d0e9b76-5467-4c1f-ad81-3c4aefce5b1e"
      },
      "outputs": [
        {
          "ename": "ValueError",
          "evalue": "ignored",
          "output_type": "error",
          "traceback": [
            "\u001b[0;31m---------------------------------------------------------------------------\u001b[0m",
            "\u001b[0;31mValueError\u001b[0m                                Traceback (most recent call last)",
            "\u001b[0;32m<ipython-input-84-cce14c4aa588>\u001b[0m in \u001b[0;36m<module>\u001b[0;34m\u001b[0m\n\u001b[0;32m----> 1\u001b[0;31m \u001b[0mftkuso02\u001b[0m\u001b[0;34m.\u001b[0m\u001b[0mto_crs\u001b[0m\u001b[0;34m(\u001b[0m\u001b[0mepsg\u001b[0m\u001b[0;34m=\u001b[0m\u001b[0;36m4326\u001b[0m\u001b[0;34m)\u001b[0m\u001b[0;34m\u001b[0m\u001b[0;34m\u001b[0m\u001b[0m\n\u001b[0m",
            "\u001b[0;32m/usr/local/lib/python3.7/dist-packages/geopandas/geodataframe.py\u001b[0m in \u001b[0;36mto_crs\u001b[0;34m(self, crs, epsg, inplace)\u001b[0m\n\u001b[1;32m   1273\u001b[0m         \u001b[0;32melse\u001b[0m\u001b[0;34m:\u001b[0m\u001b[0;34m\u001b[0m\u001b[0;34m\u001b[0m\u001b[0m\n\u001b[1;32m   1274\u001b[0m             \u001b[0mdf\u001b[0m \u001b[0;34m=\u001b[0m \u001b[0mself\u001b[0m\u001b[0;34m.\u001b[0m\u001b[0mcopy\u001b[0m\u001b[0;34m(\u001b[0m\u001b[0;34m)\u001b[0m\u001b[0;34m\u001b[0m\u001b[0;34m\u001b[0m\u001b[0m\n\u001b[0;32m-> 1275\u001b[0;31m         \u001b[0mgeom\u001b[0m \u001b[0;34m=\u001b[0m \u001b[0mdf\u001b[0m\u001b[0;34m.\u001b[0m\u001b[0mgeometry\u001b[0m\u001b[0;34m.\u001b[0m\u001b[0mto_crs\u001b[0m\u001b[0;34m(\u001b[0m\u001b[0mcrs\u001b[0m\u001b[0;34m=\u001b[0m\u001b[0mcrs\u001b[0m\u001b[0;34m,\u001b[0m \u001b[0mepsg\u001b[0m\u001b[0;34m=\u001b[0m\u001b[0mepsg\u001b[0m\u001b[0;34m)\u001b[0m\u001b[0;34m\u001b[0m\u001b[0;34m\u001b[0m\u001b[0m\n\u001b[0m\u001b[1;32m   1276\u001b[0m         \u001b[0mdf\u001b[0m\u001b[0;34m.\u001b[0m\u001b[0mgeometry\u001b[0m \u001b[0;34m=\u001b[0m \u001b[0mgeom\u001b[0m\u001b[0;34m\u001b[0m\u001b[0;34m\u001b[0m\u001b[0m\n\u001b[1;32m   1277\u001b[0m         \u001b[0mdf\u001b[0m\u001b[0;34m.\u001b[0m\u001b[0mcrs\u001b[0m \u001b[0;34m=\u001b[0m \u001b[0mgeom\u001b[0m\u001b[0;34m.\u001b[0m\u001b[0mcrs\u001b[0m\u001b[0;34m\u001b[0m\u001b[0;34m\u001b[0m\u001b[0m\n",
            "\u001b[0;32m/usr/local/lib/python3.7/dist-packages/geopandas/geoseries.py\u001b[0m in \u001b[0;36mto_crs\u001b[0;34m(self, crs, epsg)\u001b[0m\n\u001b[1;32m   1118\u001b[0m         \"\"\"\n\u001b[1;32m   1119\u001b[0m         return GeoSeries(\n\u001b[0;32m-> 1120\u001b[0;31m             \u001b[0mself\u001b[0m\u001b[0;34m.\u001b[0m\u001b[0mvalues\u001b[0m\u001b[0;34m.\u001b[0m\u001b[0mto_crs\u001b[0m\u001b[0;34m(\u001b[0m\u001b[0mcrs\u001b[0m\u001b[0;34m=\u001b[0m\u001b[0mcrs\u001b[0m\u001b[0;34m,\u001b[0m \u001b[0mepsg\u001b[0m\u001b[0;34m=\u001b[0m\u001b[0mepsg\u001b[0m\u001b[0;34m)\u001b[0m\u001b[0;34m,\u001b[0m \u001b[0mindex\u001b[0m\u001b[0;34m=\u001b[0m\u001b[0mself\u001b[0m\u001b[0;34m.\u001b[0m\u001b[0mindex\u001b[0m\u001b[0;34m,\u001b[0m \u001b[0mname\u001b[0m\u001b[0;34m=\u001b[0m\u001b[0mself\u001b[0m\u001b[0;34m.\u001b[0m\u001b[0mname\u001b[0m\u001b[0;34m\u001b[0m\u001b[0;34m\u001b[0m\u001b[0m\n\u001b[0m\u001b[1;32m   1121\u001b[0m         )\n\u001b[1;32m   1122\u001b[0m \u001b[0;34m\u001b[0m\u001b[0m\n",
            "\u001b[0;32m/usr/local/lib/python3.7/dist-packages/geopandas/array.py\u001b[0m in \u001b[0;36mto_crs\u001b[0;34m(self, crs, epsg)\u001b[0m\n\u001b[1;32m    762\u001b[0m         \u001b[0;32mif\u001b[0m \u001b[0mself\u001b[0m\u001b[0;34m.\u001b[0m\u001b[0mcrs\u001b[0m \u001b[0;32mis\u001b[0m \u001b[0;32mNone\u001b[0m\u001b[0;34m:\u001b[0m\u001b[0;34m\u001b[0m\u001b[0;34m\u001b[0m\u001b[0m\n\u001b[1;32m    763\u001b[0m             raise ValueError(\n\u001b[0;32m--> 764\u001b[0;31m                 \u001b[0;34m\"Cannot transform naive geometries.  \"\u001b[0m\u001b[0;34m\u001b[0m\u001b[0;34m\u001b[0m\u001b[0m\n\u001b[0m\u001b[1;32m    765\u001b[0m                 \u001b[0;34m\"Please set a crs on the object first.\"\u001b[0m\u001b[0;34m\u001b[0m\u001b[0;34m\u001b[0m\u001b[0m\n\u001b[1;32m    766\u001b[0m             )\n",
            "\u001b[0;31mValueError\u001b[0m: Cannot transform naive geometries.  Please set a crs on the object first."
          ]
        }
      ],
      "source": [
        "ftkuso02.to_crs(epsg=4326)"
      ]
    },
    {
      "cell_type": "markdown",
      "metadata": {
        "id": "6tniYjPVZ5xD"
      },
      "source": [
        "ERROR: \n",
        "*Cannot transform naive geometries.  Please set a crs on the object first.*\n",
        "\n",
        "The geodataframe is without the CRS\n",
        "\n",
        "If you check again all the files contained in the zip archive *the .prj file is not present!!!*\n",
        "\n",
        "You need to create it!\n",
        "\n",
        "THe note says \"*projection Monte Mario zone 1*\" \n",
        "\n",
        "This is enough to search the right epsg code on https://epsg.io with the query [\"Monte Mario 1\"](http://epsg.io/?q=Monte+Mario+zone+1)\n",
        "\n",
        "\n",
        "![](https://raw.githubusercontent.com/napo/geospatial_course_unitn/master/images/epsg3003.png)\n",
        "\n",
        "\n",
        "where the EPSG code is 3003\n",
        "\n",
        "\n",
        "the solution can be possible in two ways:\n",
        "\n",
        "1 - assign the CRS to the geodataframe\n"
      ]
    },
    {
      "cell_type": "code",
      "execution_count": 85,
      "metadata": {
        "colab": {
          "base_uri": "https://localhost:8080/",
          "height": 112
        },
        "id": "eLyHanMcZxfZ",
        "outputId": "792bede7-1eee-4f4b-9e6f-35fd00741cc5"
      },
      "outputs": [
        {
          "data": {
            "text/html": [
              "\n",
              "  <div id=\"df-24c4cec7-9c0e-4453-8b92-46c44eea2a08\">\n",
              "    <div class=\"colab-df-container\">\n",
              "      <div>\n",
              "<style scoped>\n",
              "    .dataframe tbody tr th:only-of-type {\n",
              "        vertical-align: middle;\n",
              "    }\n",
              "\n",
              "    .dataframe tbody tr th {\n",
              "        vertical-align: top;\n",
              "    }\n",
              "\n",
              "    .dataframe thead th {\n",
              "        text-align: right;\n",
              "    }\n",
              "</style>\n",
              "<table border=\"1\" class=\"dataframe\">\n",
              "  <thead>\n",
              "    <tr style=\"text-align: right;\">\n",
              "      <th></th>\n",
              "      <th>FKTUSO</th>\n",
              "      <th>geometry</th>\n",
              "    </tr>\n",
              "  </thead>\n",
              "  <tbody>\n",
              "    <tr>\n",
              "      <th>43</th>\n",
              "      <td>02</td>\n",
              "      <td>POLYGON ((1620506.057 5076599.354, 1620506.479...</td>\n",
              "    </tr>\n",
              "    <tr>\n",
              "      <th>56</th>\n",
              "      <td>02</td>\n",
              "      <td>POLYGON ((1620419.156 5075908.883, 1620417.568...</td>\n",
              "    </tr>\n",
              "  </tbody>\n",
              "</table>\n",
              "</div>\n",
              "      <button class=\"colab-df-convert\" onclick=\"convertToInteractive('df-24c4cec7-9c0e-4453-8b92-46c44eea2a08')\"\n",
              "              title=\"Convert this dataframe to an interactive table.\"\n",
              "              style=\"display:none;\">\n",
              "        \n",
              "  <svg xmlns=\"http://www.w3.org/2000/svg\" height=\"24px\"viewBox=\"0 0 24 24\"\n",
              "       width=\"24px\">\n",
              "    <path d=\"M0 0h24v24H0V0z\" fill=\"none\"/>\n",
              "    <path d=\"M18.56 5.44l.94 2.06.94-2.06 2.06-.94-2.06-.94-.94-2.06-.94 2.06-2.06.94zm-11 1L8.5 8.5l.94-2.06 2.06-.94-2.06-.94L8.5 2.5l-.94 2.06-2.06.94zm10 10l.94 2.06.94-2.06 2.06-.94-2.06-.94-.94-2.06-.94 2.06-2.06.94z\"/><path d=\"M17.41 7.96l-1.37-1.37c-.4-.4-.92-.59-1.43-.59-.52 0-1.04.2-1.43.59L10.3 9.45l-7.72 7.72c-.78.78-.78 2.05 0 2.83L4 21.41c.39.39.9.59 1.41.59.51 0 1.02-.2 1.41-.59l7.78-7.78 2.81-2.81c.8-.78.8-2.07 0-2.86zM5.41 20L4 18.59l7.72-7.72 1.47 1.35L5.41 20z\"/>\n",
              "  </svg>\n",
              "      </button>\n",
              "      \n",
              "  <style>\n",
              "    .colab-df-container {\n",
              "      display:flex;\n",
              "      flex-wrap:wrap;\n",
              "      gap: 12px;\n",
              "    }\n",
              "\n",
              "    .colab-df-convert {\n",
              "      background-color: #E8F0FE;\n",
              "      border: none;\n",
              "      border-radius: 50%;\n",
              "      cursor: pointer;\n",
              "      display: none;\n",
              "      fill: #1967D2;\n",
              "      height: 32px;\n",
              "      padding: 0 0 0 0;\n",
              "      width: 32px;\n",
              "    }\n",
              "\n",
              "    .colab-df-convert:hover {\n",
              "      background-color: #E2EBFA;\n",
              "      box-shadow: 0px 1px 2px rgba(60, 64, 67, 0.3), 0px 1px 3px 1px rgba(60, 64, 67, 0.15);\n",
              "      fill: #174EA6;\n",
              "    }\n",
              "\n",
              "    [theme=dark] .colab-df-convert {\n",
              "      background-color: #3B4455;\n",
              "      fill: #D2E3FC;\n",
              "    }\n",
              "\n",
              "    [theme=dark] .colab-df-convert:hover {\n",
              "      background-color: #434B5C;\n",
              "      box-shadow: 0px 1px 3px 1px rgba(0, 0, 0, 0.15);\n",
              "      filter: drop-shadow(0px 1px 2px rgba(0, 0, 0, 0.3));\n",
              "      fill: #FFFFFF;\n",
              "    }\n",
              "  </style>\n",
              "\n",
              "      <script>\n",
              "        const buttonEl =\n",
              "          document.querySelector('#df-24c4cec7-9c0e-4453-8b92-46c44eea2a08 button.colab-df-convert');\n",
              "        buttonEl.style.display =\n",
              "          google.colab.kernel.accessAllowed ? 'block' : 'none';\n",
              "\n",
              "        async function convertToInteractive(key) {\n",
              "          const element = document.querySelector('#df-24c4cec7-9c0e-4453-8b92-46c44eea2a08');\n",
              "          const dataTable =\n",
              "            await google.colab.kernel.invokeFunction('convertToInteractive',\n",
              "                                                     [key], {});\n",
              "          if (!dataTable) return;\n",
              "\n",
              "          const docLinkHtml = 'Like what you see? Visit the ' +\n",
              "            '<a target=\"_blank\" href=https://colab.research.google.com/notebooks/data_table.ipynb>data table notebook</a>'\n",
              "            + ' to learn more about interactive tables.';\n",
              "          element.innerHTML = '';\n",
              "          dataTable['output_type'] = 'display_data';\n",
              "          await google.colab.output.renderOutput(dataTable, element);\n",
              "          const docLink = document.createElement('div');\n",
              "          docLink.innerHTML = docLinkHtml;\n",
              "          element.appendChild(docLink);\n",
              "        }\n",
              "      </script>\n",
              "    </div>\n",
              "  </div>\n",
              "  "
            ],
            "text/plain": [
              "   FKTUSO                                           geometry\n",
              "43     02  POLYGON ((1620506.057 5076599.354, 1620506.479...\n",
              "56     02  POLYGON ((1620419.156 5075908.883, 1620417.568..."
            ]
          },
          "execution_count": 85,
          "metadata": {},
          "output_type": "execute_result"
        }
      ],
      "source": [
        "ftkuso02.set_crs(epsg=3003,inplace=True,allow_override=True)"
      ]
    },
    {
      "cell_type": "code",
      "execution_count": 86,
      "metadata": {
        "colab": {
          "base_uri": "https://localhost:8080/",
          "height": 112
        },
        "id": "dfDrTAqpdaV3",
        "outputId": "0d5e9adb-80b1-499b-9d75-7760252e994b"
      },
      "outputs": [
        {
          "data": {
            "text/html": [
              "\n",
              "  <div id=\"df-ea27063c-11c9-4118-9c78-e0b0437f2197\">\n",
              "    <div class=\"colab-df-container\">\n",
              "      <div>\n",
              "<style scoped>\n",
              "    .dataframe tbody tr th:only-of-type {\n",
              "        vertical-align: middle;\n",
              "    }\n",
              "\n",
              "    .dataframe tbody tr th {\n",
              "        vertical-align: top;\n",
              "    }\n",
              "\n",
              "    .dataframe thead th {\n",
              "        text-align: right;\n",
              "    }\n",
              "</style>\n",
              "<table border=\"1\" class=\"dataframe\">\n",
              "  <thead>\n",
              "    <tr style=\"text-align: right;\">\n",
              "      <th></th>\n",
              "      <th>FKTUSO</th>\n",
              "      <th>geometry</th>\n",
              "    </tr>\n",
              "  </thead>\n",
              "  <tbody>\n",
              "    <tr>\n",
              "      <th>43</th>\n",
              "      <td>02</td>\n",
              "      <td>POLYGON ((10.55121 45.83224, 10.55122 45.83226...</td>\n",
              "    </tr>\n",
              "    <tr>\n",
              "      <th>56</th>\n",
              "      <td>02</td>\n",
              "      <td>POLYGON ((10.54992 45.82605, 10.54990 45.82604...</td>\n",
              "    </tr>\n",
              "  </tbody>\n",
              "</table>\n",
              "</div>\n",
              "      <button class=\"colab-df-convert\" onclick=\"convertToInteractive('df-ea27063c-11c9-4118-9c78-e0b0437f2197')\"\n",
              "              title=\"Convert this dataframe to an interactive table.\"\n",
              "              style=\"display:none;\">\n",
              "        \n",
              "  <svg xmlns=\"http://www.w3.org/2000/svg\" height=\"24px\"viewBox=\"0 0 24 24\"\n",
              "       width=\"24px\">\n",
              "    <path d=\"M0 0h24v24H0V0z\" fill=\"none\"/>\n",
              "    <path d=\"M18.56 5.44l.94 2.06.94-2.06 2.06-.94-2.06-.94-.94-2.06-.94 2.06-2.06.94zm-11 1L8.5 8.5l.94-2.06 2.06-.94-2.06-.94L8.5 2.5l-.94 2.06-2.06.94zm10 10l.94 2.06.94-2.06 2.06-.94-2.06-.94-.94-2.06-.94 2.06-2.06.94z\"/><path d=\"M17.41 7.96l-1.37-1.37c-.4-.4-.92-.59-1.43-.59-.52 0-1.04.2-1.43.59L10.3 9.45l-7.72 7.72c-.78.78-.78 2.05 0 2.83L4 21.41c.39.39.9.59 1.41.59.51 0 1.02-.2 1.41-.59l7.78-7.78 2.81-2.81c.8-.78.8-2.07 0-2.86zM5.41 20L4 18.59l7.72-7.72 1.47 1.35L5.41 20z\"/>\n",
              "  </svg>\n",
              "      </button>\n",
              "      \n",
              "  <style>\n",
              "    .colab-df-container {\n",
              "      display:flex;\n",
              "      flex-wrap:wrap;\n",
              "      gap: 12px;\n",
              "    }\n",
              "\n",
              "    .colab-df-convert {\n",
              "      background-color: #E8F0FE;\n",
              "      border: none;\n",
              "      border-radius: 50%;\n",
              "      cursor: pointer;\n",
              "      display: none;\n",
              "      fill: #1967D2;\n",
              "      height: 32px;\n",
              "      padding: 0 0 0 0;\n",
              "      width: 32px;\n",
              "    }\n",
              "\n",
              "    .colab-df-convert:hover {\n",
              "      background-color: #E2EBFA;\n",
              "      box-shadow: 0px 1px 2px rgba(60, 64, 67, 0.3), 0px 1px 3px 1px rgba(60, 64, 67, 0.15);\n",
              "      fill: #174EA6;\n",
              "    }\n",
              "\n",
              "    [theme=dark] .colab-df-convert {\n",
              "      background-color: #3B4455;\n",
              "      fill: #D2E3FC;\n",
              "    }\n",
              "\n",
              "    [theme=dark] .colab-df-convert:hover {\n",
              "      background-color: #434B5C;\n",
              "      box-shadow: 0px 1px 3px 1px rgba(0, 0, 0, 0.15);\n",
              "      filter: drop-shadow(0px 1px 2px rgba(0, 0, 0, 0.3));\n",
              "      fill: #FFFFFF;\n",
              "    }\n",
              "  </style>\n",
              "\n",
              "      <script>\n",
              "        const buttonEl =\n",
              "          document.querySelector('#df-ea27063c-11c9-4118-9c78-e0b0437f2197 button.colab-df-convert');\n",
              "        buttonEl.style.display =\n",
              "          google.colab.kernel.accessAllowed ? 'block' : 'none';\n",
              "\n",
              "        async function convertToInteractive(key) {\n",
              "          const element = document.querySelector('#df-ea27063c-11c9-4118-9c78-e0b0437f2197');\n",
              "          const dataTable =\n",
              "            await google.colab.kernel.invokeFunction('convertToInteractive',\n",
              "                                                     [key], {});\n",
              "          if (!dataTable) return;\n",
              "\n",
              "          const docLinkHtml = 'Like what you see? Visit the ' +\n",
              "            '<a target=\"_blank\" href=https://colab.research.google.com/notebooks/data_table.ipynb>data table notebook</a>'\n",
              "            + ' to learn more about interactive tables.';\n",
              "          element.innerHTML = '';\n",
              "          dataTable['output_type'] = 'display_data';\n",
              "          await google.colab.output.renderOutput(dataTable, element);\n",
              "          const docLink = document.createElement('div');\n",
              "          docLink.innerHTML = docLinkHtml;\n",
              "          element.appendChild(docLink);\n",
              "        }\n",
              "      </script>\n",
              "    </div>\n",
              "  </div>\n",
              "  "
            ],
            "text/plain": [
              "   FKTUSO                                           geometry\n",
              "43     02  POLYGON ((10.55121 45.83224, 10.55122 45.83226...\n",
              "56     02  POLYGON ((10.54992 45.82605, 10.54990 45.82604..."
            ]
          },
          "execution_count": 86,
          "metadata": {},
          "output_type": "execute_result"
        }
      ],
      "source": [
        "ftkuso02.to_crs(epsg=4326)"
      ]
    },
    {
      "cell_type": "markdown",
      "metadata": {
        "id": "kviLMJYrduPV"
      },
      "source": [
        "this approach solves the problem but keeps the error in the data source.<br/>\n",
        "Keeping this approach, it is advisable to apply the assignment of the CRS to the initial geodataframe and, if necessary, to export the geodatrafame in ESRi Shapefile (or other format)"
      ]
    },
    {
      "cell_type": "markdown",
      "metadata": {
        "id": "3lHiWvN8dinh"
      },
      "source": [
        "2 - create a file with the name *lakes_bodies_of_water_trentino_use.prj* that contains the right string in WKT for the proj conversion.\n",
        "\n",
        "You can obtain the right file by simple download the right string from epsg.io in this way\n",
        "\n",
        "https://epsg.io/3003.wkt\n",
        "\n",
        "simple by adding .wkt to the url\n",
        "\n",
        "this is the answer\n",
        "\n",
        "``` javascript\n",
        "PROJCS[\"Monte Mario / Italy zone 1\",\n",
        "    GEOGCS[\"Monte Mario\",\n",
        "        DATUM[\"Monte_Mario\",\n",
        "            SPHEROID[\"International 1924\",6378388,297,\n",
        "                AUTHORITY[\"EPSG\",\"7022\"]],\n",
        "            TOWGS84[-104.1,-49.1,-9.9,0.971,-2.917,0.714,-11.68],\n",
        "            AUTHORITY[\"EPSG\",\"6265\"]],\n",
        "        PRIMEM[\"Greenwich\",0,\n",
        "            AUTHORITY[\"EPSG\",\"8901\"]],\n",
        "        UNIT[\"degree\",0.0174532925199433,\n",
        "            AUTHORITY[\"EPSG\",\"9122\"]],\n",
        "        AUTHORITY[\"EPSG\",\"4265\"]],\n",
        "    PROJECTION[\"Transverse_Mercator\"],\n",
        "    PARAMETER[\"latitude_of_origin\",0],\n",
        "    PARAMETER[\"central_meridian\",9],\n",
        "    PARAMETER[\"scale_factor\",0.9996],\n",
        "    PARAMETER[\"false_easting\",1500000],\n",
        "    PARAMETER[\"false_northing\",0],\n",
        "    UNIT[\"metre\",1,\n",
        "        AUTHORITY[\"EPSG\",\"9001\"]],\n",
        "    AXIS[\"X\",EAST],\n",
        "    AXIS[\"Y\",NORTH],\n",
        "    AUTHORITY[\"EPSG\",\"3003\"]]\n",
        "\n",
        "```"
      ]
    },
    {
      "cell_type": "code",
      "execution_count": 90,
      "metadata": {
        "id": "y28Nd8wogAs0"
      },
      "outputs": [],
      "source": [
        "url = \"https://epsg.io/3003.wkt\"\n",
        "opener = urllib.request.URLopener()\n",
        "opener.addheader('User-Agent', 'Geospatial Course Unitn')\n",
        "filename, headers = opener.retrieve(url, 'lakes_bodies_of_water_trentino_use.prj')"
      ]
    },
    {
      "cell_type": "markdown",
      "metadata": {
        "id": "6eFifaCblvP0"
      },
      "source": [
        ".. it's better create a copy also for the original .shp file"
      ]
    },
    {
      "cell_type": "code",
      "execution_count": 91,
      "metadata": {
        "colab": {
          "base_uri": "https://localhost:8080/",
          "height": 35
        },
        "id": "ELLCXhIjlzUi",
        "outputId": "da77199d-64a7-4bec-dab0-c8d1f1310d04"
      },
      "outputs": [
        {
          "data": {
            "application/vnd.google.colaboratory.intrinsic+json": {
              "type": "string"
            },
            "text/plain": [
              "'lakes_bodies_of_water_trentino.prj'"
            ]
          },
          "execution_count": 91,
          "metadata": {},
          "output_type": "execute_result"
        }
      ],
      "source": [
        "copyfile(\"lakes_bodies_of_water_trentino_use.prj\",\"lakes_bodies_of_water_trentino.prj\")"
      ]
    },
    {
      "cell_type": "markdown",
      "metadata": {
        "id": "HK6d-eWdl9mo"
      },
      "source": [
        ".. and now it's necessary to recreate the geodataframe and repeat the operations"
      ]
    },
    {
      "cell_type": "code",
      "execution_count": 92,
      "metadata": {
        "id": "HJSJ8V7rmKAe"
      },
      "outputs": [],
      "source": [
        "lakes_bodies_of_water_trentino_use = gpd.read_file(\"lakes_bodies_of_water_trentino_use.shp\")"
      ]
    },
    {
      "cell_type": "code",
      "execution_count": 93,
      "metadata": {
        "colab": {
          "base_uri": "https://localhost:8080/"
        },
        "id": "N-KckKK6mU8x",
        "outputId": "9ba56bdd-3d5c-4389-c71c-56a09022efd7"
      },
      "outputs": [
        {
          "data": {
            "text/plain": [
              "<Projected CRS: EPSG:3003>\n",
              "Name: Monte Mario / Italy zone 1\n",
              "Axis Info [cartesian]:\n",
              "- X[east]: Easting (metre)\n",
              "- Y[north]: Northing (metre)\n",
              "Area of Use:\n",
              "- name: Italy - onshore and offshore - west of 12°E.\n",
              "- bounds: (5.94, 36.53, 12.0, 47.04)\n",
              "Coordinate Operation:\n",
              "- name: Italy zone 1\n",
              "- method: Transverse Mercator\n",
              "Datum: Monte Mario\n",
              "- Ellipsoid: International 1924\n",
              "- Prime Meridian: Greenwich"
            ]
          },
          "execution_count": 93,
          "metadata": {},
          "output_type": "execute_result"
        }
      ],
      "source": [
        "lakes_bodies_of_water_trentino_use.crs"
      ]
    },
    {
      "cell_type": "markdown",
      "metadata": {
        "id": "KZeS_7HsmZ9b"
      },
      "source": [
        "Now it's ok ;)"
      ]
    },
    {
      "cell_type": "code",
      "execution_count": 94,
      "metadata": {
        "id": "8ejJDNa5l8vF"
      },
      "outputs": [],
      "source": [
        "ftkuso02 = lakes_bodies_of_water_trentino_use[lakes_bodies_of_water_trentino_use.FKTUSO=='02']"
      ]
    },
    {
      "cell_type": "markdown",
      "metadata": {
        "id": "KbImvB-gmsAn"
      },
      "source": [
        "... and create the geojson file in wgs84"
      ]
    },
    {
      "cell_type": "code",
      "execution_count": 95,
      "metadata": {
        "id": "YCWTzbfBmf9Y"
      },
      "outputs": [],
      "source": [
        "ftkuso02.to_crs(epsg=4326).to_file(\"ftkuso02.geojson\",driver=\"GeoJSON\")"
      ]
    },
    {
      "cell_type": "code",
      "execution_count": null,
      "metadata": {
        "id": "D61M_p3am1fR"
      },
      "outputs": [],
      "source": [
        "# uncomment if you want download from Colab\n",
        "# files.download(\"ftkuso02.geojson\")"
      ]
    },
    {
      "cell_type": "markdown",
      "metadata": {
        "id": "_qNEldiIu3i3"
      },
      "source": [
        "... and here the areas over a satellite image\n",
        "\n",
        "![](https://raw.githubusercontent.com/napo/geospatial_course_unitn/master/images/lakesftk20.png)"
      ]
    }
  ],
  "metadata": {
    "colab": {
      "collapsed_sections": [
        "9T1Sft2nHpK8"
      ],
      "provenance": []
    },
    "interpreter": {
      "hash": "e7370f93d1d0cde622a1f8e1c04877d8463912d04d973331ad4851f04de6915a"
    },
    "kernelspec": {
      "display_name": "Python 3.9.5 64-bit",
      "name": "python3"
    },
    "language_info": {
      "codemirror_mode": {
        "name": "ipython",
        "version": 3
      },
      "file_extension": ".py",
      "mimetype": "text/x-python",
      "name": "python",
      "nbconvert_exporter": "python",
      "pygments_lexer": "ipython3",
      "version": "3.9.5"
    }
  },
  "nbformat": 4,
  "nbformat_minor": 0
}
